{
  "nbformat": 4,
  "nbformat_minor": 0,
  "metadata": {
    "colab": {
      "provenance": [],
      "toc_visible": true
    },
    "kernelspec": {
      "name": "python3",
      "display_name": "Python 3"
    },
    "language_info": {
      "name": "python"
    }
  },
  "cells": [
    {
      "cell_type": "markdown",
      "source": [
        "# Day 0: Chaos, alfajores, and the start of an epic journey to Antarctica\n",
        "\n",
        "My Antartica adventure began, not with a gentle glide into tranquility, but with a chaotic sprint into the heart of city life in Buenos Aires and Montevideo! This leg of the trip was sometimes bumpy, always exciting, from the tornado-threatened departure in San Francisco to the moment I finally stepped aboard the majestic Oosterdam. Ultimate destination: Antarctica, Patagonia, and the Chilean fjords."
      ],
      "metadata": {
        "id": "HnOoIC8X4sNl"
      }
    },
    {
      "cell_type": "code",
      "source": [
        "#@title Installation and setup\n",
        "!pip install --quiet geopy meteostat\n",
        "\n",
        "import requests\n",
        "from google.colab import userdata\n",
        "from datetime import datetime\n",
        "import pandas as pd\n",
        "import numpy as np\n",
        "from meteostat import Point, Daily\n",
        "\n",
        "# Data Visualization\n",
        "import matplotlib.pyplot as plt\n",
        "import seaborn as sns\n",
        "import folium  # For interactive maps\n",
        "from folium import PolyLine # PolyLine is directly importable from folium\n",
        "from folium.plugins import MarkerCluster\n",
        "from geopy.distance import geodesic\n",
        "from geopy.geocoders import Nominatim\n",
        "import matplotlib.pyplot as plt"
      ],
      "metadata": {
        "id": "VfMAqfwqnb5u",
        "cellView": "form"
      },
      "execution_count": null,
      "outputs": []
    },
    {
      "cell_type": "code",
      "source": [
        "#@title Timeline\n",
        "import calendar\n",
        "import datetime\n",
        "\n",
        "def create_december_2024_calendar():\n",
        "    \"\"\"Creates a formatted calendar for December 2024 with specific dates filled in.\"\"\"\n",
        "\n",
        "    # --- Styling ---\n",
        "    header_color = \"\\033[1;38;5;117m\"   # Bold Light Purple\n",
        "    weekday_color = \"\\033[38;5;253m\"    # Very Light Gray (almost white)\n",
        "    weekend_color = \"\\033[38;5;244m\"    # Medium Light Gray\n",
        "    filled_date_color = \"\\033[1;38;5;120;48;5;236m\"  # Bold Green on Dark Gray background\n",
        "    other_month_color = \"\\033[38;5;238m\" # Darker Gray for days not in December\n",
        "    reset_color = \"\\033[0m\"          # Reset color\n",
        "\n",
        "    # --- Filled Dates ---\n",
        "    filled_dates = [14, 15, 16, 17, 18, 19]\n",
        "\n",
        "    # --- Calendar Creation ---\n",
        "    cal = calendar.Calendar(firstweekday=6)  # Start week on Sunday\n",
        "    dec_2024 = cal.monthdatescalendar(2024, 12)\n",
        "\n",
        "    # --- Header ---\n",
        "    print(f\"{header_color}       .: DECEMBER 2024 :.{reset_color}\")\n",
        "    print(f\"{weekday_color}  Su  Mo  Tu  We  Th  Fr  Sa {reset_color}\")  # Added extra spaces\n",
        "\n",
        "    # --- Calendar Body ---\n",
        "    for week in dec_2024:\n",
        "        week_str = \"\"\n",
        "        for date in week:\n",
        "            day = date.day\n",
        "            if date.month != 12:\n",
        "                # Dates outside of December in darker gray\n",
        "                week_str += f\"{other_month_color} {day:2} {reset_color}\"\n",
        "            elif day in filled_dates:\n",
        "                # Filled dates in green on dark gray background\n",
        "                week_str += f\"{filled_date_color} {day:2} {reset_color}\"\n",
        "            elif date.weekday() == 5 or date.weekday() == 6:\n",
        "                # Weekends in medium light gray\n",
        "                week_str += f\"{weekend_color} {day:2} {reset_color}\"\n",
        "            else:\n",
        "                # Weekdays in very light gray\n",
        "                week_str += f\"{weekday_color} {day:2} {reset_color}\"\n",
        "        print(week_str)\n",
        "\n",
        "# --- Run and Display the Calendar ---\n",
        "create_december_2024_calendar()"
      ],
      "metadata": {
        "colab": {
          "base_uri": "https://localhost:8080/"
        },
        "cellView": "form",
        "id": "lLPsUk56VFFj",
        "outputId": "1f541c03-529e-4acf-d929-dd80916b3d61"
      },
      "execution_count": null,
      "outputs": [
        {
          "output_type": "stream",
          "name": "stdout",
          "text": [
            "\u001b[1;38;5;117m       .: DECEMBER 2024 :.\u001b[0m\n",
            "\u001b[38;5;253m  Su  Mo  Tu  We  Th  Fr  Sa \u001b[0m\n",
            "\u001b[38;5;244m  1 \u001b[0m\u001b[38;5;253m  2 \u001b[0m\u001b[38;5;253m  3 \u001b[0m\u001b[38;5;253m  4 \u001b[0m\u001b[38;5;253m  5 \u001b[0m\u001b[38;5;253m  6 \u001b[0m\u001b[38;5;244m  7 \u001b[0m\n",
            "\u001b[38;5;244m  8 \u001b[0m\u001b[38;5;253m  9 \u001b[0m\u001b[38;5;253m 10 \u001b[0m\u001b[38;5;253m 11 \u001b[0m\u001b[38;5;253m 12 \u001b[0m\u001b[38;5;253m 13 \u001b[0m\u001b[1;38;5;120;48;5;236m 14 \u001b[0m\n",
            "\u001b[1;38;5;120;48;5;236m 15 \u001b[0m\u001b[1;38;5;120;48;5;236m 16 \u001b[0m\u001b[1;38;5;120;48;5;236m 17 \u001b[0m\u001b[1;38;5;120;48;5;236m 18 \u001b[0m\u001b[1;38;5;120;48;5;236m 19 \u001b[0m\u001b[38;5;253m 20 \u001b[0m\u001b[38;5;244m 21 \u001b[0m\n",
            "\u001b[38;5;244m 22 \u001b[0m\u001b[38;5;253m 23 \u001b[0m\u001b[38;5;253m 24 \u001b[0m\u001b[38;5;253m 25 \u001b[0m\u001b[38;5;253m 26 \u001b[0m\u001b[38;5;253m 27 \u001b[0m\u001b[38;5;244m 28 \u001b[0m\n",
            "\u001b[38;5;244m 29 \u001b[0m\u001b[38;5;253m 30 \u001b[0m\u001b[38;5;253m 31 \u001b[0m\u001b[38;5;238m  1 \u001b[0m\u001b[38;5;238m  2 \u001b[0m\u001b[38;5;238m  3 \u001b[0m\u001b[38;5;238m  4 \u001b[0m\n"
          ]
        }
      ]
    },
    {
      "cell_type": "markdown",
      "source": [
        "# Flight Plan 🛫\n",
        "\n",
        "The plan was simple: take `UA2224` from `SFO` to Houston (`IAH`) on December 14th, then catch `UA831` to Buenos Aires (`EZE`) later that afternoon. You can often find 2-4 United flights a day on this route, [typically taking around 19-20 hours including the layover](https://www.google.com/url?sa=E&q=fluentcargo.com)."
      ],
      "metadata": {
        "id": "HMOR0Aqwp5lk"
      }
    },
    {
      "cell_type": "code",
      "source": [
        "#@title Flight path coordinates (SFO, IAH, EZE)\n",
        "locations = {\n",
        "    \"SFO\": (37.6213, -122.3790),\n",
        "    \"IAH\": (29.9902, -95.3368),\n",
        "    \"EZE\": (-34.8222, -58.5358)\n",
        "}\n",
        "\n",
        "# Create a base map\n",
        "flight_map = folium.Map(location=[20, -40], zoom_start=3)  # Centered view\n",
        "\n",
        "# Add markers for each airport\n",
        "for city, coord in locations.items():\n",
        "    folium.Marker(coord, popup=city).add_to(flight_map)\n",
        "\n",
        "# Draw the flight path\n",
        "flight_path = [locations[\"SFO\"], locations[\"IAH\"], locations[\"EZE\"]]\n",
        "folium.PolyLine(flight_path, color=\"blue\", weight=2.5, opacity=1).add_to(flight_map)\n",
        "\n",
        "# Make the map attractive, and give it a title.\n",
        "flight_map.title = \" ✈️ Flight path from San Francisco to Buenos Aires (with a stopover in Houston)\"\n",
        "flight_map.get_root().html.add_child(folium.Element(\"<h2>\" + flight_map.title + \"</h2>\"))\n",
        "\n",
        "# Change the background style for the map.\n",
        "flight_map.get_root().html.add_child(folium.Element(\"<style>body {background-color: #f0f0f0;}</style>\"))\n",
        "\n",
        "# Display the map\n",
        "flight_map"
      ],
      "metadata": {
        "colab": {
          "base_uri": "https://localhost:8080/",
          "height": 649
        },
        "id": "h2ZQBk7vzzv3",
        "outputId": "d7dba44e-d119-45de-d90c-8e45a5d14c1b",
        "cellView": "form"
      },
      "execution_count": null,
      "outputs": [
        {
          "output_type": "execute_result",
          "data": {
            "text/plain": [
              "<folium.folium.Map at 0x7cbc15200a00>"
            ],
            "text/html": [
              "<div style=\"width:100%;\"><div style=\"position:relative;width:100%;height:0;padding-bottom:60%;\"><span style=\"color:#565656\">Make this Notebook Trusted to load map: File -> Trust Notebook</span><iframe srcdoc=\"&lt;!DOCTYPE html&gt;\n",
              "&lt;html&gt;\n",
              "&lt;head&gt;\n",
              "    \n",
              "    &lt;meta http-equiv=&quot;content-type&quot; content=&quot;text/html; charset=UTF-8&quot; /&gt;\n",
              "    \n",
              "        &lt;script&gt;\n",
              "            L_NO_TOUCH = false;\n",
              "            L_DISABLE_3D = false;\n",
              "        &lt;/script&gt;\n",
              "    \n",
              "    &lt;style&gt;html, body {width: 100%;height: 100%;margin: 0;padding: 0;}&lt;/style&gt;\n",
              "    &lt;style&gt;#map {position:absolute;top:0;bottom:0;right:0;left:0;}&lt;/style&gt;\n",
              "    &lt;script src=&quot;https://cdn.jsdelivr.net/npm/leaflet@1.9.3/dist/leaflet.js&quot;&gt;&lt;/script&gt;\n",
              "    &lt;script src=&quot;https://code.jquery.com/jquery-3.7.1.min.js&quot;&gt;&lt;/script&gt;\n",
              "    &lt;script src=&quot;https://cdn.jsdelivr.net/npm/bootstrap@5.2.2/dist/js/bootstrap.bundle.min.js&quot;&gt;&lt;/script&gt;\n",
              "    &lt;script src=&quot;https://cdnjs.cloudflare.com/ajax/libs/Leaflet.awesome-markers/2.0.2/leaflet.awesome-markers.js&quot;&gt;&lt;/script&gt;\n",
              "    &lt;link rel=&quot;stylesheet&quot; href=&quot;https://cdn.jsdelivr.net/npm/leaflet@1.9.3/dist/leaflet.css&quot;/&gt;\n",
              "    &lt;link rel=&quot;stylesheet&quot; href=&quot;https://cdn.jsdelivr.net/npm/bootstrap@5.2.2/dist/css/bootstrap.min.css&quot;/&gt;\n",
              "    &lt;link rel=&quot;stylesheet&quot; href=&quot;https://netdna.bootstrapcdn.com/bootstrap/3.0.0/css/bootstrap-glyphicons.css&quot;/&gt;\n",
              "    &lt;link rel=&quot;stylesheet&quot; href=&quot;https://cdn.jsdelivr.net/npm/@fortawesome/fontawesome-free@6.2.0/css/all.min.css&quot;/&gt;\n",
              "    &lt;link rel=&quot;stylesheet&quot; href=&quot;https://cdnjs.cloudflare.com/ajax/libs/Leaflet.awesome-markers/2.0.2/leaflet.awesome-markers.css&quot;/&gt;\n",
              "    &lt;link rel=&quot;stylesheet&quot; href=&quot;https://cdn.jsdelivr.net/gh/python-visualization/folium/folium/templates/leaflet.awesome.rotate.min.css&quot;/&gt;\n",
              "    \n",
              "            &lt;meta name=&quot;viewport&quot; content=&quot;width=device-width,\n",
              "                initial-scale=1.0, maximum-scale=1.0, user-scalable=no&quot; /&gt;\n",
              "            &lt;style&gt;\n",
              "                #map_8968532cae7802afe97b405b915d2397 {\n",
              "                    position: relative;\n",
              "                    width: 100.0%;\n",
              "                    height: 100.0%;\n",
              "                    left: 0.0%;\n",
              "                    top: 0.0%;\n",
              "                }\n",
              "                .leaflet-container { font-size: 1rem; }\n",
              "            &lt;/style&gt;\n",
              "        \n",
              "&lt;/head&gt;\n",
              "&lt;body&gt;\n",
              "    \n",
              "    &lt;h2&gt; ✈️ Flight path from San Francisco to Buenos Aires (with a stopover in Houston)&lt;/h2&gt;\n",
              "    &lt;style&gt;body {background-color: #f0f0f0;}&lt;/style&gt;\n",
              "    \n",
              "            &lt;div class=&quot;folium-map&quot; id=&quot;map_8968532cae7802afe97b405b915d2397&quot; &gt;&lt;/div&gt;\n",
              "        \n",
              "&lt;/body&gt;\n",
              "&lt;script&gt;\n",
              "    \n",
              "    \n",
              "            var map_8968532cae7802afe97b405b915d2397 = L.map(\n",
              "                &quot;map_8968532cae7802afe97b405b915d2397&quot;,\n",
              "                {\n",
              "                    center: [20.0, -40.0],\n",
              "                    crs: L.CRS.EPSG3857,\n",
              "                    ...{\n",
              "  &quot;zoom&quot;: 3,\n",
              "  &quot;zoomControl&quot;: true,\n",
              "  &quot;preferCanvas&quot;: false,\n",
              "}\n",
              "\n",
              "                }\n",
              "            );\n",
              "\n",
              "            \n",
              "\n",
              "        \n",
              "    \n",
              "            var tile_layer_80acc7351372f000f7a66021f30b5fd0 = L.tileLayer(\n",
              "                &quot;https://tile.openstreetmap.org/{z}/{x}/{y}.png&quot;,\n",
              "                {\n",
              "  &quot;minZoom&quot;: 0,\n",
              "  &quot;maxZoom&quot;: 19,\n",
              "  &quot;maxNativeZoom&quot;: 19,\n",
              "  &quot;noWrap&quot;: false,\n",
              "  &quot;attribution&quot;: &quot;\\u0026copy; \\u003ca href=\\&quot;https://www.openstreetmap.org/copyright\\&quot;\\u003eOpenStreetMap\\u003c/a\\u003e contributors&quot;,\n",
              "  &quot;subdomains&quot;: &quot;abc&quot;,\n",
              "  &quot;detectRetina&quot;: false,\n",
              "  &quot;tms&quot;: false,\n",
              "  &quot;opacity&quot;: 1,\n",
              "}\n",
              "\n",
              "            );\n",
              "        \n",
              "    \n",
              "            tile_layer_80acc7351372f000f7a66021f30b5fd0.addTo(map_8968532cae7802afe97b405b915d2397);\n",
              "        \n",
              "    \n",
              "            var marker_33fcc73f2fd984d74df320d28a3dd48c = L.marker(\n",
              "                [37.6213, -122.379],\n",
              "                {\n",
              "}\n",
              "            ).addTo(map_8968532cae7802afe97b405b915d2397);\n",
              "        \n",
              "    \n",
              "        var popup_5c098d7755b76b725315ddf12adb6f16 = L.popup({\n",
              "  &quot;maxWidth&quot;: &quot;100%&quot;,\n",
              "});\n",
              "\n",
              "        \n",
              "            \n",
              "                var html_b35b735d0c90432c80b919e99cafa882 = $(`&lt;div id=&quot;html_b35b735d0c90432c80b919e99cafa882&quot; style=&quot;width: 100.0%; height: 100.0%;&quot;&gt;SFO&lt;/div&gt;`)[0];\n",
              "                popup_5c098d7755b76b725315ddf12adb6f16.setContent(html_b35b735d0c90432c80b919e99cafa882);\n",
              "            \n",
              "        \n",
              "\n",
              "        marker_33fcc73f2fd984d74df320d28a3dd48c.bindPopup(popup_5c098d7755b76b725315ddf12adb6f16)\n",
              "        ;\n",
              "\n",
              "        \n",
              "    \n",
              "    \n",
              "            var marker_8f888c61cddac9a66a406dc3eb045413 = L.marker(\n",
              "                [29.9902, -95.3368],\n",
              "                {\n",
              "}\n",
              "            ).addTo(map_8968532cae7802afe97b405b915d2397);\n",
              "        \n",
              "    \n",
              "        var popup_7605eaf074c77356176394c3338a575c = L.popup({\n",
              "  &quot;maxWidth&quot;: &quot;100%&quot;,\n",
              "});\n",
              "\n",
              "        \n",
              "            \n",
              "                var html_489da1ee14ccbd217114b5400daa27dd = $(`&lt;div id=&quot;html_489da1ee14ccbd217114b5400daa27dd&quot; style=&quot;width: 100.0%; height: 100.0%;&quot;&gt;IAH&lt;/div&gt;`)[0];\n",
              "                popup_7605eaf074c77356176394c3338a575c.setContent(html_489da1ee14ccbd217114b5400daa27dd);\n",
              "            \n",
              "        \n",
              "\n",
              "        marker_8f888c61cddac9a66a406dc3eb045413.bindPopup(popup_7605eaf074c77356176394c3338a575c)\n",
              "        ;\n",
              "\n",
              "        \n",
              "    \n",
              "    \n",
              "            var marker_512fdd1bbf1f9b04a335dffb5274597f = L.marker(\n",
              "                [-34.8222, -58.5358],\n",
              "                {\n",
              "}\n",
              "            ).addTo(map_8968532cae7802afe97b405b915d2397);\n",
              "        \n",
              "    \n",
              "        var popup_4930b1a1e04d701a71a16750d9b132a1 = L.popup({\n",
              "  &quot;maxWidth&quot;: &quot;100%&quot;,\n",
              "});\n",
              "\n",
              "        \n",
              "            \n",
              "                var html_3200b58adf43e8e7c74a3e7ef60a76da = $(`&lt;div id=&quot;html_3200b58adf43e8e7c74a3e7ef60a76da&quot; style=&quot;width: 100.0%; height: 100.0%;&quot;&gt;EZE&lt;/div&gt;`)[0];\n",
              "                popup_4930b1a1e04d701a71a16750d9b132a1.setContent(html_3200b58adf43e8e7c74a3e7ef60a76da);\n",
              "            \n",
              "        \n",
              "\n",
              "        marker_512fdd1bbf1f9b04a335dffb5274597f.bindPopup(popup_4930b1a1e04d701a71a16750d9b132a1)\n",
              "        ;\n",
              "\n",
              "        \n",
              "    \n",
              "    \n",
              "            var poly_line_42fcf6d96ffba147f40da98b85b7f1ef = L.polyline(\n",
              "                [[37.6213, -122.379], [29.9902, -95.3368], [-34.8222, -58.5358]],\n",
              "                {&quot;bubblingMouseEvents&quot;: true, &quot;color&quot;: &quot;blue&quot;, &quot;dashArray&quot;: null, &quot;dashOffset&quot;: null, &quot;fill&quot;: false, &quot;fillColor&quot;: &quot;blue&quot;, &quot;fillOpacity&quot;: 0.2, &quot;fillRule&quot;: &quot;evenodd&quot;, &quot;lineCap&quot;: &quot;round&quot;, &quot;lineJoin&quot;: &quot;round&quot;, &quot;noClip&quot;: false, &quot;opacity&quot;: 1, &quot;smoothFactor&quot;: 1.0, &quot;stroke&quot;: true, &quot;weight&quot;: 2.5}\n",
              "            ).addTo(map_8968532cae7802afe97b405b915d2397);\n",
              "        \n",
              "&lt;/script&gt;\n",
              "&lt;/html&gt;\" style=\"position:absolute;width:100%;height:100%;left:0;top:0;border:none !important;\" allowfullscreen webkitallowfullscreen mozallowfullscreen></iframe></div></div>"
            ]
          },
          "metadata": {},
          "execution_count": 8
        }
      ]
    },
    {
      "cell_type": "markdown",
      "source": [
        "But the weather had other plans... We had some crazy weather in San Francisco (including a tornado warning in the city!), which led to a cascade of delays.\n",
        "\n"
      ],
      "metadata": {
        "id": "RwFwMzbNm8GT"
      }
    },
    {
      "cell_type": "code",
      "source": [
        "#@title Weather in San Francisco\n",
        "# Set time period to be the week of travel.\n",
        "start = datetime(2024, 12, 10)\n",
        "end = datetime(2024, 12, 18)\n",
        "\n",
        "# Get lat/long coordinates for a given city.\n",
        "def get_coordinates(city_name):\n",
        "    geolocator = Nominatim(user_agent=\"my_geocoder\")\n",
        "    location = geolocator.geocode(city_name)\n",
        "    if location:\n",
        "        return location.latitude, location.longitude\n",
        "    else:\n",
        "        return None, None\n",
        "\n",
        "# Create Point for San Francisco, CA.\n",
        "san_francisco = get_coordinates(\"San Francisco\")\n",
        "location = Point(san_francisco[0], san_francisco[1], 70)\n",
        "\n",
        "data = Daily(location, start, end)\n",
        "data = data.fetch()\n",
        "\n",
        "# Plot line chart including average, minimum and maximum temperature\n",
        "data.plot(y=['prcp', 'wspd']) # Other useful ones are tmin, tmax, tavg, wpgt for gusts\n",
        "\n",
        "# Add a title for \"Weather conditions in San Francisco\".\n",
        "plt.suptitle(\"Weather conditions in San Francisco\", y=1.05, fontsize=14)\n",
        "plt.title('Windspeed (wspd) and Precipitation (prcp), 12/10/2024 to 12/18/2024', fontsize=10)\n",
        "plt.axvspan(datetime(2024, 12, 13), datetime(2024, 12, 15), color='khaki', alpha=0.5)\n",
        "plt.show()"
      ],
      "metadata": {
        "colab": {
          "base_uri": "https://localhost:8080/",
          "height": 670
        },
        "id": "ocoUNIZoJkcU",
        "outputId": "a54be501-7510-4922-ae3f-74426470d1aa",
        "cellView": "form"
      },
      "execution_count": null,
      "outputs": [
        {
          "output_type": "stream",
          "name": "stderr",
          "text": [
            "WARNING:urllib3.connectionpool:Retrying (Retry(total=1, connect=None, read=None, redirect=None, status=None)) after connection broken by 'ReadTimeoutError(\"HTTPSConnectionPool(host='nominatim.openstreetmap.org', port=443): Read timed out. (read timeout=1)\")': /search?q=San+Francisco&format=json&limit=1\n",
            "FutureWarning: Support for nested sequences for 'parse_dates' in pd.read_csv is deprecated. Combine the desired columns with pd.to_datetime after parsing instead.\n",
            "FutureWarning: Support for nested sequences for 'parse_dates' in pd.read_csv is deprecated. Combine the desired columns with pd.to_datetime after parsing instead.\n",
            "FutureWarning: Support for nested sequences for 'parse_dates' in pd.read_csv is deprecated. Combine the desired columns with pd.to_datetime after parsing instead.\n",
            "FutureWarning: Support for nested sequences for 'parse_dates' in pd.read_csv is deprecated. Combine the desired columns with pd.to_datetime after parsing instead.\n"
          ]
        },
        {
          "output_type": "display_data",
          "data": {
            "text/plain": [
              "<Figure size 640x480 with 1 Axes>"
            ],
            "image/png": "[encoded data removed]"
          },
          "metadata": {}
        }
      ]
    },
    {
      "cell_type": "markdown",
      "source": [
        "What was supposed to be a quick layover turned into an unexpected overnight stay at a (somewhat terrifying 😓) 2-star hotel close to the airport. But it was an opportunity to quickly grab Ecuadorian food - and I even got to meet an Argentinian Olympic skier, who got rerouted to the same hotel!\n",
        "\n",
        "As you can see on the map, it's quite a distance from San Francisco to Buenos Aires, a whopping 6,450 miles!"
      ],
      "metadata": {
        "id": "a6atKcDpngaN"
      }
    },
    {
      "cell_type": "code",
      "source": [
        "# Create a function that calculates the number of miles between two cities.\n",
        "def calculate_distance(city1, city2):\n",
        "    \"\"\"Calculates the distance between two cities using their coordinates.\n",
        "\n",
        "    Args:\n",
        "        city1: A tuple representing the latitude and longitude of the first city.\n",
        "        city2: A tuple representing the latitude and longitude of the second city.\n",
        "\n",
        "    Returns:\n",
        "        The distance between the two cities in miles.\n",
        "    \"\"\"\n",
        "    return geodesic(city1, city2).miles\n",
        "\n",
        "distance_sfo_iah = calculate_distance(locations[\"SFO\"], locations[\"IAH\"])\n",
        "distance_iah_eze = calculate_distance(locations[\"IAH\"], locations[\"EZE\"])\n",
        "distance_sfo_eze = calculate_distance(locations[\"SFO\"], locations[\"EZE\"])\n",
        "\n",
        "print(f\"Distance between SFO and IAH: {distance_sfo_iah:.2f} miles\")\n",
        "print(f\"Distance between IAH and EZE: {distance_iah_eze:.2f} miles\")\n",
        "print(f\"Distance between SFO and EZE: {distance_sfo_eze:.2f} miles\")"
      ],
      "metadata": {
        "colab": {
          "base_uri": "https://localhost:8080/"
        },
        "id": "GKnau72Q5hxp",
        "outputId": "a77eac29-b980-425e-8dc0-47c3257930b4"
      },
      "execution_count": null,
      "outputs": [
        {
          "output_type": "stream",
          "name": "stdout",
          "text": [
            "Distance between SFO and IAH: 1635.51 miles\n",
            "Distance between IAH and EZE: 5062.48 miles\n",
            "Distance between SFO and EZE: 6450.85 miles\n"
          ]
        }
      ]
    },
    {
      "cell_type": "markdown",
      "source": [
        "The flight path took us down south, over Central America and a lot of ocean, and we even got a little close to a big storm over the Gulf of Mexico. And those delays? Well, they were pretty significant, as shown in the bar chart below."
      ],
      "metadata": {
        "id": "8e82Z99antxP"
      }
    },
    {
      "cell_type": "code",
      "source": [
        "#@title Delays from SF to Buenos Aires\n",
        "delay_data = pd.DataFrame({\n",
        "    'Flight Segment': ['SFO-IAH', 'IAH-EZE'],\n",
        "    'Scheduled Departure': ['2024-12-14 11:20', '2024-12-14 16:30'],  # Example times\n",
        "    'Actual Departure': ['2023-12-14 13:40', '2023-12-15 07:00'],  # Example times\n",
        "    'Delay (hours)': [2.5, 15]\n",
        "})\n",
        "\n",
        "# Convert times to datetime objects for better visualization\n",
        "delay_data['Scheduled Departure'] = pd.to_datetime(delay_data['Scheduled Departure'])\n",
        "delay_data['Actual Departure'] = pd.to_datetime(delay_data['Actual Departure'])\n",
        "\n",
        "# Bar chart of delays\n",
        "plt.figure(figsize=(8, 5))\n",
        "sns.barplot(x='Flight Segment', y='Delay (hours)', data=delay_data)\n",
        "plt.title('United Flight Delay (December 14th, 2024)')\n",
        "plt.ylabel('Delay (hours)')\n",
        "plt.show()"
      ],
      "metadata": {
        "colab": {
          "base_uri": "https://localhost:8080/",
          "height": 487
        },
        "id": "_Eb6faP6z2m9",
        "outputId": "b4edd5c7-1e5e-447c-e128-a3e4958c458d",
        "cellView": "form"
      },
      "execution_count": null,
      "outputs": [
        {
          "output_type": "display_data",
          "data": {
            "text/plain": [
              "<Figure size 800x500 with 1 Axes>"
            ],
            "image/png": "[encoded data removed]"
          },
          "metadata": {}
        }
      ]
    },
    {
      "cell_type": "markdown",
      "source": [
        "Let's just say I got very familiar with the Houston and San Francisco airports!\n",
        "\n",
        "This also gave a bit of time to experiment with some of the newly-released Gemini 2.0 capabilities, including:\n",
        "\n",
        "* A real-time travel narration companion\n",
        "\n",
        "* A \"this day in history\" explorer, for any spot in Google Maps\n",
        "\n",
        "* A helpful companion for citizen science projects\n",
        "\n",
        "* Using Gemini 2.0 + JSFiddle to create full web applications"
      ],
      "metadata": {
        "id": "MyscuMjgn6a6"
      }
    },
    {
      "cell_type": "code",
      "source": [
        "#@title Weather in Punta del Este\n",
        "# Set time period to be the month of travel.\n",
        "start = datetime(2024, 12, 1)\n",
        "end = datetime(2024, 12, 31)\n",
        "\n",
        "# Create Point for Punta del Este, Uruguay.\n",
        "punta_del_este = get_coordinates(\"Punta del Este\")\n",
        "location = Point(punta_del_este[0], punta_del_este[1], 70)\n",
        "\n",
        "data = Daily(location, start, end)\n",
        "data = data.fetch()\n",
        "\n",
        "# Plot line chart including average, minimum and maximum temperature\n",
        "data.plot(y=['tavg', 'tmin', 'tmax']) # Other useful ones are tmin, tmax, tavg, wpgt for gusts\n",
        "\n",
        "# Add a title for \"Weather conditions in Punta del Este, Uruguay\".\n",
        "plt.suptitle(\"Temperature in Punta del Este, Uruguay\", y=1.05, fontsize=14)\n",
        "plt.title('Temperature (min, max, and average) - 12/01/2024 to 12/31/2024', fontsize=10)\n",
        "plt.axvspan(datetime(2024, 12, 9), datetime(2024, 12, 14), color='khaki', alpha=0.5, label='Data Missing')\n",
        "plt.axvspan(datetime(2024, 12, 17), datetime(2024, 12, 18), color='red', alpha=0.5, label='Oosterdam!')\n",
        "\n",
        "# Improve the design of the plot, and make the font look more sleek and well-designed.\n",
        "# Change the font.\n",
        "plt.rcParams[\"font.family\"] = \"sans-serif\"\n",
        "plt.rcParams[\"font.sans-serif\"] = [\"Nimbus Sans\"]\n",
        "plt.xticks(rotation=45)\n",
        "plt.xlabel('Date')\n",
        "plt.ylabel('Temperature (°C)')\n",
        "plt.legend()\n",
        "plt.show()"
      ],
      "metadata": {
        "cellView": "form",
        "id": "DKXKwhE5V-o9"
      },
      "execution_count": null,
      "outputs": []
    },
    {
      "cell_type": "markdown",
      "source": [
        "This also gave a bit of time to experiment with some of the newly-released Gemini 2.0 capabilities, including:\n",
        "* A real-time travel narration companion\n",
        "* A \"this day in history\" explorer, for any spot in Google Maps\n",
        "* A helpful companion for citizen science projects\n",
        "* Using Gemini 2.0 + JSFiddle to create full web applications"
      ],
      "metadata": {
        "id": "W1bxLhoPdT6m"
      }
    },
    {
      "cell_type": "code",
      "source": [
        "%%html\n",
        "<blockquote class=\"twitter-tweet\"><p lang=\"en\" dir=\"ltr\">🏞️🌲 Gemini 2.0 is the best tour guide!<br><br>Check out this virtual walk through the <a href=\"https://twitter.com/presidiosf?ref_src=twsrc%5Etfw\">@presidiosf</a> - which includes a detailed history lesson that even entertains my side quests. 😁<br><br>Camera feed + grounding in <a href=\"https://twitter.com/Google?ref_src=twsrc%5Etfw\">@Google</a> Search + function calling (to get geolocation) = game-changer. <a href=\"https://t.co/rfVa9dQCAU\">pic.twitter.com/rfVa9dQCAU</a></p>&mdash; 👩‍💻 Paige Bailey (@DynamicWebPaige) <a href=\"https://twitter.com/DynamicWebPaige/status/1867831453230542977?ref_src=twsrc%5Etfw\">December 14, 2024</a></blockquote> <script async src=\"https://platform.twitter.com/widgets.js\" charset=\"utf-8\"></script>\n",
        "<blockquote class=\"twitter-tweet\"><p lang=\"en\" dir=\"ltr\">🤩 Gemini + Search can also do geolocation-aware This Day in History!<br><br>Check out this example, where Gemini knew today&#39;s date (12/14), recognized the neighborhood I was walking through, and mentioned that today in 1903, the Wright Brothers flew their plane for the first time.✈️ <a href=\"https://t.co/itAFzl0oCs\">https://t.co/itAFzl0oCs</a> <a href=\"https://t.co/O4WDMWku04\">pic.twitter.com/O4WDMWku04</a></p>&mdash; 👩‍💻 Paige Bailey (@DynamicWebPaige) <a href=\"https://twitter.com/DynamicWebPaige/status/1868019292039758038?ref_src=twsrc%5Etfw\">December 14, 2024</a></blockquote> <script async src=\"https://platform.twitter.com/widgets.js\" charset=\"utf-8\"></script>\n",
        "<blockquote class=\"twitter-tweet\"><p lang=\"en\" dir=\"ltr\">😁🪄 I&#39;ve been really impressed with how Gemini 2.0 and Gemini Exp 1206 in <a href=\"https://twitter.com/googleaistudio?ref_src=twsrc%5Etfw\">@GoogleAIStudio</a> are improving, RE: building full web applications...<br><br>Example below: <a href=\"https://twitter.com/wizards_magic?ref_src=twsrc%5Etfw\">@wizards_magic</a> marketplace website, visualized using <a href=\"https://twitter.com/jsfiddle?ref_src=twsrc%5Etfw\">@jsfiddle</a>. <a href=\"https://t.co/035EMs7B9j\">pic.twitter.com/035EMs7B9j</a></p>&mdash; 👩‍💻 Paige Bailey (@DynamicWebPaige) <a href=\"https://twitter.com/DynamicWebPaige/status/1867619033505513511?ref_src=twsrc%5Etfw\">December 13, 2024</a></blockquote> <script async src=\"https://platform.twitter.com/widgets.js\" charset=\"utf-8\"></script>\n",
        "<blockquote class=\"twitter-tweet\"><p lang=\"en\" dir=\"ltr\">👩‍🚀 Tonight, Gemini is helping me with a citizen science project on <a href=\"https://twitter.com/the_zooniverse?ref_src=twsrc%5Etfw\">@the_zooniverse</a> - we&#39;re finding new eclipsing binaries by inspecting &quot;lightcurves&quot;!<br><br>💫 Sometimes the data can be a bit ambiguous, so it&#39;s useful to have an ever-present and knowledgeable second opinion: <a href=\"https://t.co/wE8pWxGgzv\">pic.twitter.com/wE8pWxGgzv</a></p>&mdash; 👩‍💻 Paige Bailey (@DynamicWebPaige) <a href=\"https://twitter.com/DynamicWebPaige/status/1868161488952885257?ref_src=twsrc%5Etfw\">December 15, 2024</a></blockquote> <script async src=\"https://platform.twitter.com/widgets.js\" charset=\"utf-8\"></script>"
      ],
      "metadata": {
        "colab": {
          "base_uri": "https://localhost:8080/",
          "height": 1000
        },
        "id": "W3sI7wj8dSzQ",
        "outputId": "0f57d7f8-365f-4ba0-cd39-2d70fafe4800"
      },
      "execution_count": null,
      "outputs": [
        {
          "output_type": "display_data",
          "data": {
            "text/plain": [
              "<IPython.core.display.HTML object>"
            ],
            "text/html": [
              "<blockquote class=\"twitter-tweet\"><p lang=\"en\" dir=\"ltr\">🏞️🌲 Gemini 2.0 is the best tour guide!<br><br>Check out this virtual walk through the <a href=\"https://twitter.com/presidiosf?ref_src=twsrc%5Etfw\">@presidiosf</a> - which includes a detailed history lesson that even entertains my side quests. 😁<br><br>Camera feed + grounding in <a href=\"https://twitter.com/Google?ref_src=twsrc%5Etfw\">@Google</a> Search + function calling (to get geolocation) = game-changer. <a href=\"https://t.co/rfVa9dQCAU\">pic.twitter.com/rfVa9dQCAU</a></p>&mdash; 👩‍💻 Paige Bailey (@DynamicWebPaige) <a href=\"https://twitter.com/DynamicWebPaige/status/1867831453230542977?ref_src=twsrc%5Etfw\">December 14, 2024</a></blockquote> <script async src=\"https://platform.twitter.com/widgets.js\" charset=\"utf-8\"></script>\n",
              "<blockquote class=\"twitter-tweet\"><p lang=\"en\" dir=\"ltr\">🤩 Gemini + Search can also do geolocation-aware This Day in History!<br><br>Check out this example, where Gemini knew today&#39;s date (12/14), recognized the neighborhood I was walking through, and mentioned that today in 1903, the Wright Brothers flew their plane for the first time.✈️ <a href=\"https://t.co/itAFzl0oCs\">https://t.co/itAFzl0oCs</a> <a href=\"https://t.co/O4WDMWku04\">pic.twitter.com/O4WDMWku04</a></p>&mdash; 👩‍💻 Paige Bailey (@DynamicWebPaige) <a href=\"https://twitter.com/DynamicWebPaige/status/1868019292039758038?ref_src=twsrc%5Etfw\">December 14, 2024</a></blockquote> <script async src=\"https://platform.twitter.com/widgets.js\" charset=\"utf-8\"></script>\n",
              "<blockquote class=\"twitter-tweet\"><p lang=\"en\" dir=\"ltr\">😁🪄 I&#39;ve been really impressed with how Gemini 2.0 and Gemini Exp 1206 in <a href=\"https://twitter.com/googleaistudio?ref_src=twsrc%5Etfw\">@GoogleAIStudio</a> are improving, RE: building full web applications...<br><br>Example below: <a href=\"https://twitter.com/wizards_magic?ref_src=twsrc%5Etfw\">@wizards_magic</a> marketplace website, visualized using <a href=\"https://twitter.com/jsfiddle?ref_src=twsrc%5Etfw\">@jsfiddle</a>. <a href=\"https://t.co/035EMs7B9j\">pic.twitter.com/035EMs7B9j</a></p>&mdash; 👩‍💻 Paige Bailey (@DynamicWebPaige) <a href=\"https://twitter.com/DynamicWebPaige/status/1867619033505513511?ref_src=twsrc%5Etfw\">December 13, 2024</a></blockquote> <script async src=\"https://platform.twitter.com/widgets.js\" charset=\"utf-8\"></script>\n",
              "<blockquote class=\"twitter-tweet\"><p lang=\"en\" dir=\"ltr\">👩‍🚀 Tonight, Gemini is helping me with a citizen science project on <a href=\"https://twitter.com/the_zooniverse?ref_src=twsrc%5Etfw\">@the_zooniverse</a> - we&#39;re finding new eclipsing binaries by inspecting &quot;lightcurves&quot;!<br><br>💫 Sometimes the data can be a bit ambiguous, so it&#39;s useful to have an ever-present and knowledgeable second opinion: <a href=\"https://t.co/wE8pWxGgzv\">pic.twitter.com/wE8pWxGgzv</a></p>&mdash; 👩‍💻 Paige Bailey (@DynamicWebPaige) <a href=\"https://twitter.com/DynamicWebPaige/status/1868161488952885257?ref_src=twsrc%5Etfw\">December 15, 2024</a></blockquote> <script async src=\"https://platform.twitter.com/widgets.js\" charset=\"utf-8\"></script>\n"
            ]
          },
          "metadata": {}
        }
      ]
    },
    {
      "cell_type": "markdown",
      "source": [
        "# Buenos Aires\n",
        "Finally made it to Buenos Aires! Stepping off the plane, I was immediately hit with that exciting \"new city\" energy. But first, I had to get to my cruise ship. Now, my Spanish is... well, let's be honest, it's practically non-existent. Thankfully, Google Translate was a lifesaver at the port."
      ],
      "metadata": {
        "id": "SmueLRFG6V-Z"
      }
    },
    {
      "cell_type": "code",
      "source": [
        "%%html\n",
        "<blockquote class=\"twitter-tweet\"><p lang=\"en\" dir=\"ltr\">🙏 Sending a big thank you to the <a href=\"https://twitter.com/Google?ref_src=twsrc%5Etfw\">@Google</a> Translate and <a href=\"https://twitter.com/GeminiApp?ref_src=twsrc%5Etfw\">@GeminiApp</a> teams for navigating me through Buenos Aires these past couple of days! Despite making the mistake of not brushing up on Spanish 😅, I was able to:<br><br>1⃣ Ask a policeman about a military road blockage, and get… <a href=\"https://t.co/uGpHg4VPap\">pic.twitter.com/uGpHg4VPap</a></p>&mdash; 👩‍💻 Paige Bailey (@DynamicWebPaige) <a href=\"https://twitter.com/DynamicWebPaige/status/1869057010160763317?ref_src=twsrc%5Etfw\">December 17, 2024</a></blockquote> <script async src=\"https://platform.twitter.com/widgets.js\" charset=\"utf-8\"></script>"
      ],
      "metadata": {
        "colab": {
          "base_uri": "https://localhost:8080/",
          "height": 807
        },
        "id": "VQESjyGeerGe",
        "outputId": "34c53b7e-b1e1-4210-ca14-da5b246bcf72"
      },
      "execution_count": null,
      "outputs": [
        {
          "output_type": "display_data",
          "data": {
            "text/plain": [
              "<IPython.core.display.HTML object>"
            ],
            "text/html": [
              "<blockquote class=\"twitter-tweet\"><p lang=\"en\" dir=\"ltr\">🙏 Sending a big thank you to the <a href=\"https://twitter.com/Google?ref_src=twsrc%5Etfw\">@Google</a> Translate and <a href=\"https://twitter.com/GeminiApp?ref_src=twsrc%5Etfw\">@GeminiApp</a> teams for navigating me through Buenos Aires these past couple of days! Despite making the mistake of not brushing up on Spanish 😅, I was able to:<br><br>1⃣ Ask a policeman about a military road blockage, and get… <a href=\"https://t.co/uGpHg4VPap\">pic.twitter.com/uGpHg4VPap</a></p>&mdash; 👩‍💻 Paige Bailey (@DynamicWebPaige) <a href=\"https://twitter.com/DynamicWebPaige/status/1869057010160763317?ref_src=twsrc%5Etfw\">December 17, 2024</a></blockquote> <script async src=\"https://platform.twitter.com/widgets.js\" charset=\"utf-8\"></script>\n"
            ]
          },
          "metadata": {}
        }
      ]
    },
    {
      "cell_type": "markdown",
      "source": [
        "I was able to communicate with the port staff (after some miming and pointing, of course!), and along with a large group of other people, found my way to the ship, even though it was already pretty late.\n",
        "\n"
      ],
      "metadata": {
        "id": "bBqE_PzgowYZ"
      }
    },
    {
      "cell_type": "code",
      "source": [
        "%%html\n",
        "<blockquote class=\"twitter-tweet\"><p lang=\"en\" dir=\"ltr\">If you&#39;re like me and have never been on a cruise ship before, here are a few images that might help you understand the scale.<br><br>(Ex: 🖼️ #3 - that&#39;s a semi truck! 🚛) <a href=\"https://t.co/LHKGja8XEN\">pic.twitter.com/LHKGja8XEN</a></p>&mdash; 👩‍💻 Paige Bailey (@DynamicWebPaige) <a href=\"https://twitter.com/DynamicWebPaige/status/1868706290740215829?ref_src=twsrc%5Etfw\">December 16, 2024</a></blockquote> <script async src=\"https://platform.twitter.com/widgets.js\" charset=\"utf-8\"></script>\n",
        "<blockquote class=\"twitter-tweet\"><p lang=\"en\" dir=\"ltr\">your girl just landed in Argentina, about to head to Antarctica, and this ship is giving me serious Titanic vibes 🚢🤩<br><br>(unrelated, I also accidentally met an Olympian?! Argentina is the best 🏂) <a href=\"https://t.co/7m7Lnhd9dC\">pic.twitter.com/7m7Lnhd9dC</a></p>&mdash; 👩‍💻 Paige Bailey (@DynamicWebPaige) <a href=\"https://twitter.com/DynamicWebPaige/status/1868488865218187671?ref_src=twsrc%5Etfw\">December 16, 2024</a></blockquote> <script async src=\"https://platform.twitter.com/widgets.js\" charset=\"utf-8\"></script>"
      ],
      "metadata": {
        "colab": {
          "base_uri": "https://localhost:8080/",
          "height": 1000
        },
        "id": "RP1JIH6QeOpX",
        "outputId": "5404a2d6-dd48-4843-a0ee-bda422708a74"
      },
      "execution_count": null,
      "outputs": [
        {
          "output_type": "display_data",
          "data": {
            "text/plain": [
              "<IPython.core.display.HTML object>"
            ],
            "text/html": [
              "<blockquote class=\"twitter-tweet\"><p lang=\"en\" dir=\"ltr\">If you&#39;re like me and have never been on a cruise ship before, here are a few images that might help you understand the scale.<br><br>(Ex: 🖼️ #3 - that&#39;s a semi truck! 🚛) <a href=\"https://t.co/LHKGja8XEN\">pic.twitter.com/LHKGja8XEN</a></p>&mdash; 👩‍💻 Paige Bailey (@DynamicWebPaige) <a href=\"https://twitter.com/DynamicWebPaige/status/1868706290740215829?ref_src=twsrc%5Etfw\">December 16, 2024</a></blockquote> <script async src=\"https://platform.twitter.com/widgets.js\" charset=\"utf-8\"></script>\n",
              "<blockquote class=\"twitter-tweet\"><p lang=\"en\" dir=\"ltr\">your girl just landed in Argentina, about to head to Antarctica, and this ship is giving me serious Titanic vibes 🚢🤩<br><br>(unrelated, I also accidentally met an Olympian?! Argentina is the best 🏂) <a href=\"https://t.co/7m7Lnhd9dC\">pic.twitter.com/7m7Lnhd9dC</a></p>&mdash; 👩‍💻 Paige Bailey (@DynamicWebPaige) <a href=\"https://twitter.com/DynamicWebPaige/status/1868488865218187671?ref_src=twsrc%5Etfw\">December 16, 2024</a></blockquote> <script async src=\"https://platform.twitter.com/widgets.js\" charset=\"utf-8\"></script>\n"
            ]
          },
          "metadata": {}
        }
      ]
    },
    {
      "cell_type": "markdown",
      "source": [
        "I took advantage of my short time in Buenos Aires and visited the Google office, conveniently located near the port and the exclusive Yacht Club Puerto Madero. I even witnessed a military transport near the port – definitely added an unexpected element to the trip.\n",
        "\n",
        "And the food! The alfajores were as dreamy as everyone said, and my first taste of Argentinian asado was a revelation."
      ],
      "metadata": {
        "id": "UjG1332HpAdn"
      }
    },
    {
      "cell_type": "code",
      "source": [
        "# Buenos Aires coordinates\n",
        "buenos_aires = get_coordinates(\"Buenos Aires\")\n",
        "\n",
        "# Create a base map of Buenos Aires\n",
        "ba_map = folium.Map(location=buenos_aires, zoom_start=13)\n",
        "\n",
        "# Add markers for key locations (example)\n",
        "locations_ba = {\n",
        "    \"Google Office\": (-34.5997, -58.3682),  # Approximate - get the exact address\n",
        "    \"Port\": (-34.5890, -58.3694),  # Approximate\n",
        "    \"Yacht Club\": (-34.5874, -58.3712),  # Approximate\n",
        "    # Add more locations as needed\n",
        "}\n",
        "\n",
        "for name, coord in locations_ba.items():\n",
        "    folium.Marker(coord, popup=name).add_to(ba_map)\n",
        "\n",
        "# Add a title for places visited in Buenos Aires.\n",
        "ba_map.title = \"Places visited in Buenos Aires\"\n",
        "ba_map.get_root().html.add_child(folium.Element(\"<h1>\" + ba_map.title + \"</h1>\"))\n",
        "\n",
        "# Display the map\n",
        "ba_map"
      ],
      "metadata": {
        "colab": {
          "base_uri": "https://localhost:8080/",
          "height": 897
        },
        "id": "QhiooMLkz6_b",
        "outputId": "8297a2b8-08e0-4b5e-f67a-05c88edcbfb2"
      },
      "execution_count": null,
      "outputs": [
        {
          "output_type": "execute_result",
          "data": {
            "text/plain": [
              "<folium.folium.Map at 0x7a77c6b013f0>"
            ],
            "text/html": [
              "<div style=\"width:100%;\"><div style=\"position:relative;width:100%;height:0;padding-bottom:60%;\"><span style=\"color:#565656\">Make this Notebook Trusted to load map: File -> Trust Notebook</span><iframe srcdoc=\"&lt;!DOCTYPE html&gt;\n",
              "&lt;html&gt;\n",
              "&lt;head&gt;\n",
              "    \n",
              "    &lt;meta http-equiv=&quot;content-type&quot; content=&quot;text/html; charset=UTF-8&quot; /&gt;\n",
              "    \n",
              "        &lt;script&gt;\n",
              "            L_NO_TOUCH = false;\n",
              "            L_DISABLE_3D = false;\n",
              "        &lt;/script&gt;\n",
              "    \n",
              "    &lt;style&gt;html, body {width: 100%;height: 100%;margin: 0;padding: 0;}&lt;/style&gt;\n",
              "    &lt;style&gt;#map {position:absolute;top:0;bottom:0;right:0;left:0;}&lt;/style&gt;\n",
              "    &lt;script src=&quot;https://cdn.jsdelivr.net/npm/leaflet@1.9.3/dist/leaflet.js&quot;&gt;&lt;/script&gt;\n",
              "    &lt;script src=&quot;https://code.jquery.com/jquery-3.7.1.min.js&quot;&gt;&lt;/script&gt;\n",
              "    &lt;script src=&quot;https://cdn.jsdelivr.net/npm/bootstrap@5.2.2/dist/js/bootstrap.bundle.min.js&quot;&gt;&lt;/script&gt;\n",
              "    &lt;script src=&quot;https://cdnjs.cloudflare.com/ajax/libs/Leaflet.awesome-markers/2.0.2/leaflet.awesome-markers.js&quot;&gt;&lt;/script&gt;\n",
              "    &lt;link rel=&quot;stylesheet&quot; href=&quot;https://cdn.jsdelivr.net/npm/leaflet@1.9.3/dist/leaflet.css&quot;/&gt;\n",
              "    &lt;link rel=&quot;stylesheet&quot; href=&quot;https://cdn.jsdelivr.net/npm/bootstrap@5.2.2/dist/css/bootstrap.min.css&quot;/&gt;\n",
              "    &lt;link rel=&quot;stylesheet&quot; href=&quot;https://netdna.bootstrapcdn.com/bootstrap/3.0.0/css/bootstrap-glyphicons.css&quot;/&gt;\n",
              "    &lt;link rel=&quot;stylesheet&quot; href=&quot;https://cdn.jsdelivr.net/npm/@fortawesome/fontawesome-free@6.2.0/css/all.min.css&quot;/&gt;\n",
              "    &lt;link rel=&quot;stylesheet&quot; href=&quot;https://cdnjs.cloudflare.com/ajax/libs/Leaflet.awesome-markers/2.0.2/leaflet.awesome-markers.css&quot;/&gt;\n",
              "    &lt;link rel=&quot;stylesheet&quot; href=&quot;https://cdn.jsdelivr.net/gh/python-visualization/folium/folium/templates/leaflet.awesome.rotate.min.css&quot;/&gt;\n",
              "    \n",
              "            &lt;meta name=&quot;viewport&quot; content=&quot;width=device-width,\n",
              "                initial-scale=1.0, maximum-scale=1.0, user-scalable=no&quot; /&gt;\n",
              "            &lt;style&gt;\n",
              "                #map_0d9ceaca81948a06aad1ab5aa0e9e465 {\n",
              "                    position: relative;\n",
              "                    width: 100.0%;\n",
              "                    height: 100.0%;\n",
              "                    left: 0.0%;\n",
              "                    top: 0.0%;\n",
              "                }\n",
              "                .leaflet-container { font-size: 1rem; }\n",
              "            &lt;/style&gt;\n",
              "        \n",
              "&lt;/head&gt;\n",
              "&lt;body&gt;\n",
              "    \n",
              "    &lt;h1&gt;Places visited in Buenos Aires&lt;/h1&gt;\n",
              "    \n",
              "            &lt;div class=&quot;folium-map&quot; id=&quot;map_0d9ceaca81948a06aad1ab5aa0e9e465&quot; &gt;&lt;/div&gt;\n",
              "        \n",
              "&lt;/body&gt;\n",
              "&lt;script&gt;\n",
              "    \n",
              "    \n",
              "            var map_0d9ceaca81948a06aad1ab5aa0e9e465 = L.map(\n",
              "                &quot;map_0d9ceaca81948a06aad1ab5aa0e9e465&quot;,\n",
              "                {\n",
              "                    center: [-34.6083696, -58.4440583],\n",
              "                    crs: L.CRS.EPSG3857,\n",
              "                    ...{\n",
              "  &quot;zoom&quot;: 13,\n",
              "  &quot;zoomControl&quot;: true,\n",
              "  &quot;preferCanvas&quot;: false,\n",
              "}\n",
              "\n",
              "                }\n",
              "            );\n",
              "\n",
              "            \n",
              "\n",
              "        \n",
              "    \n",
              "            var tile_layer_84345bc31fcfd108fb76e41e46c82502 = L.tileLayer(\n",
              "                &quot;https://tile.openstreetmap.org/{z}/{x}/{y}.png&quot;,\n",
              "                {\n",
              "  &quot;minZoom&quot;: 0,\n",
              "  &quot;maxZoom&quot;: 19,\n",
              "  &quot;maxNativeZoom&quot;: 19,\n",
              "  &quot;noWrap&quot;: false,\n",
              "  &quot;attribution&quot;: &quot;\\u0026copy; \\u003ca href=\\&quot;https://www.openstreetmap.org/copyright\\&quot;\\u003eOpenStreetMap\\u003c/a\\u003e contributors&quot;,\n",
              "  &quot;subdomains&quot;: &quot;abc&quot;,\n",
              "  &quot;detectRetina&quot;: false,\n",
              "  &quot;tms&quot;: false,\n",
              "  &quot;opacity&quot;: 1,\n",
              "}\n",
              "\n",
              "            );\n",
              "        \n",
              "    \n",
              "            tile_layer_84345bc31fcfd108fb76e41e46c82502.addTo(map_0d9ceaca81948a06aad1ab5aa0e9e465);\n",
              "        \n",
              "    \n",
              "            var marker_a07d7fd5d4e86b5c25cf235599da8d09 = L.marker(\n",
              "                [-34.5997, -58.3682],\n",
              "                {\n",
              "}\n",
              "            ).addTo(map_0d9ceaca81948a06aad1ab5aa0e9e465);\n",
              "        \n",
              "    \n",
              "        var popup_2e6bd01cff2c10118d3ecbb2d14a0c52 = L.popup({\n",
              "  &quot;maxWidth&quot;: &quot;100%&quot;,\n",
              "});\n",
              "\n",
              "        \n",
              "            \n",
              "                var html_67e4ac1a73093193dbaba43d5019a785 = $(`&lt;div id=&quot;html_67e4ac1a73093193dbaba43d5019a785&quot; style=&quot;width: 100.0%; height: 100.0%;&quot;&gt;Google Office&lt;/div&gt;`)[0];\n",
              "                popup_2e6bd01cff2c10118d3ecbb2d14a0c52.setContent(html_67e4ac1a73093193dbaba43d5019a785);\n",
              "            \n",
              "        \n",
              "\n",
              "        marker_a07d7fd5d4e86b5c25cf235599da8d09.bindPopup(popup_2e6bd01cff2c10118d3ecbb2d14a0c52)\n",
              "        ;\n",
              "\n",
              "        \n",
              "    \n",
              "    \n",
              "            var marker_1040fd91a0807f6c2d5d9312fd75cef0 = L.marker(\n",
              "                [-34.589, -58.3694],\n",
              "                {\n",
              "}\n",
              "            ).addTo(map_0d9ceaca81948a06aad1ab5aa0e9e465);\n",
              "        \n",
              "    \n",
              "        var popup_40f710e037cc19f0e4f9539f84df483d = L.popup({\n",
              "  &quot;maxWidth&quot;: &quot;100%&quot;,\n",
              "});\n",
              "\n",
              "        \n",
              "            \n",
              "                var html_ed2d76a61b650f55cf078d2f0ffee9cc = $(`&lt;div id=&quot;html_ed2d76a61b650f55cf078d2f0ffee9cc&quot; style=&quot;width: 100.0%; height: 100.0%;&quot;&gt;Port&lt;/div&gt;`)[0];\n",
              "                popup_40f710e037cc19f0e4f9539f84df483d.setContent(html_ed2d76a61b650f55cf078d2f0ffee9cc);\n",
              "            \n",
              "        \n",
              "\n",
              "        marker_1040fd91a0807f6c2d5d9312fd75cef0.bindPopup(popup_40f710e037cc19f0e4f9539f84df483d)\n",
              "        ;\n",
              "\n",
              "        \n",
              "    \n",
              "    \n",
              "            var marker_4f68025895325e1227145b8153fb3fa6 = L.marker(\n",
              "                [-34.5874, -58.3712],\n",
              "                {\n",
              "}\n",
              "            ).addTo(map_0d9ceaca81948a06aad1ab5aa0e9e465);\n",
              "        \n",
              "    \n",
              "        var popup_fc5ae6458de54ec6b69e12522fa4350f = L.popup({\n",
              "  &quot;maxWidth&quot;: &quot;100%&quot;,\n",
              "});\n",
              "\n",
              "        \n",
              "            \n",
              "                var html_28d2aa1912a6e249f5e52bf09cc9914b = $(`&lt;div id=&quot;html_28d2aa1912a6e249f5e52bf09cc9914b&quot; style=&quot;width: 100.0%; height: 100.0%;&quot;&gt;Yacht Club&lt;/div&gt;`)[0];\n",
              "                popup_fc5ae6458de54ec6b69e12522fa4350f.setContent(html_28d2aa1912a6e249f5e52bf09cc9914b);\n",
              "            \n",
              "        \n",
              "\n",
              "        marker_4f68025895325e1227145b8153fb3fa6.bindPopup(popup_fc5ae6458de54ec6b69e12522fa4350f)\n",
              "        ;\n",
              "\n",
              "        \n",
              "    \n",
              "&lt;/script&gt;\n",
              "&lt;/html&gt;\" style=\"position:absolute;width:100%;height:100%;left:0;top:0;border:none !important;\" allowfullscreen webkitallowfullscreen mozallowfullscreen></iframe></div></div>"
            ]
          },
          "metadata": {},
          "execution_count": 48
        }
      ]
    },
    {
      "cell_type": "markdown",
      "source": [
        "# A Quick Trip to Montevideo\n",
        "\n",
        "Next up was a quick trip over to Montevideo, Uruguay. It's just a short cruise from the port of Buenos Aires, and it's definitely worth a visit. One of the most impactful places I went to was the [Museo Andes 1972](https://mandes.uy/). It's a museum dedicated to the incredible story of the Uruguayan rugby team whose plane crashed in the Andes in 1972. The story of their survival is just mind-blowing, and the museum does a great job of honoring their resilience.\n",
        "\n",
        "I also had a fun experience using [Gemini 2.0 Multimodal Streaming](https://aistudio.google.com) in AI Studio. There were some cool buildings around Montevideo that I couldn't identify – no signs, no plaques, nothing! But with Gemini, which can process information in real time, I was able to learn about them just by showing them to my phone's camera. Pretty neat, right?"
      ],
      "metadata": {
        "id": "LxaLgUmN6-bR"
      }
    },
    {
      "cell_type": "code",
      "source": [
        "%%html\n",
        "<blockquote class=\"twitter-tweet\"><p lang=\"en\" dir=\"ltr\">🇺🇾 Gemini 2.0 + Search grounding as a South America travel companion is stellar - especially when encountering buildings with worn, Spanish-only (or non-existent 😅) signs.<br><br>All I have to do is open <a href=\"https://twitter.com/googleaistudio?ref_src=twsrc%5Etfw\">@GoogleAIStudio</a>, point a camera, &amp; start streaming (or upload a camera backlog): <a href=\"https://t.co/ug1C4UahEV\">pic.twitter.com/ug1C4UahEV</a></p>&mdash; 👩‍💻 Paige Bailey (@DynamicWebPaige) <a href=\"https://twitter.com/DynamicWebPaige/status/1869005259961520281?ref_src=twsrc%5Etfw\">December 17, 2024</a></blockquote> <script async src=\"https://platform.twitter.com/widgets.js\" charset=\"utf-8\"></script>"
      ],
      "metadata": {
        "colab": {
          "base_uri": "https://localhost:8080/",
          "height": 708
        },
        "id": "hL3gD-JBjjGm",
        "outputId": "5a52ea5b-0fbe-4cba-cb35-cd90fd39901a"
      },
      "execution_count": null,
      "outputs": [
        {
          "output_type": "display_data",
          "data": {
            "text/plain": [
              "<IPython.core.display.HTML object>"
            ],
            "text/html": [
              "<blockquote class=\"twitter-tweet\"><p lang=\"en\" dir=\"ltr\">🇺🇾 Gemini 2.0 + Search grounding as a South America travel companion is stellar - especially when encountering buildings with worn, Spanish-only (or non-existent 😅) signs.<br><br>All I have to do is open <a href=\"https://twitter.com/googleaistudio?ref_src=twsrc%5Etfw\">@GoogleAIStudio</a>, point a camera, &amp; start streaming (or upload a camera backlog): <a href=\"https://t.co/ug1C4UahEV\">pic.twitter.com/ug1C4UahEV</a></p>&mdash; 👩‍💻 Paige Bailey (@DynamicWebPaige) <a href=\"https://twitter.com/DynamicWebPaige/status/1869005259961520281?ref_src=twsrc%5Etfw\">December 17, 2024</a></blockquote> <script async src=\"https://platform.twitter.com/widgets.js\" charset=\"utf-8\"></script>\n"
            ]
          },
          "metadata": {}
        }
      ]
    },
    {
      "cell_type": "markdown",
      "source": [
        "And of course, I couldn't leave Montevideo without visiting a soccer stadium! The atmosphere was electric; Montevideo hosted the first-ever FIFA World Cup in 1930, and the Estadio Centenario was built specifically for that tournament. Uruguay won, beating Argentina 4-2 in the finals."
      ],
      "metadata": {
        "id": "3SxxZGMXpXW4"
      }
    },
    {
      "cell_type": "code",
      "source": [
        "# Montevideo coordinates\n",
        "montevideo = get_coordinates(\"Montevideo\")\n",
        "\n",
        "# Create a base map of Montevideo\n",
        "mvd_map = folium.Map(location=montevideo, zoom_start=13)\n",
        "\n",
        "# Add markers (example)\n",
        "locations_mvd = {\n",
        "    \"1972 Museum\": (-34.9078, -56.1955),  # Approximate\n",
        "    \"Soccer Stadium\": (-34.8947, -56.1502),  # Approximate\n",
        "    # ... add other locations mentioned\n",
        "}\n",
        "\n",
        "for name, coord in locations_mvd.items():\n",
        "    folium.Marker(coord, popup=name).add_to(mvd_map)\n",
        "\n",
        "# Add a map title.\n",
        "mvd_map.title = \"Places visited in Montevideo\"\n",
        "mvd_map.get_root().html.add_child(folium.Element(\"<h1>\" + mvd_map.title + \"</h1>\"))\n",
        "\n",
        "# Display the map\n",
        "mvd_map"
      ],
      "metadata": {
        "colab": {
          "base_uri": "https://localhost:8080/",
          "height": 897
        },
        "id": "Xbvdac-1z9vf",
        "outputId": "d8d8720e-8302-43b7-9a73-b47c9639e729"
      },
      "execution_count": null,
      "outputs": [
        {
          "output_type": "execute_result",
          "data": {
            "text/plain": [
              "<folium.folium.Map at 0x7a77c6bdf850>"
            ],
            "text/html": [
              "<div style=\"width:100%;\"><div style=\"position:relative;width:100%;height:0;padding-bottom:60%;\"><span style=\"color:#565656\">Make this Notebook Trusted to load map: File -> Trust Notebook</span><iframe srcdoc=\"&lt;!DOCTYPE html&gt;\n",
              "&lt;html&gt;\n",
              "&lt;head&gt;\n",
              "    \n",
              "    &lt;meta http-equiv=&quot;content-type&quot; content=&quot;text/html; charset=UTF-8&quot; /&gt;\n",
              "    \n",
              "        &lt;script&gt;\n",
              "            L_NO_TOUCH = false;\n",
              "            L_DISABLE_3D = false;\n",
              "        &lt;/script&gt;\n",
              "    \n",
              "    &lt;style&gt;html, body {width: 100%;height: 100%;margin: 0;padding: 0;}&lt;/style&gt;\n",
              "    &lt;style&gt;#map {position:absolute;top:0;bottom:0;right:0;left:0;}&lt;/style&gt;\n",
              "    &lt;script src=&quot;https://cdn.jsdelivr.net/npm/leaflet@1.9.3/dist/leaflet.js&quot;&gt;&lt;/script&gt;\n",
              "    &lt;script src=&quot;https://code.jquery.com/jquery-3.7.1.min.js&quot;&gt;&lt;/script&gt;\n",
              "    &lt;script src=&quot;https://cdn.jsdelivr.net/npm/bootstrap@5.2.2/dist/js/bootstrap.bundle.min.js&quot;&gt;&lt;/script&gt;\n",
              "    &lt;script src=&quot;https://cdnjs.cloudflare.com/ajax/libs/Leaflet.awesome-markers/2.0.2/leaflet.awesome-markers.js&quot;&gt;&lt;/script&gt;\n",
              "    &lt;link rel=&quot;stylesheet&quot; href=&quot;https://cdn.jsdelivr.net/npm/leaflet@1.9.3/dist/leaflet.css&quot;/&gt;\n",
              "    &lt;link rel=&quot;stylesheet&quot; href=&quot;https://cdn.jsdelivr.net/npm/bootstrap@5.2.2/dist/css/bootstrap.min.css&quot;/&gt;\n",
              "    &lt;link rel=&quot;stylesheet&quot; href=&quot;https://netdna.bootstrapcdn.com/bootstrap/3.0.0/css/bootstrap-glyphicons.css&quot;/&gt;\n",
              "    &lt;link rel=&quot;stylesheet&quot; href=&quot;https://cdn.jsdelivr.net/npm/@fortawesome/fontawesome-free@6.2.0/css/all.min.css&quot;/&gt;\n",
              "    &lt;link rel=&quot;stylesheet&quot; href=&quot;https://cdnjs.cloudflare.com/ajax/libs/Leaflet.awesome-markers/2.0.2/leaflet.awesome-markers.css&quot;/&gt;\n",
              "    &lt;link rel=&quot;stylesheet&quot; href=&quot;https://cdn.jsdelivr.net/gh/python-visualization/folium/folium/templates/leaflet.awesome.rotate.min.css&quot;/&gt;\n",
              "    \n",
              "            &lt;meta name=&quot;viewport&quot; content=&quot;width=device-width,\n",
              "                initial-scale=1.0, maximum-scale=1.0, user-scalable=no&quot; /&gt;\n",
              "            &lt;style&gt;\n",
              "                #map_b92dc55ab5fd7696cc5e1bc4152ce395 {\n",
              "                    position: relative;\n",
              "                    width: 100.0%;\n",
              "                    height: 100.0%;\n",
              "                    left: 0.0%;\n",
              "                    top: 0.0%;\n",
              "                }\n",
              "                .leaflet-container { font-size: 1rem; }\n",
              "            &lt;/style&gt;\n",
              "        \n",
              "&lt;/head&gt;\n",
              "&lt;body&gt;\n",
              "    \n",
              "    &lt;h1&gt;Places visited in Montevideo&lt;/h1&gt;\n",
              "    \n",
              "            &lt;div class=&quot;folium-map&quot; id=&quot;map_b92dc55ab5fd7696cc5e1bc4152ce395&quot; &gt;&lt;/div&gt;\n",
              "        \n",
              "&lt;/body&gt;\n",
              "&lt;script&gt;\n",
              "    \n",
              "    \n",
              "            var map_b92dc55ab5fd7696cc5e1bc4152ce395 = L.map(\n",
              "                &quot;map_b92dc55ab5fd7696cc5e1bc4152ce395&quot;,\n",
              "                {\n",
              "                    center: [-34.9058916, -56.1913095],\n",
              "                    crs: L.CRS.EPSG3857,\n",
              "                    ...{\n",
              "  &quot;zoom&quot;: 13,\n",
              "  &quot;zoomControl&quot;: true,\n",
              "  &quot;preferCanvas&quot;: false,\n",
              "}\n",
              "\n",
              "                }\n",
              "            );\n",
              "\n",
              "            \n",
              "\n",
              "        \n",
              "    \n",
              "            var tile_layer_82a22aadd29cc2855555e0b7b3f5460a = L.tileLayer(\n",
              "                &quot;https://tile.openstreetmap.org/{z}/{x}/{y}.png&quot;,\n",
              "                {\n",
              "  &quot;minZoom&quot;: 0,\n",
              "  &quot;maxZoom&quot;: 19,\n",
              "  &quot;maxNativeZoom&quot;: 19,\n",
              "  &quot;noWrap&quot;: false,\n",
              "  &quot;attribution&quot;: &quot;\\u0026copy; \\u003ca href=\\&quot;https://www.openstreetmap.org/copyright\\&quot;\\u003eOpenStreetMap\\u003c/a\\u003e contributors&quot;,\n",
              "  &quot;subdomains&quot;: &quot;abc&quot;,\n",
              "  &quot;detectRetina&quot;: false,\n",
              "  &quot;tms&quot;: false,\n",
              "  &quot;opacity&quot;: 1,\n",
              "}\n",
              "\n",
              "            );\n",
              "        \n",
              "    \n",
              "            tile_layer_82a22aadd29cc2855555e0b7b3f5460a.addTo(map_b92dc55ab5fd7696cc5e1bc4152ce395);\n",
              "        \n",
              "    \n",
              "            var marker_af81206dcb23cd610955b75b25b6666c = L.marker(\n",
              "                [-34.9078, -56.1955],\n",
              "                {\n",
              "}\n",
              "            ).addTo(map_b92dc55ab5fd7696cc5e1bc4152ce395);\n",
              "        \n",
              "    \n",
              "        var popup_b0c0865198c503626e648e90cf50e71a = L.popup({\n",
              "  &quot;maxWidth&quot;: &quot;100%&quot;,\n",
              "});\n",
              "\n",
              "        \n",
              "            \n",
              "                var html_1a88d6347e5b6e9e983e75d723ea9f50 = $(`&lt;div id=&quot;html_1a88d6347e5b6e9e983e75d723ea9f50&quot; style=&quot;width: 100.0%; height: 100.0%;&quot;&gt;1972 Museum&lt;/div&gt;`)[0];\n",
              "                popup_b0c0865198c503626e648e90cf50e71a.setContent(html_1a88d6347e5b6e9e983e75d723ea9f50);\n",
              "            \n",
              "        \n",
              "\n",
              "        marker_af81206dcb23cd610955b75b25b6666c.bindPopup(popup_b0c0865198c503626e648e90cf50e71a)\n",
              "        ;\n",
              "\n",
              "        \n",
              "    \n",
              "    \n",
              "            var marker_944f32a0e386134b9091714a76f7474c = L.marker(\n",
              "                [-34.8947, -56.1502],\n",
              "                {\n",
              "}\n",
              "            ).addTo(map_b92dc55ab5fd7696cc5e1bc4152ce395);\n",
              "        \n",
              "    \n",
              "        var popup_0aebc2e71b03b4fb764017917d80f228 = L.popup({\n",
              "  &quot;maxWidth&quot;: &quot;100%&quot;,\n",
              "});\n",
              "\n",
              "        \n",
              "            \n",
              "                var html_9032c81ece06de8036f7d982bddee69a = $(`&lt;div id=&quot;html_9032c81ece06de8036f7d982bddee69a&quot; style=&quot;width: 100.0%; height: 100.0%;&quot;&gt;Soccer Stadium&lt;/div&gt;`)[0];\n",
              "                popup_0aebc2e71b03b4fb764017917d80f228.setContent(html_9032c81ece06de8036f7d982bddee69a);\n",
              "            \n",
              "        \n",
              "\n",
              "        marker_944f32a0e386134b9091714a76f7474c.bindPopup(popup_0aebc2e71b03b4fb764017917d80f228)\n",
              "        ;\n",
              "\n",
              "        \n",
              "    \n",
              "&lt;/script&gt;\n",
              "&lt;/html&gt;\" style=\"position:absolute;width:100%;height:100%;left:0;top:0;border:none !important;\" allowfullscreen webkitallowfullscreen mozallowfullscreen></iframe></div></div>"
            ]
          },
          "metadata": {},
          "execution_count": 49
        }
      ]
    },
    {
      "cell_type": "markdown",
      "source": [
        "# First cruise day!\n",
        "\n",
        "Here's where the real adventure begins. After a couple of days exploring on land, it was time to set sail! As you can see on the map, this cruise is taking us from Buenos Aires, all the way around the tip of South America, and eventually, to Antarctica."
      ],
      "metadata": {
        "id": "Ejgu2wdg9T46"
      }
    },
    {
      "cell_type": "code",
      "source": [
        "# prompt: Nap a cruise path from Buenos Aires, Argentina, to Montevideo Uruguay.\n",
        "\n",
        "# Create a map centered between the two cities\n",
        "cruise_map = folium.Map(location=[-34.75, -57.27], zoom_start=6)\n",
        "\n",
        "# Add markers for the start and end points\n",
        "folium.Marker(buenos_aires, popup=\"Buenos Aires\").add_to(cruise_map)\n",
        "folium.Marker(montevideo, popup=\"Montevideo\").add_to(cruise_map)\n",
        "\n",
        "# Draw a polyline representing the cruise path\n",
        "folium.PolyLine([buenos_aires, montevideo], color=\"red\", weight=2.5, opacity=1).add_to(cruise_map)\n",
        "\n",
        "# Add a title to the map.\n",
        "cruise_map.title = \"Cruise Path: Buenos Aires to Montevideo\"\n",
        "cruise_map.get_root().html.add_child(folium.Element(\"<h1>\" + cruise_map.title + \"</h1>\"))\n",
        "\n",
        "# Display the map\n",
        "cruise_map"
      ],
      "metadata": {
        "colab": {
          "base_uri": "https://localhost:8080/",
          "height": 897
        },
        "id": "HxDqaHh5z_Yp",
        "outputId": "577e82a5-7076-4b20-9f32-524650f1242a"
      },
      "execution_count": null,
      "outputs": [
        {
          "output_type": "execute_result",
          "data": {
            "text/plain": [
              "<folium.folium.Map at 0x7a77c6a9ead0>"
            ],
            "text/html": [
              "<div style=\"width:100%;\"><div style=\"position:relative;width:100%;height:0;padding-bottom:60%;\"><span style=\"color:#565656\">Make this Notebook Trusted to load map: File -> Trust Notebook</span><iframe srcdoc=\"&lt;!DOCTYPE html&gt;\n",
              "&lt;html&gt;\n",
              "&lt;head&gt;\n",
              "    \n",
              "    &lt;meta http-equiv=&quot;content-type&quot; content=&quot;text/html; charset=UTF-8&quot; /&gt;\n",
              "    \n",
              "        &lt;script&gt;\n",
              "            L_NO_TOUCH = false;\n",
              "            L_DISABLE_3D = false;\n",
              "        &lt;/script&gt;\n",
              "    \n",
              "    &lt;style&gt;html, body {width: 100%;height: 100%;margin: 0;padding: 0;}&lt;/style&gt;\n",
              "    &lt;style&gt;#map {position:absolute;top:0;bottom:0;right:0;left:0;}&lt;/style&gt;\n",
              "    &lt;script src=&quot;https://cdn.jsdelivr.net/npm/leaflet@1.9.3/dist/leaflet.js&quot;&gt;&lt;/script&gt;\n",
              "    &lt;script src=&quot;https://code.jquery.com/jquery-3.7.1.min.js&quot;&gt;&lt;/script&gt;\n",
              "    &lt;script src=&quot;https://cdn.jsdelivr.net/npm/bootstrap@5.2.2/dist/js/bootstrap.bundle.min.js&quot;&gt;&lt;/script&gt;\n",
              "    &lt;script src=&quot;https://cdnjs.cloudflare.com/ajax/libs/Leaflet.awesome-markers/2.0.2/leaflet.awesome-markers.js&quot;&gt;&lt;/script&gt;\n",
              "    &lt;link rel=&quot;stylesheet&quot; href=&quot;https://cdn.jsdelivr.net/npm/leaflet@1.9.3/dist/leaflet.css&quot;/&gt;\n",
              "    &lt;link rel=&quot;stylesheet&quot; href=&quot;https://cdn.jsdelivr.net/npm/bootstrap@5.2.2/dist/css/bootstrap.min.css&quot;/&gt;\n",
              "    &lt;link rel=&quot;stylesheet&quot; href=&quot;https://netdna.bootstrapcdn.com/bootstrap/3.0.0/css/bootstrap-glyphicons.css&quot;/&gt;\n",
              "    &lt;link rel=&quot;stylesheet&quot; href=&quot;https://cdn.jsdelivr.net/npm/@fortawesome/fontawesome-free@6.2.0/css/all.min.css&quot;/&gt;\n",
              "    &lt;link rel=&quot;stylesheet&quot; href=&quot;https://cdnjs.cloudflare.com/ajax/libs/Leaflet.awesome-markers/2.0.2/leaflet.awesome-markers.css&quot;/&gt;\n",
              "    &lt;link rel=&quot;stylesheet&quot; href=&quot;https://cdn.jsdelivr.net/gh/python-visualization/folium/folium/templates/leaflet.awesome.rotate.min.css&quot;/&gt;\n",
              "    \n",
              "            &lt;meta name=&quot;viewport&quot; content=&quot;width=device-width,\n",
              "                initial-scale=1.0, maximum-scale=1.0, user-scalable=no&quot; /&gt;\n",
              "            &lt;style&gt;\n",
              "                #map_ddfe8eeb98dc710927e144082d2d3f9e {\n",
              "                    position: relative;\n",
              "                    width: 100.0%;\n",
              "                    height: 100.0%;\n",
              "                    left: 0.0%;\n",
              "                    top: 0.0%;\n",
              "                }\n",
              "                .leaflet-container { font-size: 1rem; }\n",
              "            &lt;/style&gt;\n",
              "        \n",
              "&lt;/head&gt;\n",
              "&lt;body&gt;\n",
              "    \n",
              "    &lt;h1&gt;Cruise Path: Buenos Aires to Montevideo&lt;/h1&gt;\n",
              "    \n",
              "            &lt;div class=&quot;folium-map&quot; id=&quot;map_ddfe8eeb98dc710927e144082d2d3f9e&quot; &gt;&lt;/div&gt;\n",
              "        \n",
              "&lt;/body&gt;\n",
              "&lt;script&gt;\n",
              "    \n",
              "    \n",
              "            var map_ddfe8eeb98dc710927e144082d2d3f9e = L.map(\n",
              "                &quot;map_ddfe8eeb98dc710927e144082d2d3f9e&quot;,\n",
              "                {\n",
              "                    center: [-34.75, -57.27],\n",
              "                    crs: L.CRS.EPSG3857,\n",
              "                    ...{\n",
              "  &quot;zoom&quot;: 6,\n",
              "  &quot;zoomControl&quot;: true,\n",
              "  &quot;preferCanvas&quot;: false,\n",
              "}\n",
              "\n",
              "                }\n",
              "            );\n",
              "\n",
              "            \n",
              "\n",
              "        \n",
              "    \n",
              "            var tile_layer_16e1edd9e22a64a8d1dd97f76be85959 = L.tileLayer(\n",
              "                &quot;https://tile.openstreetmap.org/{z}/{x}/{y}.png&quot;,\n",
              "                {\n",
              "  &quot;minZoom&quot;: 0,\n",
              "  &quot;maxZoom&quot;: 19,\n",
              "  &quot;maxNativeZoom&quot;: 19,\n",
              "  &quot;noWrap&quot;: false,\n",
              "  &quot;attribution&quot;: &quot;\\u0026copy; \\u003ca href=\\&quot;https://www.openstreetmap.org/copyright\\&quot;\\u003eOpenStreetMap\\u003c/a\\u003e contributors&quot;,\n",
              "  &quot;subdomains&quot;: &quot;abc&quot;,\n",
              "  &quot;detectRetina&quot;: false,\n",
              "  &quot;tms&quot;: false,\n",
              "  &quot;opacity&quot;: 1,\n",
              "}\n",
              "\n",
              "            );\n",
              "        \n",
              "    \n",
              "            tile_layer_16e1edd9e22a64a8d1dd97f76be85959.addTo(map_ddfe8eeb98dc710927e144082d2d3f9e);\n",
              "        \n",
              "    \n",
              "            var marker_27fe008d64ba734e626e850c67c462da = L.marker(\n",
              "                [-34.6083696, -58.4440583],\n",
              "                {\n",
              "}\n",
              "            ).addTo(map_ddfe8eeb98dc710927e144082d2d3f9e);\n",
              "        \n",
              "    \n",
              "        var popup_0c74814e746f19bcf6bf223acd9589f1 = L.popup({\n",
              "  &quot;maxWidth&quot;: &quot;100%&quot;,\n",
              "});\n",
              "\n",
              "        \n",
              "            \n",
              "                var html_681731703dc969f575795c5e1f863db6 = $(`&lt;div id=&quot;html_681731703dc969f575795c5e1f863db6&quot; style=&quot;width: 100.0%; height: 100.0%;&quot;&gt;Buenos Aires&lt;/div&gt;`)[0];\n",
              "                popup_0c74814e746f19bcf6bf223acd9589f1.setContent(html_681731703dc969f575795c5e1f863db6);\n",
              "            \n",
              "        \n",
              "\n",
              "        marker_27fe008d64ba734e626e850c67c462da.bindPopup(popup_0c74814e746f19bcf6bf223acd9589f1)\n",
              "        ;\n",
              "\n",
              "        \n",
              "    \n",
              "    \n",
              "            var marker_bd4af1c63e91d9717d35b12b9d37c021 = L.marker(\n",
              "                [-34.9058916, -56.1913095],\n",
              "                {\n",
              "}\n",
              "            ).addTo(map_ddfe8eeb98dc710927e144082d2d3f9e);\n",
              "        \n",
              "    \n",
              "        var popup_462dd10fa55f2927db9308208a887891 = L.popup({\n",
              "  &quot;maxWidth&quot;: &quot;100%&quot;,\n",
              "});\n",
              "\n",
              "        \n",
              "            \n",
              "                var html_ccd168721703e0bae75446337c1da747 = $(`&lt;div id=&quot;html_ccd168721703e0bae75446337c1da747&quot; style=&quot;width: 100.0%; height: 100.0%;&quot;&gt;Montevideo&lt;/div&gt;`)[0];\n",
              "                popup_462dd10fa55f2927db9308208a887891.setContent(html_ccd168721703e0bae75446337c1da747);\n",
              "            \n",
              "        \n",
              "\n",
              "        marker_bd4af1c63e91d9717d35b12b9d37c021.bindPopup(popup_462dd10fa55f2927db9308208a887891)\n",
              "        ;\n",
              "\n",
              "        \n",
              "    \n",
              "    \n",
              "            var poly_line_5449c9a158a509a48e38feeac896b022 = L.polyline(\n",
              "                [[-34.6083696, -58.4440583], [-34.9058916, -56.1913095]],\n",
              "                {&quot;bubblingMouseEvents&quot;: true, &quot;color&quot;: &quot;red&quot;, &quot;dashArray&quot;: null, &quot;dashOffset&quot;: null, &quot;fill&quot;: false, &quot;fillColor&quot;: &quot;red&quot;, &quot;fillOpacity&quot;: 0.2, &quot;fillRule&quot;: &quot;evenodd&quot;, &quot;lineCap&quot;: &quot;round&quot;, &quot;lineJoin&quot;: &quot;round&quot;, &quot;noClip&quot;: false, &quot;opacity&quot;: 1, &quot;smoothFactor&quot;: 1.0, &quot;stroke&quot;: true, &quot;weight&quot;: 2.5}\n",
              "            ).addTo(map_ddfe8eeb98dc710927e144082d2d3f9e);\n",
              "        \n",
              "&lt;/script&gt;\n",
              "&lt;/html&gt;\" style=\"position:absolute;width:100%;height:100%;left:0;top:0;border:none !important;\" allowfullscreen webkitallowfullscreen mozallowfullscreen></iframe></div></div>"
            ]
          },
          "metadata": {},
          "execution_count": 50
        }
      ]
    },
    {
      "cell_type": "markdown",
      "source": [
        "We'll be stopping at several ports along the way, including Montevideo (which I just told you about), Punta del Este, Puerto Madryn, and the Falkland Islands, before heading south across the Drake Passage to the Antarctic Peninsula."
      ],
      "metadata": {
        "id": "tGdfKnNaplno"
      }
    },
    {
      "cell_type": "code",
      "source": [
        "%%html\n",
        "<blockquote class=\"twitter-tweet\"><p lang=\"en\" dir=\"ltr\">THERE ARE SCIENCE AND CULTURE LECTURES EVERY DAY 🤩 <a href=\"https://t.co/cbLVujRSOA\">pic.twitter.com/cbLVujRSOA</a></p>&mdash; 👩‍💻 Paige Bailey (@DynamicWebPaige) <a href=\"https://twitter.com/DynamicWebPaige/status/1868730183836221752?ref_src=twsrc%5Etfw\">December 16, 2024</a></blockquote> <script async src=\"https://platform.twitter.com/widgets.js\" charset=\"utf-8\"></script>"
      ],
      "metadata": {
        "colab": {
          "base_uri": "https://localhost:8080/",
          "height": 686
        },
        "id": "yJxV7N_WefHT",
        "outputId": "d5b36a22-bf40-48d2-e528-f45ca7f97048"
      },
      "execution_count": null,
      "outputs": [
        {
          "output_type": "display_data",
          "data": {
            "text/plain": [
              "<IPython.core.display.HTML object>"
            ],
            "text/html": [
              "<blockquote class=\"twitter-tweet\"><p lang=\"en\" dir=\"ltr\">THERE ARE SCIENCE AND CULTURE LECTURES EVERY DAY 🤩 <a href=\"https://t.co/cbLVujRSOA\">pic.twitter.com/cbLVujRSOA</a></p>&mdash; 👩‍💻 Paige Bailey (@DynamicWebPaige) <a href=\"https://twitter.com/DynamicWebPaige/status/1868730183836221752?ref_src=twsrc%5Etfw\">December 16, 2024</a></blockquote> <script async src=\"https://platform.twitter.com/widgets.js\" charset=\"utf-8\"></script>\n"
            ]
          },
          "metadata": {}
        }
      ]
    },
    {
      "cell_type": "markdown",
      "source": [
        "# Conclusion\n",
        "\n",
        "From flight delays and language barriers to incredible food and cultural discoveries, this first leg of my trip was a rollercoaster. Buenos Aires and Montevideo were the perfect appetizers for the Antarctic feast to come. Stay tuned for the next installment of my travel log – to Puerto Madryn and the Falkland Islands!"
      ],
      "metadata": {
        "id": "G20gcXF09LYm"
      }
    },
    {
      "cell_type": "code",
      "source": [
        "%%html\n",
        "<blockquote class=\"twitter-tweet\"><p lang=\"en\" dir=\"ltr\">🚢 shipping* even during a code freeze**<br><br>* physically and metaphorically <br>** and a webpaige@ freeze, this boat is going to Antarctica! 🧊 <a href=\"https://t.co/WrUkgpw68Q\">https://t.co/WrUkgpw68Q</a> <a href=\"https://t.co/SSWOvw9EEo\">pic.twitter.com/SSWOvw9EEo</a></p>&mdash; 👩‍💻 Paige Bailey (@DynamicWebPaige) <a href=\"https://twitter.com/DynamicWebPaige/status/1868771521390690698?ref_src=twsrc%5Etfw\">December 16, 2024</a></blockquote> <script async src=\"https://platform.twitter.com/widgets.js\" charset=\"utf-8\"></script>"
      ],
      "metadata": {
        "colab": {
          "base_uri": "https://localhost:8080/",
          "height": 1000
        },
        "id": "qyKzKfUXenou",
        "outputId": "ec437976-032e-45ec-c6dc-45c8257211ec"
      },
      "execution_count": null,
      "outputs": [
        {
          "output_type": "display_data",
          "data": {
            "text/plain": [
              "<IPython.core.display.HTML object>"
            ],
            "text/html": [
              "<blockquote class=\"twitter-tweet\"><p lang=\"en\" dir=\"ltr\">🚢 shipping* even during a code freeze**<br><br>* physically and metaphorically <br>** and a webpaige@ freeze, this boat is going to Antarctica! 🧊 <a href=\"https://t.co/WrUkgpw68Q\">https://t.co/WrUkgpw68Q</a> <a href=\"https://t.co/SSWOvw9EEo\">pic.twitter.com/SSWOvw9EEo</a></p>&mdash; 👩‍💻 Paige Bailey (@DynamicWebPaige) <a href=\"https://twitter.com/DynamicWebPaige/status/1868771521390690698?ref_src=twsrc%5Etfw\">December 16, 2024</a></blockquote> <script async src=\"https://platform.twitter.com/widgets.js\" charset=\"utf-8\"></script>\n"
            ]
          },
          "metadata": {}
        }
      ]
    },
    {
      "cell_type": "code",
      "source": [],
      "metadata": {
        "id": "Daq4ijyAjyJD"
      },
      "execution_count": null,
      "outputs": []
    }
  ]
}