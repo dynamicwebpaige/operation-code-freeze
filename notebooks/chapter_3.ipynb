{
  "nbformat": 4,
  "nbformat_minor": 0,
  "metadata": {
    "colab": {
      "provenance": []
    },
    "kernelspec": {
      "name": "python3",
      "display_name": "Python 3"
    },
    "language_info": {
      "name": "python"
    }
  },
  "cells": [
    {
      "cell_type": "markdown",
      "source": [
        "# 👋🏼 Introduction (if you're just joining us!)\n",
        "\n",
        "_This winter break, I embarked on an [unforgettable adventure](https://www.github.com/dynamicwebpaige/operation-code-freeze) to the southernmost tip of South America and Antartica. It has been a journey filled with stunning scenery, incredible wildlife, and moments of profound reflection. Join me as I share the highlights, the surprises, and the ways that technology (especially Google's Gemini models) helped me document and understand this unique corner of the world._\n",
        "\n",
        "This fourth and final segment details the dramatic landscapes of Cape Horn, Ushuaia (especially Tierra del Fuego National Park), and the breathtaking beauty of the Chilean Fjords."
      ],
      "metadata": {
        "id": "jEp_anML9GmA"
      }
    },
    {
      "cell_type": "markdown",
      "source": [
        "# 1️⃣ Edging towards the end of the world (December 29 - 31)\n",
        "My final leg of the journey led to anticipation of reaching _\"the end of the world.\"_ As the Oosterdam approached Cape Horn, I couldn't help but feel a sense of awe. This legendary landmark, where the Atlantic and Pacific Oceans meet, has long captivated sailors and explorers."
      ],
      "metadata": {
        "id": "d-jIStIY-M1U"
      }
    },
    {
      "cell_type": "code",
      "source": [
        "#@title Timeline\n",
        "import calendar\n",
        "import datetime\n",
        "\n",
        "def create_december_2024_calendar():\n",
        "    \"\"\"Creates a formatted calendar for December 2024 with specific dates filled in.\"\"\"\n",
        "\n",
        "    # --- Styling ---\n",
        "    header_color = \"\\033[1;38;5;117m\"   # Bold Light Purple\n",
        "    weekday_color = \"\\033[38;5;253m\"    # Very Light Gray (almost white)\n",
        "    weekend_color = \"\\033[38;5;244m\"    # Medium Light Gray\n",
        "    filled_date_color = \"\\033[1;38;5;120;48;5;236m\"  # Bold Green on Dark Gray background\n",
        "    other_month_color = \"\\033[38;5;238m\" # Darker Gray for days not in December\n",
        "    reset_color = \"\\033[0m\"          # Reset color\n",
        "\n",
        "    # --- Filled Dates ---\n",
        "    filled_dates = [29, 30, 31]\n",
        "\n",
        "    # --- Calendar Creation ---\n",
        "    cal = calendar.Calendar(firstweekday=6)  # Start week on Sunday\n",
        "    dec_2024 = cal.monthdatescalendar(2024, 12)\n",
        "\n",
        "    # --- Header ---\n",
        "    print(f\"{header_color}       .: DECEMBER 2024 :.{reset_color}\")\n",
        "    print(f\"{weekday_color}  Su  Mo  Tu  We  Th  Fr  Sa {reset_color}\")  # Added extra spaces\n",
        "\n",
        "    # --- Calendar Body ---\n",
        "    for week in dec_2024:\n",
        "        week_str = \"\"\n",
        "        for date in week:\n",
        "            day = date.day\n",
        "            if date.month != 12:\n",
        "                # Dates outside of December in darker gray\n",
        "                week_str += f\"{other_month_color} {day:2} {reset_color}\"\n",
        "            elif day in filled_dates:\n",
        "                # Filled dates in green on dark gray background\n",
        "                week_str += f\"{filled_date_color} {day:2} {reset_color}\"\n",
        "            elif date.weekday() == 5 or date.weekday() == 6:\n",
        "                # Weekends in medium light gray\n",
        "                week_str += f\"{weekend_color} {day:2} {reset_color}\"\n",
        "            else:\n",
        "                # Weekdays in very light gray\n",
        "                week_str += f\"{weekday_color} {day:2} {reset_color}\"\n",
        "        print(week_str)\n",
        "\n",
        "# --- Run and Display the Calendar ---\n",
        "create_december_2024_calendar()"
      ],
      "metadata": {
        "colab": {
          "base_uri": "https://localhost:8080/"
        },
        "cellView": "form",
        "id": "PCSzDDNKG2S1",
        "outputId": "7133cdf6-56d1-4ea4-f94c-7267f0060627"
      },
      "execution_count": null,
      "outputs": [
        {
          "output_type": "stream",
          "name": "stdout",
          "text": [
            "\u001b[1;38;5;117m       .: DECEMBER 2024 :.\u001b[0m\n",
            "\u001b[38;5;253m  Su  Mo  Tu  We  Th  Fr  Sa \u001b[0m\n",
            "\u001b[38;5;244m  1 \u001b[0m\u001b[38;5;253m  2 \u001b[0m\u001b[38;5;253m  3 \u001b[0m\u001b[38;5;253m  4 \u001b[0m\u001b[38;5;253m  5 \u001b[0m\u001b[38;5;253m  6 \u001b[0m\u001b[38;5;244m  7 \u001b[0m\n",
            "\u001b[38;5;244m  8 \u001b[0m\u001b[38;5;253m  9 \u001b[0m\u001b[38;5;253m 10 \u001b[0m\u001b[38;5;253m 11 \u001b[0m\u001b[38;5;253m 12 \u001b[0m\u001b[38;5;253m 13 \u001b[0m\u001b[38;5;244m 14 \u001b[0m\n",
            "\u001b[38;5;244m 15 \u001b[0m\u001b[38;5;253m 16 \u001b[0m\u001b[38;5;253m 17 \u001b[0m\u001b[38;5;253m 18 \u001b[0m\u001b[38;5;253m 19 \u001b[0m\u001b[38;5;253m 20 \u001b[0m\u001b[38;5;244m 21 \u001b[0m\n",
            "\u001b[38;5;244m 22 \u001b[0m\u001b[38;5;253m 23 \u001b[0m\u001b[38;5;253m 24 \u001b[0m\u001b[38;5;253m 25 \u001b[0m\u001b[38;5;253m 26 \u001b[0m\u001b[38;5;253m 27 \u001b[0m\u001b[38;5;244m 28 \u001b[0m\n",
            "\u001b[1;38;5;120;48;5;236m 29 \u001b[0m\u001b[1;38;5;120;48;5;236m 30 \u001b[0m\u001b[1;38;5;120;48;5;236m 31 \u001b[0m\u001b[38;5;238m  1 \u001b[0m\u001b[38;5;238m  2 \u001b[0m\u001b[38;5;238m  3 \u001b[0m\u001b[38;5;238m  4 \u001b[0m\n"
          ]
        }
      ]
    },
    {
      "cell_type": "markdown",
      "source": [
        "The landscapes of Tierra del Fuego were simply breathtaking. Rugged mountains, pristine waters, and the promise of adventure around every bend. It's a place that truly feels untouched and wild."
      ],
      "metadata": {
        "id": "J5foMhGO-l79"
      }
    },
    {
      "cell_type": "code",
      "source": [
        "#@title Tierra del Fuego\n",
        "%%html\n",
        "<blockquote class=\"twitter-tweet\"><p lang=\"es\" dir=\"ltr\">📸🖼️ Tierra del Fuego photo dump incoming: <a href=\"https://t.co/iIcYPYdylf\">https://t.co/iIcYPYdylf</a> <a href=\"https://t.co/siB4nvyAIX\">pic.twitter.com/siB4nvyAIX</a></p>&mdash; 👩‍💻 Paige Bailey (@DynamicWebPaige) <a href=\"https://twitter.com/DynamicWebPaige/status/1873771713101508936?ref_src=twsrc%5Etfw\">December 30, 2024</a></blockquote> <script async src=\"https://platform.twitter.com/widgets.js\" charset=\"utf-8\"></script>\n",
        "\n",
        "<blockquote class=\"twitter-tweet\"><p lang=\"en\" dir=\"ltr\">And for the geologists out there: extremely good rocks (retirees for scale), as well as condors, eagles, cormorants, and geese families (for the borders). <a href=\"https://t.co/Mp8mS6bNpa\">pic.twitter.com/Mp8mS6bNpa</a></p>&mdash; 👩‍💻 Paige Bailey (@DynamicWebPaige) <a href=\"https://twitter.com/DynamicWebPaige/status/1873773052552782111?ref_src=twsrc%5Etfw\">December 30, 2024</a></blockquote> <script async src=\"https://platform.twitter.com/widgets.js\" charset=\"utf-8\"></script>"
      ],
      "metadata": {
        "colab": {
          "base_uri": "https://localhost:8080/",
          "height": 1000
        },
        "cellView": "form",
        "id": "gUJ89BpWp9vE",
        "outputId": "978c7118-10f1-4b36-b0cc-c80b761802b7"
      },
      "execution_count": null,
      "outputs": [
        {
          "output_type": "display_data",
          "data": {
            "text/plain": [
              "<IPython.core.display.HTML object>"
            ],
            "text/html": [
              "<blockquote class=\"twitter-tweet\"><p lang=\"es\" dir=\"ltr\">📸🖼️ Tierra del Fuego photo dump incoming: <a href=\"https://t.co/iIcYPYdylf\">https://t.co/iIcYPYdylf</a> <a href=\"https://t.co/siB4nvyAIX\">pic.twitter.com/siB4nvyAIX</a></p>&mdash; 👩‍💻 Paige Bailey (@DynamicWebPaige) <a href=\"https://twitter.com/DynamicWebPaige/status/1873771713101508936?ref_src=twsrc%5Etfw\">December 30, 2024</a></blockquote> <script async src=\"https://platform.twitter.com/widgets.js\" charset=\"utf-8\"></script>\n",
              "\n",
              "<blockquote class=\"twitter-tweet\"><p lang=\"en\" dir=\"ltr\">And for the geologists out there: extremely good rocks (retirees for scale), as well as condors, eagles, cormorants, and geese families (for the borders). <a href=\"https://t.co/Mp8mS6bNpa\">pic.twitter.com/Mp8mS6bNpa</a></p>&mdash; 👩‍💻 Paige Bailey (@DynamicWebPaige) <a href=\"https://twitter.com/DynamicWebPaige/status/1873773052552782111?ref_src=twsrc%5Etfw\">December 30, 2024</a></blockquote> <script async src=\"https://platform.twitter.com/widgets.js\" charset=\"utf-8\"></script>\n"
            ]
          },
          "metadata": {}
        }
      ]
    },
    {
      "cell_type": "markdown",
      "source": [
        "The Oosterdam's journey took us through the Beagle Channel, where we were treated to the sight of _\"Glacier Alley.\"_ These majestic rivers of ice, slowly carving their way through the mountains, are a sight to behold."
      ],
      "metadata": {
        "id": "kRHwL-TK-w1L"
      }
    },
    {
      "cell_type": "code",
      "source": [
        "#@title Glacier Alley in Chile\n",
        "%%html\n",
        "<blockquote class=\"twitter-tweet\"><p lang=\"en\" dir=\"ltr\">🧊❄️ Glacier Alley in Chile!<br><br>All of the glaciers are receding, and will be hung glaciers (won&#39;t reach the bottom) in ~10 years&#39; time. <a href=\"https://t.co/FP8w1Q6cmd\">pic.twitter.com/FP8w1Q6cmd</a></p>&mdash; 👩‍💻 Paige Bailey (@DynamicWebPaige) <a href=\"https://twitter.com/DynamicWebPaige/status/1873847779082035511?ref_src=twsrc%5Etfw\">December 30, 2024</a></blockquote> <script async src=\"https://platform.twitter.com/widgets.js\" charset=\"utf-8\"></script>"
      ],
      "metadata": {
        "colab": {
          "base_uri": "https://localhost:8080/",
          "height": 636
        },
        "cellView": "form",
        "id": "9QzEifWlqJua",
        "outputId": "ea9de55b-e0e7-42a0-a76d-2cd1f7cf409a"
      },
      "execution_count": null,
      "outputs": [
        {
          "output_type": "display_data",
          "data": {
            "text/plain": [
              "<IPython.core.display.HTML object>"
            ],
            "text/html": [
              "<blockquote class=\"twitter-tweet\"><p lang=\"en\" dir=\"ltr\">🧊❄️ Glacier Alley in Chile!<br><br>All of the glaciers are receding, and will be hung glaciers (won&#39;t reach the bottom) in ~10 years&#39; time. <a href=\"https://t.co/FP8w1Q6cmd\">pic.twitter.com/FP8w1Q6cmd</a></p>&mdash; 👩‍💻 Paige Bailey (@DynamicWebPaige) <a href=\"https://twitter.com/DynamicWebPaige/status/1873847779082035511?ref_src=twsrc%5Etfw\">December 30, 2024</a></blockquote> <script async src=\"https://platform.twitter.com/widgets.js\" charset=\"utf-8\"></script>\n"
            ]
          },
          "metadata": {}
        }
      ]
    },
    {
      "cell_type": "markdown",
      "source": [
        "It was sobering to learn that these glaciers are receding rapidly and will likely become \"hung glaciers\" within the next decade. A stark reminder of the impact of climate change on even the most remote parts of our planet."
      ],
      "metadata": {
        "id": "6ewdfPNx-8gv"
      }
    },
    {
      "cell_type": "markdown",
      "source": [
        "Chile, a land of vibrant culture and literary giants. It's the birthplace of Pablo Neruda, Isabel Allende, Roberto Bolaño, Alejandro Jodorowsky, and my personal favorite, the antipoet Nicanor Parra."
      ],
      "metadata": {
        "id": "Qs92ALCK_BDJ"
      }
    },
    {
      "cell_type": "code",
      "source": [
        "#@title Chilean Authors\n",
        "%%html\n",
        "<blockquote class=\"twitter-tweet\"><p lang=\"en\" dir=\"ltr\">Chile! The birthplace of my favorite antipoet, Nicanor Parra – and Bolaño, Neruda, Allende... 🇨🇱 <a href=\"https://t.co/BaPf9av3ff\">pic.twitter.com/BaPf9av3ff</a></p>&mdash; 👩‍💻 Paige Bailey (@DynamicWebPaige) <a href=\"https://twitter.com/DynamicWebPaige/status/1874067890254807191?ref_src=twsrc%5Etfw\">December 31, 2024</a></blockquote> <script async src=\"https://platform.twitter.com/widgets.js\" charset=\"utf-8\"></script>"
      ],
      "metadata": {
        "colab": {
          "base_uri": "https://localhost:8080/",
          "height": 588
        },
        "cellView": "form",
        "id": "D_LJjQ6kqOMH",
        "outputId": "f20ee1a4-de68-4093-a97f-56a7887dc52c"
      },
      "execution_count": null,
      "outputs": [
        {
          "output_type": "display_data",
          "data": {
            "text/plain": [
              "<IPython.core.display.HTML object>"
            ],
            "text/html": [
              "<blockquote class=\"twitter-tweet\"><p lang=\"en\" dir=\"ltr\">Chile! The birthplace of my favorite antipoet, Nicanor Parra – and Bolaño, Neruda, Allende... 🇨🇱 <a href=\"https://t.co/BaPf9av3ff\">pic.twitter.com/BaPf9av3ff</a></p>&mdash; 👩‍💻 Paige Bailey (@DynamicWebPaige) <a href=\"https://twitter.com/DynamicWebPaige/status/1874067890254807191?ref_src=twsrc%5Etfw\">December 31, 2024</a></blockquote> <script async src=\"https://platform.twitter.com/widgets.js\" charset=\"utf-8\"></script>\n"
            ]
          },
          "metadata": {}
        }
      ]
    },
    {
      "cell_type": "markdown",
      "source": [
        "Immersing myself in the landscapes that inspired these literary greats was a truly special experience. It felt like stepping into the pages of their works - especially the poems of Nicanor Parra, who often wrote about locations like Puerto Montt and Santiago.\n",
        "\n",
        "I picked up a few of Parra's books from a nearby bookstore, and the Google Translate app helped do a 1:1 translation of some of the text on the tender ride back to the cruise ship:"
      ],
      "metadata": {
        "id": "6Ge_dpwd_Q9t"
      }
    },
    {
      "cell_type": "code",
      "source": [
        "#@title Google Translate for Nicanor Parra\n",
        "%%html\n",
        "<blockquote class=\"twitter-tweet\"><p lang=\"es\" dir=\"ltr\">Creo que moriré de poesía <a href=\"https://t.co/jzbEmjF9ei\">pic.twitter.com/jzbEmjF9ei</a></p>&mdash; 👩‍💻 Paige Bailey (@DynamicWebPaige) <a href=\"https://twitter.com/DynamicWebPaige/status/1874134197821919394?ref_src=twsrc%5Etfw\">December 31, 2024</a></blockquote> <script async src=\"https://platform.twitter.com/widgets.js\" charset=\"utf-8\"></script>"
      ],
      "metadata": {
        "colab": {
          "base_uri": "https://localhost:8080/",
          "height": 955
        },
        "cellView": "form",
        "id": "9FnGbQSzqZJ9",
        "outputId": "04de6ee9-8aa3-4e72-bdd2-913a204fce93"
      },
      "execution_count": null,
      "outputs": [
        {
          "output_type": "display_data",
          "data": {
            "text/plain": [
              "<IPython.core.display.HTML object>"
            ],
            "text/html": [
              "<blockquote class=\"twitter-tweet\"><p lang=\"es\" dir=\"ltr\">Creo que moriré de poesía <a href=\"https://t.co/jzbEmjF9ei\">pic.twitter.com/jzbEmjF9ei</a></p>&mdash; 👩‍💻 Paige Bailey (@DynamicWebPaige) <a href=\"https://twitter.com/DynamicWebPaige/status/1874134197821919394?ref_src=twsrc%5Etfw\">December 31, 2024</a></blockquote> <script async src=\"https://platform.twitter.com/widgets.js\" charset=\"utf-8\"></script>\n"
            ]
          },
          "metadata": {}
        }
      ]
    },
    {
      "cell_type": "markdown",
      "source": [
        "The beauty of South America, the Falkland Islands, and Antarctica has been almost overwhelming. I've been trying to cobble together a playlist of the trip, and it's mostly filled with instrumental tracks: Colin Stetson, Philip Glass, Brian Eno, and Sigur Ros.\n",
        "\n",
        "They provided the perfect soundtrack for contemplation:"
      ],
      "metadata": {
        "id": "nJwIFeP1_wQM"
      }
    },
    {
      "cell_type": "code",
      "source": [
        "#@title Antarctica, South America, and Falkland Islands Playlist\n",
        "%%html\n",
        "<blockquote class=\"twitter-tweet\"><p lang=\"en\" dir=\"ltr\">&quot;Antarctica, Chile, Patagonia, and the Falkland Islands, as a playlist&quot; ends up being a majority of <a href=\"https://twitter.com/colin_stetson?ref_src=twsrc%5Etfw\">@colin_stetson</a>, Philip Glass, Brian Eno, and Sigur Ros<br><br>(just in case anyone was wondering)<a href=\"https://t.co/G0Ipqs8hso\">https://t.co/G0Ipqs8hso</a> <a href=\"https://t.co/genBqLMkI5\">pic.twitter.com/genBqLMkI5</a></p>&mdash; 👩‍💻 Paige Bailey (@DynamicWebPaige) <a href=\"https://twitter.com/DynamicWebPaige/status/1874090750033748182?ref_src=twsrc%5Etfw\">December 31, 2024</a></blockquote> <script async src=\"https://platform.twitter.com/widgets.js\" charset=\"utf-8\"></script>"
      ],
      "metadata": {
        "colab": {
          "base_uri": "https://localhost:8080/",
          "height": 934
        },
        "cellView": "form",
        "id": "QDkJ40TaqTPM",
        "outputId": "769dcba7-162d-4182-d690-2a1ea03c85bf"
      },
      "execution_count": null,
      "outputs": [
        {
          "output_type": "display_data",
          "data": {
            "text/plain": [
              "<IPython.core.display.HTML object>"
            ],
            "text/html": [
              "<blockquote class=\"twitter-tweet\"><p lang=\"en\" dir=\"ltr\">&quot;Antarctica, Chile, Patagonia, and the Falkland Islands, as a playlist&quot; ends up being a majority of <a href=\"https://twitter.com/colin_stetson?ref_src=twsrc%5Etfw\">@colin_stetson</a>, Philip Glass, Brian Eno, and Sigur Ros<br><br>(just in case anyone was wondering)<a href=\"https://t.co/G0Ipqs8hso\">https://t.co/G0Ipqs8hso</a> <a href=\"https://t.co/genBqLMkI5\">pic.twitter.com/genBqLMkI5</a></p>&mdash; 👩‍💻 Paige Bailey (@DynamicWebPaige) <a href=\"https://twitter.com/DynamicWebPaige/status/1874090750033748182?ref_src=twsrc%5Etfw\">December 31, 2024</a></blockquote> <script async src=\"https://platform.twitter.com/widgets.js\" charset=\"utf-8\"></script>\n"
            ]
          },
          "metadata": {}
        }
      ]
    },
    {
      "cell_type": "markdown",
      "source": [
        "Amongst all the awe-inspiring moments, the simple gestures of love and companionship among the retirees on board were also incredibly touching. I've been really loving getting to know the retirees on the trip, and hearing their stories. They were a beautiful reminder that love and connection can thrive in every chapter of life."
      ],
      "metadata": {
        "id": "kDvrdPRuAU_9"
      }
    },
    {
      "cell_type": "code",
      "source": [
        "#@title Truly love my retirees\n",
        "%%html\n",
        "\n",
        "<blockquote class=\"twitter-tweet\"><p lang=\"en\" dir=\"ltr\">My retirees are giving me so many good cruise facts!! 😍<br><br>1⃣ Carnival Cruises owns <a href=\"https://twitter.com/HALcruises?ref_src=twsrc%5Etfw\">@HALcruises</a>, and if you own CCL stock you get $250 on-ship credit for every HAL, Seabourn, Princess, etc. reservation.<br><br>2⃣ If you&#39;re a cruise ship only sailing to US destinations, then 90% of your… <a href=\"https://t.co/FuEDpsSSac\">pic.twitter.com/FuEDpsSSac</a></p>&mdash; 👩‍💻 Paige Bailey (@DynamicWebPaige) <a href=\"https://twitter.com/DynamicWebPaige/status/1872399846877106314?ref_src=twsrc%5Etfw\">December 26, 2024</a></blockquote> <script async src=\"https://platform.twitter.com/widgets.js\" charset=\"utf-8\"></script>\n",
        "<blockquote class=\"twitter-tweet\"><p lang=\"en\" dir=\"ltr\">One of my favorite things about hanging out with retirees, is that I learn *so many facts*, just casually dropped:<br><br>- Vietnam vets didn&#39;t get government benefits (ex: good terms for home loans), or even recognized for their service, until McCain championed them 🤯<br><br>- Lead was…</p>&mdash; 👩‍💻 Paige Bailey (@DynamicWebPaige) <a href=\"https://twitter.com/DynamicWebPaige/status/1875664094407397623?ref_src=twsrc%5Etfw\">January 4, 2025</a></blockquote> <script async src=\"https://platform.twitter.com/widgets.js\" charset=\"utf-8\"></script>\n",
        "<blockquote class=\"twitter-tweet\"><p lang=\"en\" dir=\"ltr\">guys holding open doors, bringing flowers+purchases from the mainland back to the boat<br><br>couples reminding each other what foods they can&#39;t eat, going to shows together, dancing until midnight, holding hands<br><br>if you ever need a reminder that love exists, retirees are the cure 🥹 <a href=\"https://t.co/mqJBNhHsQf\">pic.twitter.com/mqJBNhHsQf</a></p>&mdash; 👩‍💻 Paige Bailey (@DynamicWebPaige) <a href=\"https://twitter.com/DynamicWebPaige/status/1873801986757550398?ref_src=twsrc%5Etfw\">December 30, 2024</a></blockquote> <script async src=\"https://platform.twitter.com/widgets.js\" charset=\"utf-8\"></script>\n"
      ],
      "metadata": {
        "colab": {
          "base_uri": "https://localhost:8080/",
          "height": 1000
        },
        "cellView": "form",
        "id": "jov5HGAmp3z_",
        "outputId": "300285d8-4c41-49bb-8a70-32ed19fbe338"
      },
      "execution_count": null,
      "outputs": [
        {
          "output_type": "display_data",
          "data": {
            "text/plain": [
              "<IPython.core.display.HTML object>"
            ],
            "text/html": [
              "\n",
              "<blockquote class=\"twitter-tweet\"><p lang=\"en\" dir=\"ltr\">My retirees are giving me so many good cruise facts!! 😍<br><br>1⃣ Carnival Cruises owns <a href=\"https://twitter.com/HALcruises?ref_src=twsrc%5Etfw\">@HALcruises</a>, and if you own CCL stock you get $250 on-ship credit for every HAL, Seabourn, Princess, etc. reservation.<br><br>2⃣ If you&#39;re a cruise ship only sailing to US destinations, then 90% of your… <a href=\"https://t.co/FuEDpsSSac\">pic.twitter.com/FuEDpsSSac</a></p>&mdash; 👩‍💻 Paige Bailey (@DynamicWebPaige) <a href=\"https://twitter.com/DynamicWebPaige/status/1872399846877106314?ref_src=twsrc%5Etfw\">December 26, 2024</a></blockquote> <script async src=\"https://platform.twitter.com/widgets.js\" charset=\"utf-8\"></script>\n",
              "<blockquote class=\"twitter-tweet\"><p lang=\"en\" dir=\"ltr\">One of my favorite things about hanging out with retirees, is that I learn *so many facts*, just casually dropped:<br><br>- Vietnam vets didn&#39;t get government benefits (ex: good terms for home loans), or even recognized for their service, until McCain championed them 🤯<br><br>- Lead was…</p>&mdash; 👩‍💻 Paige Bailey (@DynamicWebPaige) <a href=\"https://twitter.com/DynamicWebPaige/status/1875664094407397623?ref_src=twsrc%5Etfw\">January 4, 2025</a></blockquote> <script async src=\"https://platform.twitter.com/widgets.js\" charset=\"utf-8\"></script>\n",
              "<blockquote class=\"twitter-tweet\"><p lang=\"en\" dir=\"ltr\">guys holding open doors, bringing flowers+purchases from the mainland back to the boat<br><br>couples reminding each other what foods they can&#39;t eat, going to shows together, dancing until midnight, holding hands<br><br>if you ever need a reminder that love exists, retirees are the cure 🥹 <a href=\"https://t.co/mqJBNhHsQf\">pic.twitter.com/mqJBNhHsQf</a></p>&mdash; 👩‍💻 Paige Bailey (@DynamicWebPaige) <a href=\"https://twitter.com/DynamicWebPaige/status/1873801986757550398?ref_src=twsrc%5Etfw\">December 30, 2024</a></blockquote> <script async src=\"https://platform.twitter.com/widgets.js\" charset=\"utf-8\"></script>\n"
            ]
          },
          "metadata": {}
        }
      ]
    },
    {
      "cell_type": "markdown",
      "source": [
        "# 2️⃣ Ringing in the New Year in the Chilean Fjords (January 1 - 2, 2025)\n",
        "What better way to start the new year than by cruising through the stunning Chilean fjords? The scenery was absolutely mesmerizing, with towering mountains, cascading waterfalls, and the constant presence of the glaciers."
      ],
      "metadata": {
        "id": "HM_vZNqrAmUI"
      }
    },
    {
      "cell_type": "code",
      "source": [
        "#@title Timeline\n",
        "\n",
        "import calendar\n",
        "import datetime\n",
        "\n",
        "def create_january_2025_calendar():\n",
        "    \"\"\"Creates a formatted calendar for January 2025 with specific dates filled in.\"\"\"\n",
        "\n",
        "    # --- Styling ---\n",
        "    header_color = \"\\033[1;38;5;117m\"   # Bold Light Purple\n",
        "    weekday_color = \"\\033[38;5;253m\"    # Very Light Gray (almost white)\n",
        "    weekend_color = \"\\033[38;5;244m\"    # Medium Light Gray\n",
        "    filled_date_color = \"\\033[1;38;5;120;48;5;236m\"  # Bold Green on Dark Gray background\n",
        "    other_month_color = \"\\033[38;5;238m\" # Darker Gray for days not in January\n",
        "    reset_color = \"\\033[0m\"          # Reset color\n",
        "\n",
        "    # --- Filled Dates ---\n",
        "    filled_dates = [1, 2]  # Changed filled dates to 1, 2, 3, 4\n",
        "\n",
        "    # --- Calendar Creation ---\n",
        "    cal = calendar.Calendar(firstweekday=6)  # Start week on Sunday\n",
        "    jan_2025 = cal.monthdatescalendar(2025, 1)  # Changed year and month\n",
        "\n",
        "    # --- Header ---\n",
        "    print(f\"{header_color}       .: JANUARY 2025 :.{reset_color}\")  # Changed month and year\n",
        "    print(f\"{weekday_color}  Su  Mo  Tu  We  Th  Fr  Sa {reset_color}\")  # Added extra spaces\n",
        "\n",
        "    # --- Calendar Body ---\n",
        "    for week in jan_2025:\n",
        "        week_str = \"\"\n",
        "        for date in week:\n",
        "            day = date.day\n",
        "            if date.month != 1:  # Check for days not in January\n",
        "                # Dates outside of January in darker gray\n",
        "                week_str += f\"{other_month_color} {day:2} {reset_color}\"\n",
        "            elif day in filled_dates:\n",
        "                # Filled dates in green on dark gray background\n",
        "                week_str += f\"{filled_date_color} {day:2} {reset_color}\"\n",
        "            elif date.weekday() == 5 or date.weekday() == 6:\n",
        "                # Weekends in medium light gray\n",
        "                week_str += f\"{weekend_color} {day:2} {reset_color}\"\n",
        "            else:\n",
        "                # Weekdays in very light gray\n",
        "                week_str += f\"{weekday_color} {day:2} {reset_color}\"\n",
        "        print(week_str)\n",
        "\n",
        "# --- Run and Display the Calendar ---\n",
        "create_january_2025_calendar()"
      ],
      "metadata": {
        "colab": {
          "base_uri": "https://localhost:8080/"
        },
        "cellView": "form",
        "id": "4K0VJ-azWFpx",
        "outputId": "7256b998-9883-41d7-bf75-956bd6b7e2f8"
      },
      "execution_count": null,
      "outputs": [
        {
          "output_type": "stream",
          "name": "stdout",
          "text": [
            "\u001b[1;38;5;117m       .: JANUARY 2025 :.\u001b[0m\n",
            "\u001b[38;5;253m  Su  Mo  Tu  We  Th  Fr  Sa \u001b[0m\n",
            "\u001b[38;5;238m 29 \u001b[0m\u001b[38;5;238m 30 \u001b[0m\u001b[38;5;238m 31 \u001b[0m\u001b[1;38;5;120;48;5;236m  1 \u001b[0m\u001b[1;38;5;120;48;5;236m  2 \u001b[0m\u001b[38;5;253m  3 \u001b[0m\u001b[38;5;244m  4 \u001b[0m\n",
            "\u001b[38;5;244m  5 \u001b[0m\u001b[38;5;253m  6 \u001b[0m\u001b[38;5;253m  7 \u001b[0m\u001b[38;5;253m  8 \u001b[0m\u001b[38;5;253m  9 \u001b[0m\u001b[38;5;253m 10 \u001b[0m\u001b[38;5;244m 11 \u001b[0m\n",
            "\u001b[38;5;244m 12 \u001b[0m\u001b[38;5;253m 13 \u001b[0m\u001b[38;5;253m 14 \u001b[0m\u001b[38;5;253m 15 \u001b[0m\u001b[38;5;253m 16 \u001b[0m\u001b[38;5;253m 17 \u001b[0m\u001b[38;5;244m 18 \u001b[0m\n",
            "\u001b[38;5;244m 19 \u001b[0m\u001b[38;5;253m 20 \u001b[0m\u001b[38;5;253m 21 \u001b[0m\u001b[38;5;253m 22 \u001b[0m\u001b[38;5;253m 23 \u001b[0m\u001b[38;5;253m 24 \u001b[0m\u001b[38;5;244m 25 \u001b[0m\n",
            "\u001b[38;5;244m 26 \u001b[0m\u001b[38;5;253m 27 \u001b[0m\u001b[38;5;253m 28 \u001b[0m\u001b[38;5;253m 29 \u001b[0m\u001b[38;5;253m 30 \u001b[0m\u001b[38;5;253m 31 \u001b[0m\u001b[38;5;238m  1 \u001b[0m\n"
          ]
        }
      ]
    },
    {
      "cell_type": "code",
      "source": [
        "%%html\n",
        "<blockquote class=\"twitter-tweet\"><p lang=\"en\" dir=\"ltr\">✨🇨🇱 New Year&#39;s Day cruising the Chilean fjords! And the regular line of retirees in front of the window, taking in the scenery. :) <a href=\"https://t.co/pEbfl1itHi\">pic.twitter.com/pEbfl1itHi</a></p>&mdash; 👩‍💻 Paige Bailey (@DynamicWebPaige) <a href=\"https://twitter.com/DynamicWebPaige/status/1874432135202996463?ref_src=twsrc%5Etfw\">January 1, 2025</a></blockquote> <script async src=\"https://platform.twitter.com/widgets.js\" charset=\"utf-8\"></script>"
      ],
      "metadata": {
        "colab": {
          "base_uri": "https://localhost:8080/",
          "height": 612
        },
        "id": "h82GtG74q6PI",
        "outputId": "6eacf592-b396-450d-cd69-fea829718f38"
      },
      "execution_count": null,
      "outputs": [
        {
          "output_type": "display_data",
          "data": {
            "text/plain": [
              "<IPython.core.display.HTML object>"
            ],
            "text/html": [
              "<blockquote class=\"twitter-tweet\"><p lang=\"en\" dir=\"ltr\">✨🇨🇱 New Year&#39;s Day cruising the Chilean fjords! And the regular line of retirees in front of the window, taking in the scenery. :) <a href=\"https://t.co/pEbfl1itHi\">pic.twitter.com/pEbfl1itHi</a></p>&mdash; 👩‍💻 Paige Bailey (@DynamicWebPaige) <a href=\"https://twitter.com/DynamicWebPaige/status/1874432135202996463?ref_src=twsrc%5Etfw\">January 1, 2025</a></blockquote> <script async src=\"https://platform.twitter.com/widgets.js\" charset=\"utf-8\"></script>\n"
            ]
          },
          "metadata": {}
        }
      ]
    },
    {
      "cell_type": "markdown",
      "source": [
        "The sheer amount of meltwater pouring off the glaciers was a powerful sight."
      ],
      "metadata": {
        "id": "5tWVpRdfBBID"
      }
    },
    {
      "cell_type": "code",
      "source": [
        "%%html\n",
        "<blockquote class=\"twitter-tweet\"><p lang=\"en\" dir=\"ltr\">❄️🧊💦 So much melt coming off the glacier today... <a href=\"https://t.co/iF065tXkL2\">https://t.co/iF065tXkL2</a> <a href=\"https://t.co/Tv4hit5dmY\">pic.twitter.com/Tv4hit5dmY</a></p>&mdash; 👩‍💻 Paige Bailey (@DynamicWebPaige) <a href=\"https://twitter.com/DynamicWebPaige/status/1874528754976125136?ref_src=twsrc%5Etfw\">January 1, 2025</a></blockquote> <script async src=\"https://platform.twitter.com/widgets.js\" charset=\"utf-8\"></script>"
      ],
      "metadata": {
        "colab": {
          "base_uri": "https://localhost:8080/",
          "height": 1000
        },
        "id": "j4SjNPZ3qyhK",
        "outputId": "28966bf5-0f21-4b3c-c239-fa6fa6124d50"
      },
      "execution_count": null,
      "outputs": [
        {
          "output_type": "display_data",
          "data": {
            "text/plain": [
              "<IPython.core.display.HTML object>"
            ],
            "text/html": [
              "<blockquote class=\"twitter-tweet\"><p lang=\"en\" dir=\"ltr\">❄️🧊💦 So much melt coming off the glacier today... <a href=\"https://t.co/iF065tXkL2\">https://t.co/iF065tXkL2</a> <a href=\"https://t.co/Tv4hit5dmY\">pic.twitter.com/Tv4hit5dmY</a></p>&mdash; 👩‍💻 Paige Bailey (@DynamicWebPaige) <a href=\"https://twitter.com/DynamicWebPaige/status/1874528754976125136?ref_src=twsrc%5Etfw\">January 1, 2025</a></blockquote> <script async src=\"https://platform.twitter.com/widgets.js\" charset=\"utf-8\"></script>\n"
            ]
          },
          "metadata": {}
        }
      ]
    },
    {
      "cell_type": "code",
      "source": [
        "%%html\n",
        "<blockquote class=\"twitter-tweet\"><p lang=\"qme\" dir=\"ltr\">👋❄️🗻 <a href=\"https://t.co/t8VpXgRzcW\">pic.twitter.com/t8VpXgRzcW</a></p>&mdash; 👩‍💻 Paige Bailey (@DynamicWebPaige) <a href=\"https://twitter.com/DynamicWebPaige/status/1874543299308224853?ref_src=twsrc%5Etfw\">January 1, 2025</a></blockquote> <script async src=\"https://platform.twitter.com/widgets.js\" charset=\"utf-8\"></script>"
      ],
      "metadata": {
        "colab": {
          "base_uri": "https://localhost:8080/",
          "height": 564
        },
        "id": "3N6n8gd1rGfo",
        "outputId": "0d3e6492-3e78-48f8-a529-0314714a7798"
      },
      "execution_count": null,
      "outputs": [
        {
          "output_type": "display_data",
          "data": {
            "text/plain": [
              "<IPython.core.display.HTML object>"
            ],
            "text/html": [
              "<blockquote class=\"twitter-tweet\"><p lang=\"qme\" dir=\"ltr\">👋❄️🗻 <a href=\"https://t.co/t8VpXgRzcW\">pic.twitter.com/t8VpXgRzcW</a></p>&mdash; 👩‍💻 Paige Bailey (@DynamicWebPaige) <a href=\"https://twitter.com/DynamicWebPaige/status/1874543299308224853?ref_src=twsrc%5Etfw\">January 1, 2025</a></blockquote> <script async src=\"https://platform.twitter.com/widgets.js\" charset=\"utf-8\"></script>\n"
            ]
          },
          "metadata": {}
        }
      ]
    },
    {
      "cell_type": "markdown",
      "source": [
        "# 3️⃣ Volcanoes and sleepy German cities (January 3 - 5)\n",
        "\n",
        "No trip to this region would be complete without encountering its most famous residents: penguins! I was thrilled to see how well Gemini 2.0 could identify and understand these adorable creatures, and how much the SVG generation for penguins has improved over the last few weeks:"
      ],
      "metadata": {
        "id": "1RmZq_xWCyir"
      }
    },
    {
      "cell_type": "code",
      "source": [
        "#@title Timeline\n",
        "\n",
        "import calendar\n",
        "import datetime\n",
        "\n",
        "def create_january_2025_calendar():\n",
        "    \"\"\"Creates a formatted calendar for January 2025 with specific dates filled in.\"\"\"\n",
        "\n",
        "    # --- Styling ---\n",
        "    header_color = \"\\033[1;38;5;117m\"   # Bold Light Purple\n",
        "    weekday_color = \"\\033[38;5;253m\"    # Very Light Gray (almost white)\n",
        "    weekend_color = \"\\033[38;5;244m\"    # Medium Light Gray\n",
        "    filled_date_color = \"\\033[1;38;5;120;48;5;236m\"  # Bold Green on Dark Gray background\n",
        "    other_month_color = \"\\033[38;5;238m\" # Darker Gray for days not in January\n",
        "    reset_color = \"\\033[0m\"          # Reset color\n",
        "\n",
        "    # --- Filled Dates ---\n",
        "    filled_dates = [3, 4, 5]  # Changed filled dates to 1, 2, 3, 4\n",
        "\n",
        "    # --- Calendar Creation ---\n",
        "    cal = calendar.Calendar(firstweekday=6)  # Start week on Sunday\n",
        "    jan_2025 = cal.monthdatescalendar(2025, 1)  # Changed year and month\n",
        "\n",
        "    # --- Header ---\n",
        "    print(f\"{header_color}       .: JANUARY 2025 :.{reset_color}\")  # Changed month and year\n",
        "    print(f\"{weekday_color}  Su  Mo  Tu  We  Th  Fr  Sa {reset_color}\")  # Added extra spaces\n",
        "\n",
        "    # --- Calendar Body ---\n",
        "    for week in jan_2025:\n",
        "        week_str = \"\"\n",
        "        for date in week:\n",
        "            day = date.day\n",
        "            if date.month != 1:  # Check for days not in January\n",
        "                # Dates outside of January in darker gray\n",
        "                week_str += f\"{other_month_color} {day:2} {reset_color}\"\n",
        "            elif day in filled_dates:\n",
        "                # Filled dates in green on dark gray background\n",
        "                week_str += f\"{filled_date_color} {day:2} {reset_color}\"\n",
        "            elif date.weekday() == 5 or date.weekday() == 6:\n",
        "                # Weekends in medium light gray\n",
        "                week_str += f\"{weekend_color} {day:2} {reset_color}\"\n",
        "            else:\n",
        "                # Weekdays in very light gray\n",
        "                week_str += f\"{weekday_color} {day:2} {reset_color}\"\n",
        "        print(week_str)\n",
        "\n",
        "# --- Run and Display the Calendar ---\n",
        "create_january_2025_calendar()"
      ],
      "metadata": {
        "colab": {
          "base_uri": "https://localhost:8080/"
        },
        "cellView": "form",
        "id": "COahWQPRGc_0",
        "outputId": "dd9d5524-581c-4dbf-82f0-9608040abbf3"
      },
      "execution_count": null,
      "outputs": [
        {
          "output_type": "stream",
          "name": "stdout",
          "text": [
            "\u001b[1;38;5;117m       .: JANUARY 2025 :.\u001b[0m\n",
            "\u001b[38;5;253m  Su  Mo  Tu  We  Th  Fr  Sa \u001b[0m\n",
            "\u001b[38;5;238m 29 \u001b[0m\u001b[38;5;238m 30 \u001b[0m\u001b[38;5;238m 31 \u001b[0m\u001b[38;5;253m  1 \u001b[0m\u001b[38;5;253m  2 \u001b[0m\u001b[1;38;5;120;48;5;236m  3 \u001b[0m\u001b[1;38;5;120;48;5;236m  4 \u001b[0m\n",
            "\u001b[1;38;5;120;48;5;236m  5 \u001b[0m\u001b[38;5;253m  6 \u001b[0m\u001b[38;5;253m  7 \u001b[0m\u001b[38;5;253m  8 \u001b[0m\u001b[38;5;253m  9 \u001b[0m\u001b[38;5;253m 10 \u001b[0m\u001b[38;5;244m 11 \u001b[0m\n",
            "\u001b[38;5;244m 12 \u001b[0m\u001b[38;5;253m 13 \u001b[0m\u001b[38;5;253m 14 \u001b[0m\u001b[38;5;253m 15 \u001b[0m\u001b[38;5;253m 16 \u001b[0m\u001b[38;5;253m 17 \u001b[0m\u001b[38;5;244m 18 \u001b[0m\n",
            "\u001b[38;5;244m 19 \u001b[0m\u001b[38;5;253m 20 \u001b[0m\u001b[38;5;253m 21 \u001b[0m\u001b[38;5;253m 22 \u001b[0m\u001b[38;5;253m 23 \u001b[0m\u001b[38;5;253m 24 \u001b[0m\u001b[38;5;244m 25 \u001b[0m\n",
            "\u001b[38;5;244m 26 \u001b[0m\u001b[38;5;253m 27 \u001b[0m\u001b[38;5;253m 28 \u001b[0m\u001b[38;5;253m 29 \u001b[0m\u001b[38;5;253m 30 \u001b[0m\u001b[38;5;253m 31 \u001b[0m\u001b[38;5;238m  1 \u001b[0m\n"
          ]
        }
      ]
    },
    {
      "cell_type": "code",
      "source": [
        "%%html\n",
        "<blockquote class=\"twitter-tweet\"><p lang=\"en\" dir=\"ltr\">🐧🇦🇶 TIL Gemini 2.0 in <a href=\"https://twitter.com/googleaistudio?ref_src=twsrc%5Etfw\">@GoogleAIStudio</a> has gotten astonishingly good at penguins, and not a moment too soon: <a href=\"https://t.co/KuECcNpl5Y\">pic.twitter.com/KuECcNpl5Y</a></p>&mdash; 👩‍💻 Paige Bailey (@DynamicWebPaige) <a href=\"https://twitter.com/DynamicWebPaige/status/1875256883684229583?ref_src=twsrc%5Etfw\">January 3, 2025</a></blockquote> <script async src=\"https://platform.twitter.com/widgets.js\" charset=\"utf-8\"></script>"
      ],
      "metadata": {
        "colab": {
          "base_uri": "https://localhost:8080/",
          "height": 602
        },
        "id": "NfXiW2MNrdFf",
        "outputId": "3c62900f-3056-4803-8ab1-4c20a6ee64c3"
      },
      "execution_count": null,
      "outputs": [
        {
          "output_type": "display_data",
          "data": {
            "text/plain": [
              "<IPython.core.display.HTML object>"
            ],
            "text/html": [
              "<blockquote class=\"twitter-tweet\"><p lang=\"en\" dir=\"ltr\">🐧🇦🇶 TIL Gemini 2.0 in <a href=\"https://twitter.com/googleaistudio?ref_src=twsrc%5Etfw\">@GoogleAIStudio</a> has gotten astonishingly good at penguins, and not a moment too soon: <a href=\"https://t.co/KuECcNpl5Y\">pic.twitter.com/KuECcNpl5Y</a></p>&mdash; 👩‍💻 Paige Bailey (@DynamicWebPaige) <a href=\"https://twitter.com/DynamicWebPaige/status/1875256883684229583?ref_src=twsrc%5Etfw\">January 3, 2025</a></blockquote> <script async src=\"https://platform.twitter.com/widgets.js\" charset=\"utf-8\"></script>\n"
            ]
          },
          "metadata": {}
        }
      ]
    },
    {
      "cell_type": "markdown",
      "source": [
        "I've been using Colab and AI Studio to help document my journey and make it a bit more data-driven -- the integration with Gemini has been incredibly helpful. I was able to easily add geographical context to my notes by referencing Shackleton's expedition in the book _Endurance_."
      ],
      "metadata": {
        "id": "6v9lPdXQDM4c"
      }
    },
    {
      "cell_type": "code",
      "source": [
        "%%html\n",
        "<blockquote class=\"twitter-tweet\"><p lang=\"en\" dir=\"ltr\">📒 Am creating <a href=\"https://twitter.com/GoogleColab?ref_src=twsrc%5Etfw\">@GoogleColab</a> notebooks to document my cruise over winter break, and it&#39;s lovely to be able to:<br><br>1⃣ Ask <a href=\"https://twitter.com/googleaistudio?ref_src=twsrc%5Etfw\">@GoogleAIStudio</a> + <a href=\"https://twitter.com/Google?ref_src=twsrc%5Etfw\">@Google</a> Search grounding to add lat/long coordinates from locations mentioned in Endurance (which describes Shackleton&#39;s expedition); then<br><br>2⃣… <a href=\"https://t.co/oKTiRfyOOG\">pic.twitter.com/oKTiRfyOOG</a></p>&mdash; 👩‍💻 Paige Bailey (@DynamicWebPaige) <a href=\"https://twitter.com/DynamicWebPaige/status/1875249339708158178?ref_src=twsrc%5Etfw\">January 3, 2025</a></blockquote> <script async src=\"https://platform.twitter.com/widgets.js\" charset=\"utf-8\"></script>"
      ],
      "metadata": {
        "colab": {
          "base_uri": "https://localhost:8080/",
          "height": 743
        },
        "id": "P9ym93NDrjTh",
        "outputId": "a4fd8498-faf5-4089-820c-4af7be9a42fd"
      },
      "execution_count": null,
      "outputs": [
        {
          "output_type": "display_data",
          "data": {
            "text/plain": [
              "<IPython.core.display.HTML object>"
            ],
            "text/html": [
              "<blockquote class=\"twitter-tweet\"><p lang=\"en\" dir=\"ltr\">📒 Am creating <a href=\"https://twitter.com/GoogleColab?ref_src=twsrc%5Etfw\">@GoogleColab</a> notebooks to document my cruise over winter break, and it&#39;s lovely to be able to:<br><br>1⃣ Ask <a href=\"https://twitter.com/googleaistudio?ref_src=twsrc%5Etfw\">@GoogleAIStudio</a> + <a href=\"https://twitter.com/Google?ref_src=twsrc%5Etfw\">@Google</a> Search grounding to add lat/long coordinates from locations mentioned in Endurance (which describes Shackleton&#39;s expedition); then<br><br>2⃣… <a href=\"https://t.co/oKTiRfyOOG\">pic.twitter.com/oKTiRfyOOG</a></p>&mdash; 👩‍💻 Paige Bailey (@DynamicWebPaige) <a href=\"https://twitter.com/DynamicWebPaige/status/1875249339708158178?ref_src=twsrc%5Etfw\">January 3, 2025</a></blockquote> <script async src=\"https://platform.twitter.com/widgets.js\" charset=\"utf-8\"></script>\n"
            ]
          },
          "metadata": {}
        }
      ]
    },
    {
      "cell_type": "markdown",
      "source": [
        "And for the geology enthusiasts, I put together a map of notable volcanoes in South America using the `folium` library. The Oosterdam got to see many of these in the next section (travel to Puerto Montt, and Puerto Varas)."
      ],
      "metadata": {
        "id": "ULJqzO5DDoNk"
      }
    },
    {
      "cell_type": "code",
      "source": [
        "#@title Mapping volcanoes in Chile\n",
        "\n",
        "import folium\n",
        "import pandas as pd\n",
        "\n",
        "# Create a DataFrame from the volcano data\n",
        "data = {\n",
        "    'Volcano Name': ['Nevado del Huila', 'Cayambe', 'Antisana', 'Cotopaxi', 'Guagua Pichincha', 'Chimborazo', 'Pululahua', 'El Misti', 'Chachani', 'Tunupa', 'Licancabur', 'Llullaillaco', 'Ojos del Salado', 'Monte Pissis', 'Guallatiri', 'Lascar', 'Acamarachi', 'Villarrica', 'Osorno', 'Chaitén'],\n",
        "    'Country(s)': ['Colombia', 'Ecuador', 'Ecuador', 'Ecuador', 'Ecuador', 'Ecuador', 'Ecuador', 'Peru', 'Peru', 'Bolivia', 'Bolivia/Chile', 'Argentina/Chile', 'Argentina/Chile', 'Argentina', 'Chile', 'Chile', 'Chile', 'Chile', 'Chile', 'Chile'],\n",
        "    'Latitude': [2.93, 0.025, -0.4846, -0.6838, -0.17, -1.76, 0.07, -16, -16.28, -20.35, -22.91, -24.72, -27.11, -27.75, -18.42, -23.37, -23.30, -39.42, -41.10, -42.833],\n",
        "    'Longitude': [-76.03, -77.987, -78.1414, -78.4372, -78.60, -78.82, -78.47, -71, -71.53, -68.27, -67.89, -68.53, -68.54, -68.78, -69.09, -67.73, -67.62, -71.97, -72.49, -72.646],\n",
        "    'Notes': [\n",
        "        'One of the most active volcanoes in Colombia.',\n",
        "        'A large, glacier-covered stratovolcano.',\n",
        "        'Located on the eastern margin of the Cordillera Real.',\n",
        "        'Iconic, perfectly conical stratovolcano.',\n",
        "        'A stratovolcano with an avalanche caldera open to the west.',\n",
        "        'Highest volcano in Ecuador; potentially active.',\n",
        "        'A caldera with a unique ecosystem inside.',\n",
        "        'Symmetrical cone towering over Arequipa.',\n",
        "        'A large volcanic complex near Arequipa.',\n",
        "        'A large, complex volcano in the Bolivian Altiplano.',\n",
        "        'A stratovolcano with a crater lake.',\n",
        "        'High-altitude volcano on the border.',\n",
        "        'World\\'s highest active volcano.',\n",
        "        'Extinct volcano, third highest mountain in the Western Hemisphere.',\n",
        "        'Frequently vents steam and gas.',\n",
        "        'Frequently has small explosive eruptions.',\n",
        "        'A steep sided stratovolcano.',\n",
        "        'One of Chile\\'s most active volcanoes.',\n",
        "        'A beautiful, cone-shaped stratovolcano.',\n",
        "        'Erupted explosively in 2008.'\n",
        "    ]\n",
        "}\n",
        "df = pd.DataFrame(data)\n",
        "\n",
        "# Create a map centered on South America\n",
        "south_america_map = folium.Map(location=[-20, -65], zoom_start=3)\n",
        "\n",
        "title_html = '<h2 align=\"center\" style=\"font-size:20px\"><b>🌋 20 notable volcanoes in South America</b></h2>'\n",
        "south_america_map.get_root().html.add_child(folium.Element(title_html))\n",
        "\n",
        "# Add markers for each volcano\n",
        "for index, row in df.iterrows():\n",
        "    folium.Marker(\n",
        "        location=[row['Latitude'], row['Longitude']],\n",
        "        popup=folium.Popup(f\"<b>{row['Volcano Name']}</b><br>{row['Country(s)']}<br>{row['Notes']}\", max_width=350),\n",
        "        icon=folium.Icon(color='red', icon='info-sign')\n",
        "    ).add_to(south_america_map)\n",
        "\n",
        "south_america_map"
      ],
      "metadata": {
        "colab": {
          "base_uri": "https://localhost:8080/",
          "height": 649
        },
        "cellView": "form",
        "id": "8CVFOzix541g",
        "outputId": "32687419-1b02-4526-a948-ff4c46a20744"
      },
      "execution_count": null,
      "outputs": [
        {
          "output_type": "execute_result",
          "data": {
            "text/plain": [
              "<folium.folium.Map at 0x7a435c38bb20>"
            ],
            "text/html": [
              "<div style=\"width:100%;\"><div style=\"position:relative;width:100%;height:0;padding-bottom:60%;\"><span style=\"color:#565656\">Make this Notebook Trusted to load map: File -> Trust Notebook</span><iframe srcdoc=\"&lt;!DOCTYPE html&gt;\n",
              "&lt;html&gt;\n",
              "&lt;head&gt;\n",
              "    \n",
              "    &lt;meta http-equiv=&quot;content-type&quot; content=&quot;text/html; charset=UTF-8&quot; /&gt;\n",
              "    \n",
              "        &lt;script&gt;\n",
              "            L_NO_TOUCH = false;\n",
              "            L_DISABLE_3D = false;\n",
              "        &lt;/script&gt;\n",
              "    \n",
              "    &lt;style&gt;html, body {width: 100%;height: 100%;margin: 0;padding: 0;}&lt;/style&gt;\n",
              "    &lt;style&gt;#map {position:absolute;top:0;bottom:0;right:0;left:0;}&lt;/style&gt;\n",
              "    &lt;script src=&quot;https://cdn.jsdelivr.net/npm/leaflet@1.9.3/dist/leaflet.js&quot;&gt;&lt;/script&gt;\n",
              "    &lt;script src=&quot;https://code.jquery.com/jquery-3.7.1.min.js&quot;&gt;&lt;/script&gt;\n",
              "    &lt;script src=&quot;https://cdn.jsdelivr.net/npm/bootstrap@5.2.2/dist/js/bootstrap.bundle.min.js&quot;&gt;&lt;/script&gt;\n",
              "    &lt;script src=&quot;https://cdnjs.cloudflare.com/ajax/libs/Leaflet.awesome-markers/2.0.2/leaflet.awesome-markers.js&quot;&gt;&lt;/script&gt;\n",
              "    &lt;link rel=&quot;stylesheet&quot; href=&quot;https://cdn.jsdelivr.net/npm/leaflet@1.9.3/dist/leaflet.css&quot;/&gt;\n",
              "    &lt;link rel=&quot;stylesheet&quot; href=&quot;https://cdn.jsdelivr.net/npm/bootstrap@5.2.2/dist/css/bootstrap.min.css&quot;/&gt;\n",
              "    &lt;link rel=&quot;stylesheet&quot; href=&quot;https://netdna.bootstrapcdn.com/bootstrap/3.0.0/css/bootstrap-glyphicons.css&quot;/&gt;\n",
              "    &lt;link rel=&quot;stylesheet&quot; href=&quot;https://cdn.jsdelivr.net/npm/@fortawesome/fontawesome-free@6.2.0/css/all.min.css&quot;/&gt;\n",
              "    &lt;link rel=&quot;stylesheet&quot; href=&quot;https://cdnjs.cloudflare.com/ajax/libs/Leaflet.awesome-markers/2.0.2/leaflet.awesome-markers.css&quot;/&gt;\n",
              "    &lt;link rel=&quot;stylesheet&quot; href=&quot;https://cdn.jsdelivr.net/gh/python-visualization/folium/folium/templates/leaflet.awesome.rotate.min.css&quot;/&gt;\n",
              "    \n",
              "            &lt;meta name=&quot;viewport&quot; content=&quot;width=device-width,\n",
              "                initial-scale=1.0, maximum-scale=1.0, user-scalable=no&quot; /&gt;\n",
              "            &lt;style&gt;\n",
              "                #map_a5757b9c2dc6248b74205fd325b06c38 {\n",
              "                    position: relative;\n",
              "                    width: 100.0%;\n",
              "                    height: 100.0%;\n",
              "                    left: 0.0%;\n",
              "                    top: 0.0%;\n",
              "                }\n",
              "                .leaflet-container { font-size: 1rem; }\n",
              "            &lt;/style&gt;\n",
              "        \n",
              "&lt;/head&gt;\n",
              "&lt;body&gt;\n",
              "    \n",
              "    &lt;h2 align=&quot;center&quot; style=&quot;font-size:20px&quot;&gt;&lt;b&gt;🌋 20 notable volcanoes in South America&lt;/b&gt;&lt;/h2&gt;\n",
              "    \n",
              "            &lt;div class=&quot;folium-map&quot; id=&quot;map_a5757b9c2dc6248b74205fd325b06c38&quot; &gt;&lt;/div&gt;\n",
              "        \n",
              "&lt;/body&gt;\n",
              "&lt;script&gt;\n",
              "    \n",
              "    \n",
              "            var map_a5757b9c2dc6248b74205fd325b06c38 = L.map(\n",
              "                &quot;map_a5757b9c2dc6248b74205fd325b06c38&quot;,\n",
              "                {\n",
              "                    center: [-20.0, -65.0],\n",
              "                    crs: L.CRS.EPSG3857,\n",
              "                    ...{\n",
              "  &quot;zoom&quot;: 3,\n",
              "  &quot;zoomControl&quot;: true,\n",
              "  &quot;preferCanvas&quot;: false,\n",
              "}\n",
              "\n",
              "                }\n",
              "            );\n",
              "\n",
              "            \n",
              "\n",
              "        \n",
              "    \n",
              "            var tile_layer_fe1242fa42c48b241c255afb4221047e = L.tileLayer(\n",
              "                &quot;https://tile.openstreetmap.org/{z}/{x}/{y}.png&quot;,\n",
              "                {\n",
              "  &quot;minZoom&quot;: 0,\n",
              "  &quot;maxZoom&quot;: 19,\n",
              "  &quot;maxNativeZoom&quot;: 19,\n",
              "  &quot;noWrap&quot;: false,\n",
              "  &quot;attribution&quot;: &quot;\\u0026copy; \\u003ca href=\\&quot;https://www.openstreetmap.org/copyright\\&quot;\\u003eOpenStreetMap\\u003c/a\\u003e contributors&quot;,\n",
              "  &quot;subdomains&quot;: &quot;abc&quot;,\n",
              "  &quot;detectRetina&quot;: false,\n",
              "  &quot;tms&quot;: false,\n",
              "  &quot;opacity&quot;: 1,\n",
              "}\n",
              "\n",
              "            );\n",
              "        \n",
              "    \n",
              "            tile_layer_fe1242fa42c48b241c255afb4221047e.addTo(map_a5757b9c2dc6248b74205fd325b06c38);\n",
              "        \n",
              "    \n",
              "            var marker_02e491272215ca4d6a236c602254eb63 = L.marker(\n",
              "                [2.93, -76.03],\n",
              "                {\n",
              "}\n",
              "            ).addTo(map_a5757b9c2dc6248b74205fd325b06c38);\n",
              "        \n",
              "    \n",
              "            var icon_4a3fa9d3c0d942e4469647c5245594c1 = L.AwesomeMarkers.icon(\n",
              "                {\n",
              "  &quot;markerColor&quot;: &quot;red&quot;,\n",
              "  &quot;iconColor&quot;: &quot;white&quot;,\n",
              "  &quot;icon&quot;: &quot;info-sign&quot;,\n",
              "  &quot;prefix&quot;: &quot;glyphicon&quot;,\n",
              "  &quot;extraClasses&quot;: &quot;fa-rotate-0&quot;,\n",
              "}\n",
              "            );\n",
              "            marker_02e491272215ca4d6a236c602254eb63.setIcon(icon_4a3fa9d3c0d942e4469647c5245594c1);\n",
              "        \n",
              "    \n",
              "        var popup_1e2fda8ada39e90daac34e706dcce0d0 = L.popup({\n",
              "  &quot;maxWidth&quot;: 350,\n",
              "});\n",
              "\n",
              "        \n",
              "            \n",
              "                var html_e4b9c723507d1570cfebb590ebf9ceb0 = $(`&lt;div id=&quot;html_e4b9c723507d1570cfebb590ebf9ceb0&quot; style=&quot;width: 100.0%; height: 100.0%;&quot;&gt;&lt;b&gt;Nevado del Huila&lt;/b&gt;&lt;br&gt;Colombia&lt;br&gt;One of the most active volcanoes in Colombia.&lt;/div&gt;`)[0];\n",
              "                popup_1e2fda8ada39e90daac34e706dcce0d0.setContent(html_e4b9c723507d1570cfebb590ebf9ceb0);\n",
              "            \n",
              "        \n",
              "\n",
              "        marker_02e491272215ca4d6a236c602254eb63.bindPopup(popup_1e2fda8ada39e90daac34e706dcce0d0)\n",
              "        ;\n",
              "\n",
              "        \n",
              "    \n",
              "    \n",
              "            var marker_f6b64c2b25f1efa1956b0a39c67378f9 = L.marker(\n",
              "                [0.025, -77.987],\n",
              "                {\n",
              "}\n",
              "            ).addTo(map_a5757b9c2dc6248b74205fd325b06c38);\n",
              "        \n",
              "    \n",
              "            var icon_9452976b71bdd940c136fccd28695996 = L.AwesomeMarkers.icon(\n",
              "                {\n",
              "  &quot;markerColor&quot;: &quot;red&quot;,\n",
              "  &quot;iconColor&quot;: &quot;white&quot;,\n",
              "  &quot;icon&quot;: &quot;info-sign&quot;,\n",
              "  &quot;prefix&quot;: &quot;glyphicon&quot;,\n",
              "  &quot;extraClasses&quot;: &quot;fa-rotate-0&quot;,\n",
              "}\n",
              "            );\n",
              "            marker_f6b64c2b25f1efa1956b0a39c67378f9.setIcon(icon_9452976b71bdd940c136fccd28695996);\n",
              "        \n",
              "    \n",
              "        var popup_d917380eb375305caa349c9190c80db8 = L.popup({\n",
              "  &quot;maxWidth&quot;: 350,\n",
              "});\n",
              "\n",
              "        \n",
              "            \n",
              "                var html_bc71b8d70f1dffca589ee96eec686816 = $(`&lt;div id=&quot;html_bc71b8d70f1dffca589ee96eec686816&quot; style=&quot;width: 100.0%; height: 100.0%;&quot;&gt;&lt;b&gt;Cayambe&lt;/b&gt;&lt;br&gt;Ecuador&lt;br&gt;A large, glacier-covered stratovolcano.&lt;/div&gt;`)[0];\n",
              "                popup_d917380eb375305caa349c9190c80db8.setContent(html_bc71b8d70f1dffca589ee96eec686816);\n",
              "            \n",
              "        \n",
              "\n",
              "        marker_f6b64c2b25f1efa1956b0a39c67378f9.bindPopup(popup_d917380eb375305caa349c9190c80db8)\n",
              "        ;\n",
              "\n",
              "        \n",
              "    \n",
              "    \n",
              "            var marker_6d39d32722b6a8a521605bd64f16e790 = L.marker(\n",
              "                [-0.4846, -78.1414],\n",
              "                {\n",
              "}\n",
              "            ).addTo(map_a5757b9c2dc6248b74205fd325b06c38);\n",
              "        \n",
              "    \n",
              "            var icon_d004c9d853f01157e05ebe4ffa2f90c9 = L.AwesomeMarkers.icon(\n",
              "                {\n",
              "  &quot;markerColor&quot;: &quot;red&quot;,\n",
              "  &quot;iconColor&quot;: &quot;white&quot;,\n",
              "  &quot;icon&quot;: &quot;info-sign&quot;,\n",
              "  &quot;prefix&quot;: &quot;glyphicon&quot;,\n",
              "  &quot;extraClasses&quot;: &quot;fa-rotate-0&quot;,\n",
              "}\n",
              "            );\n",
              "            marker_6d39d32722b6a8a521605bd64f16e790.setIcon(icon_d004c9d853f01157e05ebe4ffa2f90c9);\n",
              "        \n",
              "    \n",
              "        var popup_a3584e855b0ebfe5c57960c66fc433e7 = L.popup({\n",
              "  &quot;maxWidth&quot;: 350,\n",
              "});\n",
              "\n",
              "        \n",
              "            \n",
              "                var html_a013e27c23de0d4105dab8cbc596c6c3 = $(`&lt;div id=&quot;html_a013e27c23de0d4105dab8cbc596c6c3&quot; style=&quot;width: 100.0%; height: 100.0%;&quot;&gt;&lt;b&gt;Antisana&lt;/b&gt;&lt;br&gt;Ecuador&lt;br&gt;Located on the eastern margin of the Cordillera Real.&lt;/div&gt;`)[0];\n",
              "                popup_a3584e855b0ebfe5c57960c66fc433e7.setContent(html_a013e27c23de0d4105dab8cbc596c6c3);\n",
              "            \n",
              "        \n",
              "\n",
              "        marker_6d39d32722b6a8a521605bd64f16e790.bindPopup(popup_a3584e855b0ebfe5c57960c66fc433e7)\n",
              "        ;\n",
              "\n",
              "        \n",
              "    \n",
              "    \n",
              "            var marker_b103015fc30fe336b49691810cc816a0 = L.marker(\n",
              "                [-0.6838, -78.4372],\n",
              "                {\n",
              "}\n",
              "            ).addTo(map_a5757b9c2dc6248b74205fd325b06c38);\n",
              "        \n",
              "    \n",
              "            var icon_61ea6c6d3739006bbe714e594e45d536 = L.AwesomeMarkers.icon(\n",
              "                {\n",
              "  &quot;markerColor&quot;: &quot;red&quot;,\n",
              "  &quot;iconColor&quot;: &quot;white&quot;,\n",
              "  &quot;icon&quot;: &quot;info-sign&quot;,\n",
              "  &quot;prefix&quot;: &quot;glyphicon&quot;,\n",
              "  &quot;extraClasses&quot;: &quot;fa-rotate-0&quot;,\n",
              "}\n",
              "            );\n",
              "            marker_b103015fc30fe336b49691810cc816a0.setIcon(icon_61ea6c6d3739006bbe714e594e45d536);\n",
              "        \n",
              "    \n",
              "        var popup_cd50ded695eb6114804b9be0f88d7020 = L.popup({\n",
              "  &quot;maxWidth&quot;: 350,\n",
              "});\n",
              "\n",
              "        \n",
              "            \n",
              "                var html_daebefabf399326333abc08067503de6 = $(`&lt;div id=&quot;html_daebefabf399326333abc08067503de6&quot; style=&quot;width: 100.0%; height: 100.0%;&quot;&gt;&lt;b&gt;Cotopaxi&lt;/b&gt;&lt;br&gt;Ecuador&lt;br&gt;Iconic, perfectly conical stratovolcano.&lt;/div&gt;`)[0];\n",
              "                popup_cd50ded695eb6114804b9be0f88d7020.setContent(html_daebefabf399326333abc08067503de6);\n",
              "            \n",
              "        \n",
              "\n",
              "        marker_b103015fc30fe336b49691810cc816a0.bindPopup(popup_cd50ded695eb6114804b9be0f88d7020)\n",
              "        ;\n",
              "\n",
              "        \n",
              "    \n",
              "    \n",
              "            var marker_1e2cf11735b8e0c193d6f8a4ec9ced4b = L.marker(\n",
              "                [-0.17, -78.6],\n",
              "                {\n",
              "}\n",
              "            ).addTo(map_a5757b9c2dc6248b74205fd325b06c38);\n",
              "        \n",
              "    \n",
              "            var icon_e4aea869ae0da7fe70cd2ce902f527b2 = L.AwesomeMarkers.icon(\n",
              "                {\n",
              "  &quot;markerColor&quot;: &quot;red&quot;,\n",
              "  &quot;iconColor&quot;: &quot;white&quot;,\n",
              "  &quot;icon&quot;: &quot;info-sign&quot;,\n",
              "  &quot;prefix&quot;: &quot;glyphicon&quot;,\n",
              "  &quot;extraClasses&quot;: &quot;fa-rotate-0&quot;,\n",
              "}\n",
              "            );\n",
              "            marker_1e2cf11735b8e0c193d6f8a4ec9ced4b.setIcon(icon_e4aea869ae0da7fe70cd2ce902f527b2);\n",
              "        \n",
              "    \n",
              "        var popup_a8825189b2a22397a207a2ac20c94896 = L.popup({\n",
              "  &quot;maxWidth&quot;: 350,\n",
              "});\n",
              "\n",
              "        \n",
              "            \n",
              "                var html_0226bddc0456bc4502d058d23e445e18 = $(`&lt;div id=&quot;html_0226bddc0456bc4502d058d23e445e18&quot; style=&quot;width: 100.0%; height: 100.0%;&quot;&gt;&lt;b&gt;Guagua Pichincha&lt;/b&gt;&lt;br&gt;Ecuador&lt;br&gt;A stratovolcano with an avalanche caldera open to the west.&lt;/div&gt;`)[0];\n",
              "                popup_a8825189b2a22397a207a2ac20c94896.setContent(html_0226bddc0456bc4502d058d23e445e18);\n",
              "            \n",
              "        \n",
              "\n",
              "        marker_1e2cf11735b8e0c193d6f8a4ec9ced4b.bindPopup(popup_a8825189b2a22397a207a2ac20c94896)\n",
              "        ;\n",
              "\n",
              "        \n",
              "    \n",
              "    \n",
              "            var marker_225680f191a52cba10a767f44cc422c3 = L.marker(\n",
              "                [-1.76, -78.82],\n",
              "                {\n",
              "}\n",
              "            ).addTo(map_a5757b9c2dc6248b74205fd325b06c38);\n",
              "        \n",
              "    \n",
              "            var icon_34a1efb3869964d8a63c4db0fe374449 = L.AwesomeMarkers.icon(\n",
              "                {\n",
              "  &quot;markerColor&quot;: &quot;red&quot;,\n",
              "  &quot;iconColor&quot;: &quot;white&quot;,\n",
              "  &quot;icon&quot;: &quot;info-sign&quot;,\n",
              "  &quot;prefix&quot;: &quot;glyphicon&quot;,\n",
              "  &quot;extraClasses&quot;: &quot;fa-rotate-0&quot;,\n",
              "}\n",
              "            );\n",
              "            marker_225680f191a52cba10a767f44cc422c3.setIcon(icon_34a1efb3869964d8a63c4db0fe374449);\n",
              "        \n",
              "    \n",
              "        var popup_46384b52ade53f62ae51c7b90ce24f94 = L.popup({\n",
              "  &quot;maxWidth&quot;: 350,\n",
              "});\n",
              "\n",
              "        \n",
              "            \n",
              "                var html_07e12e4f2e5f5cb49e9d090142ba1c75 = $(`&lt;div id=&quot;html_07e12e4f2e5f5cb49e9d090142ba1c75&quot; style=&quot;width: 100.0%; height: 100.0%;&quot;&gt;&lt;b&gt;Chimborazo&lt;/b&gt;&lt;br&gt;Ecuador&lt;br&gt;Highest volcano in Ecuador; potentially active.&lt;/div&gt;`)[0];\n",
              "                popup_46384b52ade53f62ae51c7b90ce24f94.setContent(html_07e12e4f2e5f5cb49e9d090142ba1c75);\n",
              "            \n",
              "        \n",
              "\n",
              "        marker_225680f191a52cba10a767f44cc422c3.bindPopup(popup_46384b52ade53f62ae51c7b90ce24f94)\n",
              "        ;\n",
              "\n",
              "        \n",
              "    \n",
              "    \n",
              "            var marker_190dacb10106f5e13e51e40e491d77f1 = L.marker(\n",
              "                [0.07, -78.47],\n",
              "                {\n",
              "}\n",
              "            ).addTo(map_a5757b9c2dc6248b74205fd325b06c38);\n",
              "        \n",
              "    \n",
              "            var icon_d81fa976e98270ebb2c9cab8f0115ee5 = L.AwesomeMarkers.icon(\n",
              "                {\n",
              "  &quot;markerColor&quot;: &quot;red&quot;,\n",
              "  &quot;iconColor&quot;: &quot;white&quot;,\n",
              "  &quot;icon&quot;: &quot;info-sign&quot;,\n",
              "  &quot;prefix&quot;: &quot;glyphicon&quot;,\n",
              "  &quot;extraClasses&quot;: &quot;fa-rotate-0&quot;,\n",
              "}\n",
              "            );\n",
              "            marker_190dacb10106f5e13e51e40e491d77f1.setIcon(icon_d81fa976e98270ebb2c9cab8f0115ee5);\n",
              "        \n",
              "    \n",
              "        var popup_4e086ca343eb75e432182773d83e0970 = L.popup({\n",
              "  &quot;maxWidth&quot;: 350,\n",
              "});\n",
              "\n",
              "        \n",
              "            \n",
              "                var html_62d8fba1fbfb86ab9e27cc82160f6aea = $(`&lt;div id=&quot;html_62d8fba1fbfb86ab9e27cc82160f6aea&quot; style=&quot;width: 100.0%; height: 100.0%;&quot;&gt;&lt;b&gt;Pululahua&lt;/b&gt;&lt;br&gt;Ecuador&lt;br&gt;A caldera with a unique ecosystem inside.&lt;/div&gt;`)[0];\n",
              "                popup_4e086ca343eb75e432182773d83e0970.setContent(html_62d8fba1fbfb86ab9e27cc82160f6aea);\n",
              "            \n",
              "        \n",
              "\n",
              "        marker_190dacb10106f5e13e51e40e491d77f1.bindPopup(popup_4e086ca343eb75e432182773d83e0970)\n",
              "        ;\n",
              "\n",
              "        \n",
              "    \n",
              "    \n",
              "            var marker_c66d7080c599c66100f4c8f0b9215b01 = L.marker(\n",
              "                [-16.0, -71.0],\n",
              "                {\n",
              "}\n",
              "            ).addTo(map_a5757b9c2dc6248b74205fd325b06c38);\n",
              "        \n",
              "    \n",
              "            var icon_630f722fde1d376f7b3cfcf811f89978 = L.AwesomeMarkers.icon(\n",
              "                {\n",
              "  &quot;markerColor&quot;: &quot;red&quot;,\n",
              "  &quot;iconColor&quot;: &quot;white&quot;,\n",
              "  &quot;icon&quot;: &quot;info-sign&quot;,\n",
              "  &quot;prefix&quot;: &quot;glyphicon&quot;,\n",
              "  &quot;extraClasses&quot;: &quot;fa-rotate-0&quot;,\n",
              "}\n",
              "            );\n",
              "            marker_c66d7080c599c66100f4c8f0b9215b01.setIcon(icon_630f722fde1d376f7b3cfcf811f89978);\n",
              "        \n",
              "    \n",
              "        var popup_f18094998d72598a3611909b84adc487 = L.popup({\n",
              "  &quot;maxWidth&quot;: 350,\n",
              "});\n",
              "\n",
              "        \n",
              "            \n",
              "                var html_cf3a4c4717ab67191cfd1710fcd5371c = $(`&lt;div id=&quot;html_cf3a4c4717ab67191cfd1710fcd5371c&quot; style=&quot;width: 100.0%; height: 100.0%;&quot;&gt;&lt;b&gt;El Misti&lt;/b&gt;&lt;br&gt;Peru&lt;br&gt;Symmetrical cone towering over Arequipa.&lt;/div&gt;`)[0];\n",
              "                popup_f18094998d72598a3611909b84adc487.setContent(html_cf3a4c4717ab67191cfd1710fcd5371c);\n",
              "            \n",
              "        \n",
              "\n",
              "        marker_c66d7080c599c66100f4c8f0b9215b01.bindPopup(popup_f18094998d72598a3611909b84adc487)\n",
              "        ;\n",
              "\n",
              "        \n",
              "    \n",
              "    \n",
              "            var marker_6326d9c560487c3e3bbc9496d3b53630 = L.marker(\n",
              "                [-16.28, -71.53],\n",
              "                {\n",
              "}\n",
              "            ).addTo(map_a5757b9c2dc6248b74205fd325b06c38);\n",
              "        \n",
              "    \n",
              "            var icon_1ff40a64aa44a65308aa9160e7eb805e = L.AwesomeMarkers.icon(\n",
              "                {\n",
              "  &quot;markerColor&quot;: &quot;red&quot;,\n",
              "  &quot;iconColor&quot;: &quot;white&quot;,\n",
              "  &quot;icon&quot;: &quot;info-sign&quot;,\n",
              "  &quot;prefix&quot;: &quot;glyphicon&quot;,\n",
              "  &quot;extraClasses&quot;: &quot;fa-rotate-0&quot;,\n",
              "}\n",
              "            );\n",
              "            marker_6326d9c560487c3e3bbc9496d3b53630.setIcon(icon_1ff40a64aa44a65308aa9160e7eb805e);\n",
              "        \n",
              "    \n",
              "        var popup_2acfbd0eae868d8e4b4dc63fda75159b = L.popup({\n",
              "  &quot;maxWidth&quot;: 350,\n",
              "});\n",
              "\n",
              "        \n",
              "            \n",
              "                var html_ab18cdff4b7d175f21124cd33d90ec1c = $(`&lt;div id=&quot;html_ab18cdff4b7d175f21124cd33d90ec1c&quot; style=&quot;width: 100.0%; height: 100.0%;&quot;&gt;&lt;b&gt;Chachani&lt;/b&gt;&lt;br&gt;Peru&lt;br&gt;A large volcanic complex near Arequipa.&lt;/div&gt;`)[0];\n",
              "                popup_2acfbd0eae868d8e4b4dc63fda75159b.setContent(html_ab18cdff4b7d175f21124cd33d90ec1c);\n",
              "            \n",
              "        \n",
              "\n",
              "        marker_6326d9c560487c3e3bbc9496d3b53630.bindPopup(popup_2acfbd0eae868d8e4b4dc63fda75159b)\n",
              "        ;\n",
              "\n",
              "        \n",
              "    \n",
              "    \n",
              "            var marker_d638963cb6e666a6c62696f6c2b2073c = L.marker(\n",
              "                [-20.35, -68.27],\n",
              "                {\n",
              "}\n",
              "            ).addTo(map_a5757b9c2dc6248b74205fd325b06c38);\n",
              "        \n",
              "    \n",
              "            var icon_13a6871e3983f8ef260866d731bd497d = L.AwesomeMarkers.icon(\n",
              "                {\n",
              "  &quot;markerColor&quot;: &quot;red&quot;,\n",
              "  &quot;iconColor&quot;: &quot;white&quot;,\n",
              "  &quot;icon&quot;: &quot;info-sign&quot;,\n",
              "  &quot;prefix&quot;: &quot;glyphicon&quot;,\n",
              "  &quot;extraClasses&quot;: &quot;fa-rotate-0&quot;,\n",
              "}\n",
              "            );\n",
              "            marker_d638963cb6e666a6c62696f6c2b2073c.setIcon(icon_13a6871e3983f8ef260866d731bd497d);\n",
              "        \n",
              "    \n",
              "        var popup_ecba1bd79ca1fbea522ecc5fb8b888b8 = L.popup({\n",
              "  &quot;maxWidth&quot;: 350,\n",
              "});\n",
              "\n",
              "        \n",
              "            \n",
              "                var html_b3f9e9bf15cfd5323f5211ce66145073 = $(`&lt;div id=&quot;html_b3f9e9bf15cfd5323f5211ce66145073&quot; style=&quot;width: 100.0%; height: 100.0%;&quot;&gt;&lt;b&gt;Tunupa&lt;/b&gt;&lt;br&gt;Bolivia&lt;br&gt;A large, complex volcano in the Bolivian Altiplano.&lt;/div&gt;`)[0];\n",
              "                popup_ecba1bd79ca1fbea522ecc5fb8b888b8.setContent(html_b3f9e9bf15cfd5323f5211ce66145073);\n",
              "            \n",
              "        \n",
              "\n",
              "        marker_d638963cb6e666a6c62696f6c2b2073c.bindPopup(popup_ecba1bd79ca1fbea522ecc5fb8b888b8)\n",
              "        ;\n",
              "\n",
              "        \n",
              "    \n",
              "    \n",
              "            var marker_7e61bd6534822cfa8589ee5adc2fc04e = L.marker(\n",
              "                [-22.91, -67.89],\n",
              "                {\n",
              "}\n",
              "            ).addTo(map_a5757b9c2dc6248b74205fd325b06c38);\n",
              "        \n",
              "    \n",
              "            var icon_c6d88060c2b01fd16da65a82e69a0520 = L.AwesomeMarkers.icon(\n",
              "                {\n",
              "  &quot;markerColor&quot;: &quot;red&quot;,\n",
              "  &quot;iconColor&quot;: &quot;white&quot;,\n",
              "  &quot;icon&quot;: &quot;info-sign&quot;,\n",
              "  &quot;prefix&quot;: &quot;glyphicon&quot;,\n",
              "  &quot;extraClasses&quot;: &quot;fa-rotate-0&quot;,\n",
              "}\n",
              "            );\n",
              "            marker_7e61bd6534822cfa8589ee5adc2fc04e.setIcon(icon_c6d88060c2b01fd16da65a82e69a0520);\n",
              "        \n",
              "    \n",
              "        var popup_b621414f75d59ae3c91db7eba7e0c04f = L.popup({\n",
              "  &quot;maxWidth&quot;: 350,\n",
              "});\n",
              "\n",
              "        \n",
              "            \n",
              "                var html_ec645f1b04a3852cb8d17855b2e0798a = $(`&lt;div id=&quot;html_ec645f1b04a3852cb8d17855b2e0798a&quot; style=&quot;width: 100.0%; height: 100.0%;&quot;&gt;&lt;b&gt;Licancabur&lt;/b&gt;&lt;br&gt;Bolivia/Chile&lt;br&gt;A stratovolcano with a crater lake.&lt;/div&gt;`)[0];\n",
              "                popup_b621414f75d59ae3c91db7eba7e0c04f.setContent(html_ec645f1b04a3852cb8d17855b2e0798a);\n",
              "            \n",
              "        \n",
              "\n",
              "        marker_7e61bd6534822cfa8589ee5adc2fc04e.bindPopup(popup_b621414f75d59ae3c91db7eba7e0c04f)\n",
              "        ;\n",
              "\n",
              "        \n",
              "    \n",
              "    \n",
              "            var marker_8e5ca75f09e2d849de3f161cb2c1108a = L.marker(\n",
              "                [-24.72, -68.53],\n",
              "                {\n",
              "}\n",
              "            ).addTo(map_a5757b9c2dc6248b74205fd325b06c38);\n",
              "        \n",
              "    \n",
              "            var icon_f5ffa275558bd022e02a960cecedeb17 = L.AwesomeMarkers.icon(\n",
              "                {\n",
              "  &quot;markerColor&quot;: &quot;red&quot;,\n",
              "  &quot;iconColor&quot;: &quot;white&quot;,\n",
              "  &quot;icon&quot;: &quot;info-sign&quot;,\n",
              "  &quot;prefix&quot;: &quot;glyphicon&quot;,\n",
              "  &quot;extraClasses&quot;: &quot;fa-rotate-0&quot;,\n",
              "}\n",
              "            );\n",
              "            marker_8e5ca75f09e2d849de3f161cb2c1108a.setIcon(icon_f5ffa275558bd022e02a960cecedeb17);\n",
              "        \n",
              "    \n",
              "        var popup_96e38668cf62d35d17b42637c5ad3184 = L.popup({\n",
              "  &quot;maxWidth&quot;: 350,\n",
              "});\n",
              "\n",
              "        \n",
              "            \n",
              "                var html_73214241a26855752a7a5831d46ddfbd = $(`&lt;div id=&quot;html_73214241a26855752a7a5831d46ddfbd&quot; style=&quot;width: 100.0%; height: 100.0%;&quot;&gt;&lt;b&gt;Llullaillaco&lt;/b&gt;&lt;br&gt;Argentina/Chile&lt;br&gt;High-altitude volcano on the border.&lt;/div&gt;`)[0];\n",
              "                popup_96e38668cf62d35d17b42637c5ad3184.setContent(html_73214241a26855752a7a5831d46ddfbd);\n",
              "            \n",
              "        \n",
              "\n",
              "        marker_8e5ca75f09e2d849de3f161cb2c1108a.bindPopup(popup_96e38668cf62d35d17b42637c5ad3184)\n",
              "        ;\n",
              "\n",
              "        \n",
              "    \n",
              "    \n",
              "            var marker_1f6188b8dfbf96659352a53a2d954c6c = L.marker(\n",
              "                [-27.11, -68.54],\n",
              "                {\n",
              "}\n",
              "            ).addTo(map_a5757b9c2dc6248b74205fd325b06c38);\n",
              "        \n",
              "    \n",
              "            var icon_07b649a227cbadeb26ad4018f260aa61 = L.AwesomeMarkers.icon(\n",
              "                {\n",
              "  &quot;markerColor&quot;: &quot;red&quot;,\n",
              "  &quot;iconColor&quot;: &quot;white&quot;,\n",
              "  &quot;icon&quot;: &quot;info-sign&quot;,\n",
              "  &quot;prefix&quot;: &quot;glyphicon&quot;,\n",
              "  &quot;extraClasses&quot;: &quot;fa-rotate-0&quot;,\n",
              "}\n",
              "            );\n",
              "            marker_1f6188b8dfbf96659352a53a2d954c6c.setIcon(icon_07b649a227cbadeb26ad4018f260aa61);\n",
              "        \n",
              "    \n",
              "        var popup_5c8e8343fe8a91606d52161c0667be86 = L.popup({\n",
              "  &quot;maxWidth&quot;: 350,\n",
              "});\n",
              "\n",
              "        \n",
              "            \n",
              "                var html_bafd80d55301a4aa5dfbee00f1ba2f79 = $(`&lt;div id=&quot;html_bafd80d55301a4aa5dfbee00f1ba2f79&quot; style=&quot;width: 100.0%; height: 100.0%;&quot;&gt;&lt;b&gt;Ojos del Salado&lt;/b&gt;&lt;br&gt;Argentina/Chile&lt;br&gt;World&#x27;s highest active volcano.&lt;/div&gt;`)[0];\n",
              "                popup_5c8e8343fe8a91606d52161c0667be86.setContent(html_bafd80d55301a4aa5dfbee00f1ba2f79);\n",
              "            \n",
              "        \n",
              "\n",
              "        marker_1f6188b8dfbf96659352a53a2d954c6c.bindPopup(popup_5c8e8343fe8a91606d52161c0667be86)\n",
              "        ;\n",
              "\n",
              "        \n",
              "    \n",
              "    \n",
              "            var marker_2996553b290eb58e836a0b401a14d3db = L.marker(\n",
              "                [-27.75, -68.78],\n",
              "                {\n",
              "}\n",
              "            ).addTo(map_a5757b9c2dc6248b74205fd325b06c38);\n",
              "        \n",
              "    \n",
              "            var icon_7e3369d49aafb5e673f28778c25f9377 = L.AwesomeMarkers.icon(\n",
              "                {\n",
              "  &quot;markerColor&quot;: &quot;red&quot;,\n",
              "  &quot;iconColor&quot;: &quot;white&quot;,\n",
              "  &quot;icon&quot;: &quot;info-sign&quot;,\n",
              "  &quot;prefix&quot;: &quot;glyphicon&quot;,\n",
              "  &quot;extraClasses&quot;: &quot;fa-rotate-0&quot;,\n",
              "}\n",
              "            );\n",
              "            marker_2996553b290eb58e836a0b401a14d3db.setIcon(icon_7e3369d49aafb5e673f28778c25f9377);\n",
              "        \n",
              "    \n",
              "        var popup_8448fdd77e8f0b4580530cfe412290d0 = L.popup({\n",
              "  &quot;maxWidth&quot;: 350,\n",
              "});\n",
              "\n",
              "        \n",
              "            \n",
              "                var html_fb3d3a706a8bb1a1385acc6afd637e5f = $(`&lt;div id=&quot;html_fb3d3a706a8bb1a1385acc6afd637e5f&quot; style=&quot;width: 100.0%; height: 100.0%;&quot;&gt;&lt;b&gt;Monte Pissis&lt;/b&gt;&lt;br&gt;Argentina&lt;br&gt;Extinct volcano, third highest mountain in the Western Hemisphere.&lt;/div&gt;`)[0];\n",
              "                popup_8448fdd77e8f0b4580530cfe412290d0.setContent(html_fb3d3a706a8bb1a1385acc6afd637e5f);\n",
              "            \n",
              "        \n",
              "\n",
              "        marker_2996553b290eb58e836a0b401a14d3db.bindPopup(popup_8448fdd77e8f0b4580530cfe412290d0)\n",
              "        ;\n",
              "\n",
              "        \n",
              "    \n",
              "    \n",
              "            var marker_8a9e0cc07fdeba949ff117745efc9231 = L.marker(\n",
              "                [-18.42, -69.09],\n",
              "                {\n",
              "}\n",
              "            ).addTo(map_a5757b9c2dc6248b74205fd325b06c38);\n",
              "        \n",
              "    \n",
              "            var icon_baa3290f317341bfeabcd5e08b97ad17 = L.AwesomeMarkers.icon(\n",
              "                {\n",
              "  &quot;markerColor&quot;: &quot;red&quot;,\n",
              "  &quot;iconColor&quot;: &quot;white&quot;,\n",
              "  &quot;icon&quot;: &quot;info-sign&quot;,\n",
              "  &quot;prefix&quot;: &quot;glyphicon&quot;,\n",
              "  &quot;extraClasses&quot;: &quot;fa-rotate-0&quot;,\n",
              "}\n",
              "            );\n",
              "            marker_8a9e0cc07fdeba949ff117745efc9231.setIcon(icon_baa3290f317341bfeabcd5e08b97ad17);\n",
              "        \n",
              "    \n",
              "        var popup_05dd908a97359a9902ef131d8697c805 = L.popup({\n",
              "  &quot;maxWidth&quot;: 350,\n",
              "});\n",
              "\n",
              "        \n",
              "            \n",
              "                var html_167eb4c221557d1a1315ca84c7f7c81a = $(`&lt;div id=&quot;html_167eb4c221557d1a1315ca84c7f7c81a&quot; style=&quot;width: 100.0%; height: 100.0%;&quot;&gt;&lt;b&gt;Guallatiri&lt;/b&gt;&lt;br&gt;Chile&lt;br&gt;Frequently vents steam and gas.&lt;/div&gt;`)[0];\n",
              "                popup_05dd908a97359a9902ef131d8697c805.setContent(html_167eb4c221557d1a1315ca84c7f7c81a);\n",
              "            \n",
              "        \n",
              "\n",
              "        marker_8a9e0cc07fdeba949ff117745efc9231.bindPopup(popup_05dd908a97359a9902ef131d8697c805)\n",
              "        ;\n",
              "\n",
              "        \n",
              "    \n",
              "    \n",
              "            var marker_9850da192c5f18471b8615dfcfbf8337 = L.marker(\n",
              "                [-23.37, -67.73],\n",
              "                {\n",
              "}\n",
              "            ).addTo(map_a5757b9c2dc6248b74205fd325b06c38);\n",
              "        \n",
              "    \n",
              "            var icon_8f8cd94db9411186108cbb90546032a5 = L.AwesomeMarkers.icon(\n",
              "                {\n",
              "  &quot;markerColor&quot;: &quot;red&quot;,\n",
              "  &quot;iconColor&quot;: &quot;white&quot;,\n",
              "  &quot;icon&quot;: &quot;info-sign&quot;,\n",
              "  &quot;prefix&quot;: &quot;glyphicon&quot;,\n",
              "  &quot;extraClasses&quot;: &quot;fa-rotate-0&quot;,\n",
              "}\n",
              "            );\n",
              "            marker_9850da192c5f18471b8615dfcfbf8337.setIcon(icon_8f8cd94db9411186108cbb90546032a5);\n",
              "        \n",
              "    \n",
              "        var popup_2b984af50fb7d2393565d784773bf162 = L.popup({\n",
              "  &quot;maxWidth&quot;: 350,\n",
              "});\n",
              "\n",
              "        \n",
              "            \n",
              "                var html_78a751c72218daa1288133a6a7759f1f = $(`&lt;div id=&quot;html_78a751c72218daa1288133a6a7759f1f&quot; style=&quot;width: 100.0%; height: 100.0%;&quot;&gt;&lt;b&gt;Lascar&lt;/b&gt;&lt;br&gt;Chile&lt;br&gt;Frequently has small explosive eruptions.&lt;/div&gt;`)[0];\n",
              "                popup_2b984af50fb7d2393565d784773bf162.setContent(html_78a751c72218daa1288133a6a7759f1f);\n",
              "            \n",
              "        \n",
              "\n",
              "        marker_9850da192c5f18471b8615dfcfbf8337.bindPopup(popup_2b984af50fb7d2393565d784773bf162)\n",
              "        ;\n",
              "\n",
              "        \n",
              "    \n",
              "    \n",
              "            var marker_940b74d951254169dab2a55ebf1fcd3d = L.marker(\n",
              "                [-23.3, -67.62],\n",
              "                {\n",
              "}\n",
              "            ).addTo(map_a5757b9c2dc6248b74205fd325b06c38);\n",
              "        \n",
              "    \n",
              "            var icon_97eb9b435f426c3200d51d6b6b829c12 = L.AwesomeMarkers.icon(\n",
              "                {\n",
              "  &quot;markerColor&quot;: &quot;red&quot;,\n",
              "  &quot;iconColor&quot;: &quot;white&quot;,\n",
              "  &quot;icon&quot;: &quot;info-sign&quot;,\n",
              "  &quot;prefix&quot;: &quot;glyphicon&quot;,\n",
              "  &quot;extraClasses&quot;: &quot;fa-rotate-0&quot;,\n",
              "}\n",
              "            );\n",
              "            marker_940b74d951254169dab2a55ebf1fcd3d.setIcon(icon_97eb9b435f426c3200d51d6b6b829c12);\n",
              "        \n",
              "    \n",
              "        var popup_32106adeed97e57d81b33a24451ecf12 = L.popup({\n",
              "  &quot;maxWidth&quot;: 350,\n",
              "});\n",
              "\n",
              "        \n",
              "            \n",
              "                var html_6bcb47675826eae6bcf45d752a36a2c9 = $(`&lt;div id=&quot;html_6bcb47675826eae6bcf45d752a36a2c9&quot; style=&quot;width: 100.0%; height: 100.0%;&quot;&gt;&lt;b&gt;Acamarachi&lt;/b&gt;&lt;br&gt;Chile&lt;br&gt;A steep sided stratovolcano.&lt;/div&gt;`)[0];\n",
              "                popup_32106adeed97e57d81b33a24451ecf12.setContent(html_6bcb47675826eae6bcf45d752a36a2c9);\n",
              "            \n",
              "        \n",
              "\n",
              "        marker_940b74d951254169dab2a55ebf1fcd3d.bindPopup(popup_32106adeed97e57d81b33a24451ecf12)\n",
              "        ;\n",
              "\n",
              "        \n",
              "    \n",
              "    \n",
              "            var marker_faab6666842ffe8a199a62929d3fe5db = L.marker(\n",
              "                [-39.42, -71.97],\n",
              "                {\n",
              "}\n",
              "            ).addTo(map_a5757b9c2dc6248b74205fd325b06c38);\n",
              "        \n",
              "    \n",
              "            var icon_4ccad38f2a460843c18e45ca9fa6864f = L.AwesomeMarkers.icon(\n",
              "                {\n",
              "  &quot;markerColor&quot;: &quot;red&quot;,\n",
              "  &quot;iconColor&quot;: &quot;white&quot;,\n",
              "  &quot;icon&quot;: &quot;info-sign&quot;,\n",
              "  &quot;prefix&quot;: &quot;glyphicon&quot;,\n",
              "  &quot;extraClasses&quot;: &quot;fa-rotate-0&quot;,\n",
              "}\n",
              "            );\n",
              "            marker_faab6666842ffe8a199a62929d3fe5db.setIcon(icon_4ccad38f2a460843c18e45ca9fa6864f);\n",
              "        \n",
              "    \n",
              "        var popup_8dbc4cfe9e6c5279c236b371cc198f49 = L.popup({\n",
              "  &quot;maxWidth&quot;: 350,\n",
              "});\n",
              "\n",
              "        \n",
              "            \n",
              "                var html_1854237951c9e740d18ac5a99b46c532 = $(`&lt;div id=&quot;html_1854237951c9e740d18ac5a99b46c532&quot; style=&quot;width: 100.0%; height: 100.0%;&quot;&gt;&lt;b&gt;Villarrica&lt;/b&gt;&lt;br&gt;Chile&lt;br&gt;One of Chile&#x27;s most active volcanoes.&lt;/div&gt;`)[0];\n",
              "                popup_8dbc4cfe9e6c5279c236b371cc198f49.setContent(html_1854237951c9e740d18ac5a99b46c532);\n",
              "            \n",
              "        \n",
              "\n",
              "        marker_faab6666842ffe8a199a62929d3fe5db.bindPopup(popup_8dbc4cfe9e6c5279c236b371cc198f49)\n",
              "        ;\n",
              "\n",
              "        \n",
              "    \n",
              "    \n",
              "            var marker_f401545d6942385300884c22c23131bf = L.marker(\n",
              "                [-41.1, -72.49],\n",
              "                {\n",
              "}\n",
              "            ).addTo(map_a5757b9c2dc6248b74205fd325b06c38);\n",
              "        \n",
              "    \n",
              "            var icon_333721f76dfd0521abfdb4dc94307ae2 = L.AwesomeMarkers.icon(\n",
              "                {\n",
              "  &quot;markerColor&quot;: &quot;red&quot;,\n",
              "  &quot;iconColor&quot;: &quot;white&quot;,\n",
              "  &quot;icon&quot;: &quot;info-sign&quot;,\n",
              "  &quot;prefix&quot;: &quot;glyphicon&quot;,\n",
              "  &quot;extraClasses&quot;: &quot;fa-rotate-0&quot;,\n",
              "}\n",
              "            );\n",
              "            marker_f401545d6942385300884c22c23131bf.setIcon(icon_333721f76dfd0521abfdb4dc94307ae2);\n",
              "        \n",
              "    \n",
              "        var popup_5b78070027026282af4ef053891f56e9 = L.popup({\n",
              "  &quot;maxWidth&quot;: 350,\n",
              "});\n",
              "\n",
              "        \n",
              "            \n",
              "                var html_9c9d719b10e40756bd0fcb7aeb055ae2 = $(`&lt;div id=&quot;html_9c9d719b10e40756bd0fcb7aeb055ae2&quot; style=&quot;width: 100.0%; height: 100.0%;&quot;&gt;&lt;b&gt;Osorno&lt;/b&gt;&lt;br&gt;Chile&lt;br&gt;A beautiful, cone-shaped stratovolcano.&lt;/div&gt;`)[0];\n",
              "                popup_5b78070027026282af4ef053891f56e9.setContent(html_9c9d719b10e40756bd0fcb7aeb055ae2);\n",
              "            \n",
              "        \n",
              "\n",
              "        marker_f401545d6942385300884c22c23131bf.bindPopup(popup_5b78070027026282af4ef053891f56e9)\n",
              "        ;\n",
              "\n",
              "        \n",
              "    \n",
              "    \n",
              "            var marker_802cc4d0c0727600e071caba2dc47e40 = L.marker(\n",
              "                [-42.833, -72.646],\n",
              "                {\n",
              "}\n",
              "            ).addTo(map_a5757b9c2dc6248b74205fd325b06c38);\n",
              "        \n",
              "    \n",
              "            var icon_d7e64e818895ae25d372803741a72fd3 = L.AwesomeMarkers.icon(\n",
              "                {\n",
              "  &quot;markerColor&quot;: &quot;red&quot;,\n",
              "  &quot;iconColor&quot;: &quot;white&quot;,\n",
              "  &quot;icon&quot;: &quot;info-sign&quot;,\n",
              "  &quot;prefix&quot;: &quot;glyphicon&quot;,\n",
              "  &quot;extraClasses&quot;: &quot;fa-rotate-0&quot;,\n",
              "}\n",
              "            );\n",
              "            marker_802cc4d0c0727600e071caba2dc47e40.setIcon(icon_d7e64e818895ae25d372803741a72fd3);\n",
              "        \n",
              "    \n",
              "        var popup_ed597ba52c26c01e1de639412273a90e = L.popup({\n",
              "  &quot;maxWidth&quot;: 350,\n",
              "});\n",
              "\n",
              "        \n",
              "            \n",
              "                var html_42b9cdcee4cbac30f4dfe3b7672bfad2 = $(`&lt;div id=&quot;html_42b9cdcee4cbac30f4dfe3b7672bfad2&quot; style=&quot;width: 100.0%; height: 100.0%;&quot;&gt;&lt;b&gt;Chaitén&lt;/b&gt;&lt;br&gt;Chile&lt;br&gt;Erupted explosively in 2008.&lt;/div&gt;`)[0];\n",
              "                popup_ed597ba52c26c01e1de639412273a90e.setContent(html_42b9cdcee4cbac30f4dfe3b7672bfad2);\n",
              "            \n",
              "        \n",
              "\n",
              "        marker_802cc4d0c0727600e071caba2dc47e40.bindPopup(popup_ed597ba52c26c01e1de639412273a90e)\n",
              "        ;\n",
              "\n",
              "        \n",
              "    \n",
              "&lt;/script&gt;\n",
              "&lt;/html&gt;\" style=\"position:absolute;width:100%;height:100%;left:0;top:0;border:none !important;\" allowfullscreen webkitallowfullscreen mozallowfullscreen></iframe></div></div>"
            ]
          },
          "metadata": {},
          "execution_count": 11
        }
      ]
    },
    {
      "cell_type": "markdown",
      "source": [
        "Technology has also played a crucial role in helping me appreciate the literary heritage of Chile. Gemini 2.0's ability to translate literature while preserving its original nuance is truly remarkable. It allowed me to connect with the works of Chilean authors on a deeper level."
      ],
      "metadata": {
        "id": "LhcDsHbMD5oq"
      }
    },
    {
      "cell_type": "code",
      "source": [
        "%%html\n",
        "<blockquote class=\"twitter-tweet\"><p lang=\"en\" dir=\"ltr\">📚 <a href=\"https://twitter.com/Google?ref_src=twsrc%5Etfw\">@Google</a> Translate&#39;s mobile app is stellar for quick 1:1 conversions from one language to another, but I really appreciate how well Gemini 2.0 and Gemini Exp 1206 can capture original nuance in literature.<br><br>This works either with Multimodal Live (via video and audio) or via… <a href=\"https://t.co/zCE94nFEbD\">https://t.co/zCE94nFEbD</a> <a href=\"https://t.co/TZnlBviDKT\">pic.twitter.com/TZnlBviDKT</a></p>&mdash; 👩‍💻 Paige Bailey (@DynamicWebPaige) <a href=\"https://twitter.com/DynamicWebPaige/status/1875510176351916510?ref_src=twsrc%5Etfw\">January 4, 2025</a></blockquote> <script async src=\"https://platform.twitter.com/widgets.js\" charset=\"utf-8\"></script>"
      ],
      "metadata": {
        "colab": {
          "base_uri": "https://localhost:8080/",
          "height": 1000
        },
        "id": "mtnqPgjZrtds",
        "outputId": "bae770d2-2131-4b96-87ef-b6eec1ee5272"
      },
      "execution_count": null,
      "outputs": [
        {
          "output_type": "display_data",
          "data": {
            "text/plain": [
              "<IPython.core.display.HTML object>"
            ],
            "text/html": [
              "<blockquote class=\"twitter-tweet\"><p lang=\"en\" dir=\"ltr\">📚 <a href=\"https://twitter.com/Google?ref_src=twsrc%5Etfw\">@Google</a> Translate&#39;s mobile app is stellar for quick 1:1 conversions from one language to another, but I really appreciate how well Gemini 2.0 and Gemini Exp 1206 can capture original nuance in literature.<br><br>This works either with Multimodal Live (via video and audio) or via… <a href=\"https://t.co/zCE94nFEbD\">https://t.co/zCE94nFEbD</a> <a href=\"https://t.co/TZnlBviDKT\">pic.twitter.com/TZnlBviDKT</a></p>&mdash; 👩‍💻 Paige Bailey (@DynamicWebPaige) <a href=\"https://twitter.com/DynamicWebPaige/status/1875510176351916510?ref_src=twsrc%5Etfw\">January 4, 2025</a></blockquote> <script async src=\"https://platform.twitter.com/widgets.js\" charset=\"utf-8\"></script>\n"
            ]
          },
          "metadata": {}
        }
      ]
    },
    {
      "cell_type": "markdown",
      "source": [
        "Our journey also took us to the picturesque Petrohue Cascades. We learned from the tour guide that `Petrohue` translates to `Place of the horseflies` - and though there were some of those along the way, they didn't distract too much from the beautiful geologic features."
      ],
      "metadata": {
        "id": "gh1WsJdeEF7d"
      }
    },
    {
      "cell_type": "code",
      "source": [
        "%%html\n",
        "<blockquote class=\"twitter-tweet\"><p lang=\"en\" dir=\"ltr\">🏞️ Beautiful Petrohue Cascades, with low-hanging clouds blocking the view of the (three!) nearby volcanoes.<br><br>Somehow the scenery reminds me of Japan – and Puerto Montt (our port city) looks a *lot* like Switzerland. <a href=\"https://t.co/hIdxpfNzul\">pic.twitter.com/hIdxpfNzul</a></p>&mdash; 👩‍💻 Paige Bailey (@DynamicWebPaige) <a href=\"https://twitter.com/DynamicWebPaige/status/1875545902007648344?ref_src=twsrc%5Etfw\">January 4, 2025</a></blockquote> <script async src=\"https://platform.twitter.com/widgets.js\" charset=\"utf-8\"></script>"
      ],
      "metadata": {
        "colab": {
          "base_uri": "https://localhost:8080/",
          "height": 660
        },
        "id": "lAHJgZkTr0Ot",
        "outputId": "82bbe669-bde9-4da3-8050-dc8e465f9f35"
      },
      "execution_count": null,
      "outputs": [
        {
          "output_type": "display_data",
          "data": {
            "text/plain": [
              "<IPython.core.display.HTML object>"
            ],
            "text/html": [
              "<blockquote class=\"twitter-tweet\"><p lang=\"en\" dir=\"ltr\">🏞️ Beautiful Petrohue Cascades, with low-hanging clouds blocking the view of the (three!) nearby volcanoes.<br><br>Somehow the scenery reminds me of Japan – and Puerto Montt (our port city) looks a *lot* like Switzerland. <a href=\"https://t.co/hIdxpfNzul\">pic.twitter.com/hIdxpfNzul</a></p>&mdash; 👩‍💻 Paige Bailey (@DynamicWebPaige) <a href=\"https://twitter.com/DynamicWebPaige/status/1875545902007648344?ref_src=twsrc%5Etfw\">January 4, 2025</a></blockquote> <script async src=\"https://platform.twitter.com/widgets.js\" charset=\"utf-8\"></script>\n"
            ]
          },
          "metadata": {}
        }
      ]
    },
    {
      "cell_type": "markdown",
      "source": [
        "The area around Puerto Montt, with its German-style architecture, stunning lakefront views (including volacanoes!) was a delightful surprise. There were even traditional German bakeries!"
      ],
      "metadata": {
        "id": "4vQltmopElEm"
      }
    },
    {
      "cell_type": "code",
      "source": [
        "%%html\n",
        "<blockquote class=\"twitter-tweet\"><p lang=\"en\" dir=\"ltr\">...and finally, all three volcanoes at the lakefront! ⛵ <br><br>This lake is (surface area) as large as NYC, and has both salmon and trout – not native, but artificially introduced. You can also see some of the traditional German-style homes: <a href=\"https://t.co/shAqLwXsxb\">pic.twitter.com/shAqLwXsxb</a></p>&mdash; 👩‍💻 Paige Bailey (@DynamicWebPaige) <a href=\"https://twitter.com/DynamicWebPaige/status/1875575465995596046?ref_src=twsrc%5Etfw\">January 4, 2025</a></blockquote> <script async src=\"https://platform.twitter.com/widgets.js\" charset=\"utf-8\"></script>"
      ],
      "metadata": {
        "colab": {
          "base_uri": "https://localhost:8080/",
          "height": 1000
        },
        "id": "GMSCs7EXrw7Y",
        "outputId": "d6fe5d2d-d6ef-42d6-b3b9-5177238e2f3a"
      },
      "execution_count": null,
      "outputs": [
        {
          "output_type": "display_data",
          "data": {
            "text/plain": [
              "<IPython.core.display.HTML object>"
            ],
            "text/html": [
              "<blockquote class=\"twitter-tweet\"><p lang=\"en\" dir=\"ltr\">...and finally, all three volcanoes at the lakefront! ⛵ <br><br>This lake is (surface area) as large as NYC, and has both salmon and trout – not native, but artificially introduced. You can also see some of the traditional German-style homes: <a href=\"https://t.co/shAqLwXsxb\">pic.twitter.com/shAqLwXsxb</a></p>&mdash; 👩‍💻 Paige Bailey (@DynamicWebPaige) <a href=\"https://twitter.com/DynamicWebPaige/status/1875575465995596046?ref_src=twsrc%5Etfw\">January 4, 2025</a></blockquote> <script async src=\"https://platform.twitter.com/widgets.js\" charset=\"utf-8\"></script>\n"
            ]
          },
          "metadata": {}
        }
      ]
    },
    {
      "cell_type": "markdown",
      "source": [
        "![](https://pbs.twimg.com/media/GgdsrrTWEAA-BcO?format=jpg&name=small)"
      ],
      "metadata": {
        "id": "8ge78W6GEv7R"
      }
    },
    {
      "cell_type": "markdown",
      "source": [
        "Amidst all the sightseeing, I managed to find time for another one of my passions: reading. There's nothing quite like enjoying a good book (or six) while surrounded by such incredible natural beauty.\n",
        "\n",
        "Some favorite book pairings for the cruise:\n",
        "* the Skyward series by Brandon Sanderson\n",
        "* _Player Piano_ by Kurt Vonnegut\n",
        "* _Extinction_\n",
        "* _Pastoralia_ by George Saunders\n",
        "* _Poemas y Antipoemas_ by Nicanor Parra\n",
        "* _Endurance_"
      ],
      "metadata": {
        "id": "04vKt8w2FLca"
      }
    },
    {
      "cell_type": "code",
      "source": [
        "%%html\n",
        "<blockquote class=\"twitter-tweet\"><p lang=\"en\" dir=\"ltr\">this winter break, I have returned 5 library books early, as a result of reading them before they were due<br><br>(mostly from a deck chair, looking at scenery like this 🥹)<br><br>we&#39;re going to call that a success.<br><br>excellent start to the new year, more than a person could&#39;ve hoped for ⛵ <a href=\"https://t.co/CbkF0AK8xu\">pic.twitter.com/CbkF0AK8xu</a></p>&mdash; 👩‍💻 Paige Bailey (@DynamicWebPaige) <a href=\"https://twitter.com/DynamicWebPaige/status/1875332449858961515?ref_src=twsrc%5Etfw\">January 4, 2025</a></blockquote> <script async src=\"https://platform.twitter.com/widgets.js\" charset=\"utf-8\"></script>"
      ],
      "metadata": {
        "colab": {
          "base_uri": "https://localhost:8080/",
          "height": 756
        },
        "id": "FMkkOJ_drpVq",
        "outputId": "00370c29-fdab-4cb0-b2b1-cf8e5a7bd509"
      },
      "execution_count": null,
      "outputs": [
        {
          "output_type": "display_data",
          "data": {
            "text/plain": [
              "<IPython.core.display.HTML object>"
            ],
            "text/html": [
              "<blockquote class=\"twitter-tweet\"><p lang=\"en\" dir=\"ltr\">this winter break, I have returned 5 library books early, as a result of reading them before they were due<br><br>(mostly from a deck chair, looking at scenery like this 🥹)<br><br>we&#39;re going to call that a success.<br><br>excellent start to the new year, more than a person could&#39;ve hoped for ⛵ <a href=\"https://t.co/CbkF0AK8xu\">pic.twitter.com/CbkF0AK8xu</a></p>&mdash; 👩‍💻 Paige Bailey (@DynamicWebPaige) <a href=\"https://twitter.com/DynamicWebPaige/status/1875332449858961515?ref_src=twsrc%5Etfw\">January 4, 2025</a></blockquote> <script async src=\"https://platform.twitter.com/widgets.js\" charset=\"utf-8\"></script>\n"
            ]
          },
          "metadata": {}
        }
      ]
    },
    {
      "cell_type": "code",
      "source": [
        "%%html\n",
        "<blockquote class=\"twitter-tweet\"><p lang=\"en\" dir=\"ltr\">For anyone in need of a satisfying and quick wintertime read: Brandon Sanderson&#39;s Skyward is effectively Top Gun in space, and with a girl protagonist. It&#39;s excellent. 🛩️👩‍✈️<br><br>***<br><br>“Why care so much? They never ask the most important question on these tests. Why do you want to be a… <a href=\"https://t.co/prkDUTrScj\">pic.twitter.com/prkDUTrScj</a></p>&mdash; 👩‍💻 Paige Bailey (@DynamicWebPaige) <a href=\"https://twitter.com/DynamicWebPaige/status/1870582497228341382?ref_src=twsrc%5Etfw\">December 21, 2024</a></blockquote> <script async src=\"https://platform.twitter.com/widgets.js\" charset=\"utf-8\"></script>"
      ],
      "metadata": {
        "colab": {
          "base_uri": "https://localhost:8080/",
          "height": 982
        },
        "id": "It_OQxADF3EL",
        "outputId": "6ee2937a-735c-4285-8df3-5140671afc04"
      },
      "execution_count": null,
      "outputs": [
        {
          "output_type": "display_data",
          "data": {
            "text/plain": [
              "<IPython.core.display.HTML object>"
            ],
            "text/html": [
              "<blockquote class=\"twitter-tweet\"><p lang=\"en\" dir=\"ltr\">For anyone in need of a satisfying and quick wintertime read: Brandon Sanderson&#39;s Skyward is effectively Top Gun in space, and with a girl protagonist. It&#39;s excellent. 🛩️👩‍✈️<br><br>***<br><br>“Why care so much? They never ask the most important question on these tests. Why do you want to be a… <a href=\"https://t.co/prkDUTrScj\">pic.twitter.com/prkDUTrScj</a></p>&mdash; 👩‍💻 Paige Bailey (@DynamicWebPaige) <a href=\"https://twitter.com/DynamicWebPaige/status/1870582497228341382?ref_src=twsrc%5Etfw\">December 21, 2024</a></blockquote> <script async src=\"https://platform.twitter.com/widgets.js\" charset=\"utf-8\"></script>\n"
            ]
          },
          "metadata": {}
        }
      ]
    },
    {
      "cell_type": "markdown",
      "source": [
        "# 🏔️ Final Reflections\n",
        "This journey to the end of the world has been more than just a trip; it was a life-changing experience, and something that I've been wanting to do since taking John Anderson's earth sciences courses back in undergrad.\n",
        "\n",
        "From the awe-inspiring landscapes to the encounters with wildlife and the echoes of literary giants, it was a reminder of the beauty, fragility, and interconnectedness of our planet."
      ],
      "metadata": {
        "id": "nstCyMjCBcGN"
      }
    },
    {
      "cell_type": "code",
      "source": [
        "%%html\n",
        "<blockquote class=\"twitter-tweet\"><p lang=\"en\" dir=\"ltr\">ngl, I think I&#39;m going to frame these and put them on my desk (with the penguin photos) 🤩🐧 <a href=\"https://twitter.com/HALcruises?ref_src=twsrc%5Etfw\">@HALcruises</a> <a href=\"https://t.co/KHnYS9bvDr\">https://t.co/KHnYS9bvDr</a> <a href=\"https://t.co/qJX2R4lM3U\">pic.twitter.com/qJX2R4lM3U</a></p>&mdash; 👩‍💻 Paige Bailey (@DynamicWebPaige) <a href=\"https://twitter.com/DynamicWebPaige/status/1873492253672681845?ref_src=twsrc%5Etfw\">December 29, 2024</a></blockquote> <script async src=\"https://platform.twitter.com/widgets.js\" charset=\"utf-8\"></script>"
      ],
      "metadata": {
        "colab": {
          "base_uri": "https://localhost:8080/",
          "height": 993
        },
        "id": "mVSy93NYpofT",
        "outputId": "06844947-dd33-44b3-ec2e-3db9096fc0aa"
      },
      "execution_count": null,
      "outputs": [
        {
          "output_type": "display_data",
          "data": {
            "text/plain": [
              "<IPython.core.display.HTML object>"
            ],
            "text/html": [
              "<blockquote class=\"twitter-tweet\"><p lang=\"en\" dir=\"ltr\">ngl, I think I&#39;m going to frame these and put them on my desk (with the penguin photos) 🤩🐧 <a href=\"https://twitter.com/HALcruises?ref_src=twsrc%5Etfw\">@HALcruises</a> <a href=\"https://t.co/KHnYS9bvDr\">https://t.co/KHnYS9bvDr</a> <a href=\"https://t.co/qJX2R4lM3U\">pic.twitter.com/qJX2R4lM3U</a></p>&mdash; 👩‍💻 Paige Bailey (@DynamicWebPaige) <a href=\"https://twitter.com/DynamicWebPaige/status/1873492253672681845?ref_src=twsrc%5Etfw\">December 29, 2024</a></blockquote> <script async src=\"https://platform.twitter.com/widgets.js\" charset=\"utf-8\"></script>\n"
            ]
          },
          "metadata": {}
        }
      ]
    },
    {
      "cell_type": "markdown",
      "source": [
        "And as an engineer, I'm excited by the potential of AI, particularly Google's Gemini models, to enhance our understanding of the world and help us connect with different cultures and environments in meaningful ways.\n",
        "\n",
        "Am also more convinced than ever that we need to envision new ways for this technology to help us understand the world - and to combat known issues like climate change. I encourage everyone to add this incredible region to their travel bucket list."
      ],
      "metadata": {
        "id": "DhrWtyuJB9v0"
      }
    },
    {
      "cell_type": "code",
      "source": [
        "%%html\n",
        "<blockquote class=\"twitter-tweet\"><p lang=\"en\" dir=\"ltr\">&quot;The flurry of <a href=\"https://twitter.com/Google?ref_src=twsrc%5Etfw\">@Google</a> product launches this December, based around the new Gemini 2.0 model are truly mind-blowing. New initiatives like <a href=\"https://twitter.com/labsdotgoogle?ref_src=twsrc%5Etfw\">@labsdotgoogle</a> Project Mariner and Project Astra show us for the first time what it looks like to have an AI embedded into our lives in all… <a href=\"https://t.co/7COxAbmbLl\">https://t.co/7COxAbmbLl</a></p>&mdash; 👩‍💻 Paige Bailey (@DynamicWebPaige) <a href=\"https://twitter.com/DynamicWebPaige/status/1874163619031650390?ref_src=twsrc%5Etfw\">December 31, 2024</a></blockquote> <script async src=\"https://platform.twitter.com/widgets.js\" charset=\"utf-8\"></script>"
      ],
      "metadata": {
        "colab": {
          "base_uri": "https://localhost:8080/",
          "height": 483
        },
        "id": "3mpN1sjnqpSg",
        "outputId": "fd34e15e-9e4d-4d85-9ce4-bfd4812ba022"
      },
      "execution_count": null,
      "outputs": [
        {
          "output_type": "display_data",
          "data": {
            "text/plain": [
              "<IPython.core.display.HTML object>"
            ],
            "text/html": [
              "<blockquote class=\"twitter-tweet\"><p lang=\"en\" dir=\"ltr\">&quot;The flurry of <a href=\"https://twitter.com/Google?ref_src=twsrc%5Etfw\">@Google</a> product launches this December, based around the new Gemini 2.0 model are truly mind-blowing. New initiatives like <a href=\"https://twitter.com/labsdotgoogle?ref_src=twsrc%5Etfw\">@labsdotgoogle</a> Project Mariner and Project Astra show us for the first time what it looks like to have an AI embedded into our lives in all… <a href=\"https://t.co/7COxAbmbLl\">https://t.co/7COxAbmbLl</a></p>&mdash; 👩‍💻 Paige Bailey (@DynamicWebPaige) <a href=\"https://twitter.com/DynamicWebPaige/status/1874163619031650390?ref_src=twsrc%5Etfw\">December 31, 2024</a></blockquote> <script async src=\"https://platform.twitter.com/widgets.js\" charset=\"utf-8\"></script>\n"
            ]
          },
          "metadata": {}
        }
      ]
    },
    {
      "cell_type": "markdown",
      "source": [
        "Here's to a 2025 that makes all previous years look slow."
      ],
      "metadata": {
        "id": "bxNHKDewqqmb"
      }
    },
    {
      "cell_type": "markdown",
      "source": [
        "![](https://pbs.twimg.com/media/GgeQG18WQAAbP8-?format=jpg&name=medium)"
      ],
      "metadata": {
        "id": "5_lGLtHysDAS"
      }
    }
  ]
}